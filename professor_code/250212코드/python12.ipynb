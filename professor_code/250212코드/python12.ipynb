{
 "cells": [
  {
   "cell_type": "code",
   "execution_count": 1,
   "id": "aab5412c-d32f-4f52-905f-1755d2a8bea9",
   "metadata": {},
   "outputs": [],
   "source": [
    "import requests\n",
    "\n",
    "headers = {\"User-Agent\": \"Mozilla/5.0 (Windows NT 11.0; Win64; x64)\"}\n",
    "\n",
    "url_naver = \"https://www.naver.com/\" # 네이버 주소\n",
    "\n",
    "try:\n",
    "    response = requests.get(url_naver, headers=headers)\n",
    "    # 200이외의 status 발생 시 except구문으로 빠짐\n",
    "    response.raise_for_status()\n",
    "except requests.exceptions.HTTPError as http_err:\n",
    "    print(http_err)\n",
    "except requests.exceptions.ConnectionError as conn_err:\n",
    "    print(conn_err)\n",
    "except requests.exceptions.Timeout as time_err:\n",
    "    print(time_err)\n",
    "except requests.exceptions.RequestException as err:\n",
    "    print(err)"
   ]
  },
  {
   "cell_type": "code",
   "execution_count": 2,
   "id": "12ea0a92-3720-4b51-bf2b-1c7d8a390027",
   "metadata": {},
   "outputs": [],
   "source": [
    "from bs4 import BeautifulSoup as bs"
   ]
  },
  {
   "cell_type": "code",
   "execution_count": 3,
   "id": "72297fbe-0424-4886-98ef-e83558d8bfc8",
   "metadata": {},
   "outputs": [
    {
     "name": "stdout",
     "output_type": "stream",
     "text": [
      "<html>\n",
      "\t<head>\n",
      "\t\t<title>예제 페이지</title>\n",
      "\t</head>\n",
      "\t<body>\n",
      "\t\t<h1>안녕하세요</h1>\n",
      "\t\t<p class=\"text\">웹 크롤링을 배우는 중입니다.</p> \t\t\t\n",
      "\t<a href=\"https://www.naver.com\">네이버</a>\n",
      "\t<a href=\"https://www.google.com\">구글</a>\n",
      "\t</body>\n",
      "</html>\n"
     ]
    }
   ],
   "source": [
    "# 연습용 html 하나 만들자\n",
    "# exam.html\n",
    "with open(\"exam.html\", \"r\", encoding=\"utf-8\") as file:\n",
    "    exam_html = file.read()\n",
    "\n",
    "print(exam_html)"
   ]
  },
  {
   "cell_type": "code",
   "execution_count": 4,
   "id": "03569eb0-829b-4a52-9125-03e43105efa2",
   "metadata": {},
   "outputs": [
    {
     "name": "stdout",
     "output_type": "stream",
     "text": [
      "예제 페이지\n"
     ]
    }
   ],
   "source": [
    "# find(태그)\n",
    "# 첫 번째로 보이는 태그의 시작 ~ 끝까지 가져온다\n",
    "# 반환 타입은 문자열!!\n",
    "\n",
    "soup_exam = bs(exam_html, \"html.parser\")\n",
    "title = soup_exam.find(\"title\").text\n",
    "print(title)"
   ]
  },
  {
   "cell_type": "code",
   "execution_count": 5,
   "id": "8f92b28a-c794-471a-82e6-0304fc361958",
   "metadata": {},
   "outputs": [
    {
     "name": "stdout",
     "output_type": "stream",
     "text": [
      "\n",
      "안녕하세요\n",
      "웹 크롤링을 배우는 중입니다.\n",
      "네이버\n",
      "구글\n",
      "\n"
     ]
    }
   ],
   "source": [
    "body = soup_exam.find(\"body\").text\n",
    "print(body)"
   ]
  },
  {
   "cell_type": "code",
   "execution_count": 6,
   "id": "3c982d06-5184-4aa8-9659-18c2c140ea97",
   "metadata": {},
   "outputs": [
    {
     "name": "stdout",
     "output_type": "stream",
     "text": [
      "h1 내용 : 안녕하세요\n"
     ]
    }
   ],
   "source": [
    "# Q. h1 태그 안의 내용을 h1이라는 변수에 저장하고 \n",
    "# 다음과 같이 출력하시오\n",
    "# h1 내용 : 안녕하세요\n",
    "\n",
    "h1 = soup_exam.find(\"h1\").text\n",
    "print(f\"h1 내용 : {h1}\")"
   ]
  },
  {
   "cell_type": "code",
   "execution_count": 7,
   "id": "1ac1520f-05d5-4e8f-b497-10950ae79f1d",
   "metadata": {},
   "outputs": [],
   "source": [
    "# 서울기술교육센터 취업정보 페이지\n",
    "url_stc = \"https://www.kccistc.net/bbs/bbsDetail.do?bbs_id=187&rootMenuId=3953&menuId=3959&currentPage=1&customer_page_list=&list_type=1&bbs_sno=220219&passwd=\"\n",
    "\n",
    "response2 = requests.get(url_stc, headers=headers)\n",
    "soup_stc = bs(response2.text, \"html.parser\")"
   ]
  },
  {
   "cell_type": "code",
   "execution_count": 8,
   "id": "ada95ad9-9840-40b3-8146-9ea8df9e655e",
   "metadata": {},
   "outputs": [
    {
     "name": "stdout",
     "output_type": "stream",
     "text": [
      "취업연계 교육\n"
     ]
    }
   ],
   "source": [
    "print(soup_stc.find(\"h2\").text)"
   ]
  },
  {
   "cell_type": "code",
   "execution_count": 9,
   "id": "e28e6ae1-6a8a-4cdc-9e20-1afd2f068540",
   "metadata": {},
   "outputs": [
    {
     "name": "stdout",
     "output_type": "stream",
     "text": [
      "['네이버', '구글']\n"
     ]
    }
   ],
   "source": [
    "# find_all(태그)\n",
    "# 태그가 포함되어 있는 모든 요소 반환!!\n",
    "a_tags = soup_exam.find_all(\"a\")\n",
    "\n",
    "result = []\n",
    "for a in a_tags:\n",
    "    result.append(a.text)\n",
    "\n",
    "print(result)"
   ]
  },
  {
   "cell_type": "code",
   "execution_count": 16,
   "id": "38f83f50-6e6f-4e1c-a915-0b473ce286a3",
   "metadata": {},
   "outputs": [
    {
     "name": "stdout",
     "output_type": "stream",
     "text": [
      "상단영역 바로가기\n",
      "서비스 메뉴 바로가기\n",
      "새소식 블록 바로가기\n",
      "쇼핑 블록 바로가기\n",
      "관심사 블록 바로가기\n"
     ]
    }
   ],
   "source": [
    "# Q. www.naver.com로 요청을 해서 응답 받은 reponse를 활용하여\n",
    "# soup_naver를 만들고\n",
    "soup_naver = bs(response.text, \"html.parser\")\n",
    "# \"a\"태그의 내용들을 가져오자\n",
    "# 너무 많으니 앞에 5개만 출력!!\n",
    "for a in soup_naver.find_all(\"a\")[:5]:\n",
    "    print(a.text)"
   ]
  },
  {
   "cell_type": "code",
   "execution_count": 17,
   "id": "d57c08ba-12c6-4304-b397-40d12537454d",
   "metadata": {},
   "outputs": [],
   "source": [
    "url_news = \"https://news.naver.com/section/105\"\n",
    "response_news = requests.get(url_news, headers=headers)"
   ]
  },
  {
   "cell_type": "code",
   "execution_count": 34,
   "id": "8614d2a8-2630-49da-b9cc-0d248a2bb977",
   "metadata": {},
   "outputs": [
    {
     "name": "stdout",
     "output_type": "stream",
     "text": [
      "AI 정상회의 '지속가능성' 화두로…韓 저전력 반도체 주목\n",
      "메타, 韓 AI 반도체 '퓨리오사AI' 인수 추진\n",
      "한미반도체, 주당 720원 현금배당 결정…창사 이래 최대\n",
      "한미반도체, 창사 이래 최대 배당…약 683억원 규모\n"
     ]
    }
   ],
   "source": [
    "# 10분 쉬었다\n",
    "# 기사 긁어옵시다\n",
    "soup_news = bs(response_news.text, \"html.parser\")\n",
    "# strong\n",
    "# a\n",
    "# 기사 제목 5개만 출력!! \n",
    "# 기사 제목 중 \"AI\"가 들어가는 기사 제목만 출력!!\n",
    "search = \"반도체\"\n",
    "for strong in soup_news.find_all(\"strong\"):\n",
    "    if search in strong.text:\n",
    "        print(strong.text)"
   ]
  },
  {
   "cell_type": "code",
   "execution_count": 39,
   "id": "08c1d055-e51a-4dc3-ac78-552608a6aac4",
   "metadata": {},
   "outputs": [
    {
     "name": "stdout",
     "output_type": "stream",
     "text": [
      "크래프톤, 2024년 영업이익 1조 돌파…매출도 창사 이래 최고\n",
      "KT \"10억 시스템 MS 코파일럿이 대신…대형 사업 7건 수주 성과\"\n",
      "적자에도 엔씨 \"순이익 30% 배당, 자사주 1270억원 소각\"\n",
      "AI 정상회의 '지속가능성' 화두로…韓 저전력 반도체 주목\n",
      "\"호흡만으로 폐암 조기 진단\"…AI 알고리즘 기술로 95% 정확도\n"
     ]
    }
   ],
   "source": [
    "# 선택자를 통해 데이터 가져오기\n",
    "# select(.클래스명)\n",
    "news_title_list = soup_news.select(\".sa_text_strong\")\n",
    "for news in news_title_list[:5]:\n",
    "    print(news.get_text())"
   ]
  },
  {
   "cell_type": "code",
   "execution_count": 52,
   "id": "ccca02e6-dfef-4367-bce6-e81eba9097a6",
   "metadata": {},
   "outputs": [
    {
     "name": "stdout",
     "output_type": "stream",
     "text": [
      "['https://news.nate.com/recent?cate=its&mid=n0601&type=c&date=20250212&page=1', 'https://news.nate.com/recent?cate=its&mid=n0601&type=c&date=20250212&page=2', 'https://news.nate.com/recent?cate=its&mid=n0601&type=c&date=20250212&page=3', 'https://news.nate.com/recent?cate=its&mid=n0601&type=c&date=20250212&page=4', 'https://news.nate.com/recent?cate=its&mid=n0601&type=c&date=20250212&page=5', 'https://news.nate.com/recent?cate=its&mid=n0601&type=c&date=20250212&page=6', 'https://news.nate.com/recent?cate=its&mid=n0601&type=c&date=20250212&page=7', 'https://news.nate.com/recent?cate=its&mid=n0601&type=c&date=20250212&page=8', 'https://news.nate.com/recent?cate=its&mid=n0601&type=c&date=20250212&page=9', 'https://news.nate.com/recent?cate=its&mid=n0601&type=c&date=20250212&page=10']\n"
     ]
    }
   ],
   "source": [
    "date = \"20250212\"\n",
    "page = 1\n",
    "url_nate = f\"https://news.nate.com/recent?cate=its&mid=n0601&type=c&date={date}&page={page}\"\n",
    "\n",
    "url_nate_list = []\n",
    "for i in range(1, 11):\n",
    "    url_nate_list.append(f\"https://news.nate.com/recent?cate=its&mid=n0601&type=c&date={date}&page={i}\")\n",
    "\n",
    "print(url_nate_list)"
   ]
  },
  {
   "cell_type": "code",
   "execution_count": 61,
   "id": "7bcd1621-81ea-42c0-a217-a84ea83748db",
   "metadata": {},
   "outputs": [
    {
     "name": "stdout",
     "output_type": "stream",
     "text": [
      "<Response [200]>\n"
     ]
    }
   ],
   "source": [
    "response_nate = requests.get(url_nate, headers=headers)\n",
    "\n",
    "response_nate_list = []\n",
    "\n",
    "import time\n",
    "\n",
    "for i in range(10):\n",
    "    response_nate_list.append(requests.get(url_nate_list[i], headers=headers))\n",
    "    time.sleep(0.1) # 요청 10개를 0.1초 간격으로 보냄"
   ]
  },
  {
   "cell_type": "code",
   "execution_count": 73,
   "id": "cfe418ab-0c68-4ba5-85bb-df5e37fd6a39",
   "metadata": {},
   "outputs": [],
   "source": [
    "soup_nate_list = []\n",
    "for i in range(10):\n",
    "    soup_nate_list.append(bs(response_nate_list[i].text, \"html.parser\"))"
   ]
  },
  {
   "cell_type": "code",
   "execution_count": 76,
   "id": "ea018692-c3ca-41af-a378-3e1b0cc5cb8a",
   "metadata": {},
   "outputs": [],
   "source": [
    "news_title = []\n",
    "for i in range(10):\n",
    "    title_list = soup_nate_list[i].select(\".tit\")\n",
    "    for title in title_list:\n",
    "        if \"반도체\" in title.get_text():\n",
    "            news_title.append(title.get_text())"
   ]
  },
  {
   "cell_type": "code",
   "execution_count": 77,
   "id": "6913fa30-6c61-403b-9b1a-887cdb7141f9",
   "metadata": {},
   "outputs": [
    {
     "data": {
      "text/plain": [
       "['중국 거센 추격에 미국 관세 압박까지…겹악재 맞은 K반도체',\n",
       " '\"메타, 한국 AI 반도체 스타트업 \\'퓨리오사AI\\' 인수 논의\"',\n",
       " \"AI 정상회의 '지속가능성' 화두로…韓 저전력 반도체 주목\"]"
      ]
     },
     "execution_count": 77,
     "metadata": {},
     "output_type": "execute_result"
    }
   ],
   "source": [
    "news_title"
   ]
  },
  {
   "cell_type": "code",
   "execution_count": 51,
   "id": "2528816e-5a31-44ca-9d81-e3187cf2aa98",
   "metadata": {
    "scrolled": true
   },
   "outputs": [
    {
     "data": {
      "text/plain": [
       "[\"삼성전자, 'AI 기능 강화' 55형 OLED TV 새모델 출시\", \"'올해의 KAIST인상'에 공경철 기계공학과 교수\"]"
      ]
     },
     "execution_count": 51,
     "metadata": {},
     "output_type": "execute_result"
    }
   ],
   "source": [
    "soup_nate = bs(response_nate.text, \"html.parser\")\n",
    "news_title = []\n",
    "title_list = soup_nate.select(\".tit\")\n",
    "for title in title_list:\n",
    "    if \"AI\" in title.get_text():\n",
    "        news_title.append(title.get_text())\n",
    "\n",
    "news_title\n",
    "# 심화) 20250211, 20250210 등의 기사들도 수집해보자"
   ]
  },
  {
   "cell_type": "code",
   "execution_count": null,
   "id": "88d4ddb7-02aa-4aba-9eb5-70633012a9b8",
   "metadata": {},
   "outputs": [],
   "source": [
    "# 스크래핑, 크롤링 하기 위해\n",
    "# 원하는 데이터가 들어 있는 <태그>, 선택자!!\n",
    "# 잘 선택하셔서\n",
    "# 데이터 잘 들어오길 기도!! (참고로 저는 무교)"
   ]
  },
  {
   "cell_type": "code",
   "execution_count": null,
   "id": "268ccca3-93ba-4252-a5b3-0bf2a489665f",
   "metadata": {},
   "outputs": [],
   "source": []
  },
  {
   "cell_type": "code",
   "execution_count": null,
   "id": "70d90264-9641-4541-bcd5-b0a03dd028fb",
   "metadata": {},
   "outputs": [],
   "source": []
  },
  {
   "cell_type": "code",
   "execution_count": null,
   "id": "4237d8b7-1130-4f8e-8ef0-579556202a4f",
   "metadata": {},
   "outputs": [],
   "source": []
  },
  {
   "cell_type": "code",
   "execution_count": null,
   "id": "ddee2bf3-8021-4772-93af-c0d82a5fae95",
   "metadata": {},
   "outputs": [],
   "source": []
  }
 ],
 "metadata": {
  "kernelspec": {
   "display_name": "Python 3 (ipykernel)",
   "language": "python",
   "name": "python3"
  },
  "language_info": {
   "codemirror_mode": {
    "name": "ipython",
    "version": 3
   },
   "file_extension": ".py",
   "mimetype": "text/x-python",
   "name": "python",
   "nbconvert_exporter": "python",
   "pygments_lexer": "ipython3",
   "version": "3.9.21"
  }
 },
 "nbformat": 4,
 "nbformat_minor": 5
}
