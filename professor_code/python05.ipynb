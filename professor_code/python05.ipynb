{
 "cells": [
  {
   "cell_type": "markdown",
   "id": "92e5f6d3-b2bc-4e3f-9226-3c879dea0069",
   "metadata": {},
   "source": [
    "### 정렬\n",
    "- 데이터를 효율적으로 탐색하기 위해\n",
    "- 크기(일정한 규칙)등으로 나열"
   ]
  },
  {
   "cell_type": "code",
   "execution_count": 15,
   "id": "4ab26175-284e-4d69-9c55-a558e2e7bd02",
   "metadata": {},
   "outputs": [
    {
     "name": "stdout",
     "output_type": "stream",
     "text": [
      "[99, 88, 77, 66, 55]\n",
      "[88, 77, 66, 55, 99]\n",
      "[77, 66, 55, 88, 99]\n",
      "[66, 55, 77, 88, 99]\n",
      "[55, 66, 77, 88, 99]\n"
     ]
    }
   ],
   "source": [
    "list1 = [99, 88, 77, 66, 55]\n",
    "print(list1)\n",
    "# 오름차순 정렬(Ascending Sort)\n",
    "\n",
    "# 버블 정렬(Bubble Sort)\n",
    "# 정렬 알고리즘 중 가장 느림\n",
    "# 코드적으로 가장 쉬움, 88, 77, 66, 55]\n",
    "print(list1)\n",
    "# 오름차순 정렬(Ascending Sort)\n",
    "\n",
    "# 버블 정렬(Bubble Sort)\n",
    "# 정렬 알고리즘 중 가장 느림\n",
    "# 코드적으로 가장 쉬움\n",
    "for j in range(4, 0, -1):\n",
    "    for i in range(4):\n",
    "        if list1[i] > list1[i + 1]:\n",
    "            list1[i], list1[i + 1] = list1[i + 1], list1[i]\n",
    "    print(list1)"
   ]
  },
  {
   "cell_type": "markdown",
   "id": "c539834e-0719-4c9e-a3d1-ed5a285beb87",
   "metadata": {},
   "source": [
    "### 치환 (Swap)\n",
    "- 두 데이터를 교환\n"
   ]
  },
  {
   "cell_type": "code",
   "execution_count": 2,
   "id": "d3f4c3de-f652-419f-b4d0-578592990136",
   "metadata": {},
   "outputs": [
    {
     "name": "stdout",
     "output_type": "stream",
     "text": [
      "10\n",
      "3\n"
     ]
    }
   ],
   "source": [
    "# Python 치환\n",
    "a = 3\n",
    "b = 10\n",
    "a, b = b, a\n",
    "print(a)\n",
    "print(b)"
   ]
  },
  {
   "cell_type": "code",
   "execution_count": 20,
   "id": "7b522c33-8b94-4817-9445-4bfdc8c2a74c",
   "metadata": {},
   "outputs": [
    {
     "name": "stdout",
     "output_type": "stream",
     "text": [
      "[99, 88, 77, 66, 55]\n",
      "[55, 88, 77, 66, 99]\n",
      "[55, 66, 77, 88, 99]\n",
      "[55, 66, 77, 88, 99]\n",
      "[55, 66, 77, 88, 99]\n"
     ]
    }
   ],
   "source": [
    "# 선택 정렬 (Selection Sort)\n",
    "# 가장 큰 값(작은 값)의 index를 통해\n",
    "# 1번의 cycle종료 시 치환 1회 진행\n",
    "list2 = [99, 88, 77, 66, 55]\n",
    "print(list2)\n",
    "\n",
    "for j in range(5, 1, -1):\n",
    "    max_index = 0\n",
    "    for i in range(j):\n",
    "        if list2[i] > list2[max_index]:\n",
    "            max_index = i\n",
    "    list2[j - 1], list2[max_index] = list2[max_index], list2[j - 1]\n",
    "    print(list2)"
   ]
  },
  {
   "cell_type": "code",
   "execution_count": 33,
   "id": "4ed24d68-7e59-4c73-bf1f-e15b9c27e423",
   "metadata": {},
   "outputs": [
    {
     "name": "stdout",
     "output_type": "stream",
     "text": [
      "[1, 15, 22, 23, 24, 27, 63, 77, 94]\n",
      "7\n"
     ]
    }
   ],
   "source": [
    "list3 = [24, 27, 15, 22, 1, 63, 94, 77, 23]\n",
    "list3.sort()\n",
    "print(list3)\n",
    "\n",
    "# 63이 어느 index에 있는지 탐색!!!\n",
    "# 단, list3는 오름차순 정렬!!\n",
    "\n",
    "# 이진 탐색 (Binary Search)\n",
    "n = len(list3) # n : 9\n",
    "low_index = 0\n",
    "high_index = n - 1\n",
    "mid_index = (low_index + high_index) // 2\n",
    "search = 77\n",
    "while True:\n",
    "    if low_index > high_index:\n",
    "        print(\"찾는 값이 없습니다\")\n",
    "        break\n",
    "    if search == list3[mid_index]:\n",
    "        print(mid_index)\n",
    "        break\n",
    "    elif search > list3[mid_index]:\n",
    "        low_index = mid_index + 1\n",
    "        mid_index = (low_index + high_index) // 2\n",
    "    elif search < list3[mid_index]:\n",
    "        high_index = mid_index - 1\n",
    "        mid_index = (low_index + high_index) // 2"
   ]
  },
  {
   "cell_type": "code",
   "execution_count": 34,
   "id": "9d0228fd-28e7-47ca-851d-146d0c2ead72",
   "metadata": {},
   "outputs": [
    {
     "name": "stdout",
     "output_type": "stream",
     "text": [
      "{}\n",
      "{'name': '나예호'}\n",
      "{1: 2, 3: 5}\n"
     ]
    }
   ],
   "source": [
    "# dictionary\n",
    "# key - value 쌍을 가지고 있는 자료형\n",
    "a = {}\n",
    "b = {\"name\" : \"나예호\"}\n",
    "c = {1 : 2, 3 : 5}\n",
    "print(a)\n",
    "print(b)\n",
    "print(c)"
   ]
  },
  {
   "cell_type": "code",
   "execution_count": 36,
   "id": "4165ae11-7313-424a-8489-4e9c96f03c45",
   "metadata": {},
   "outputs": [
    {
     "name": "stdout",
     "output_type": "stream",
     "text": [
      "{'name': '나예호', 'age': 20, 'mbti': 'ENFJ'}\n",
      "{'name': '나예호', 'age': 20, 'mbti': 'ENFJ', 'birth': '08/01'}\n"
     ]
    }
   ],
   "source": [
    "dic1 = {\"name\":\"나예호\", \"age\":20, \"mbti\":\"ENFJ\"}\n",
    "print(dic1)\n",
    "# dictionary data 추가!!\n",
    "dic1[\"birth\"] = \"08/01\"\n",
    "print(dic1)"
   ]
  },
  {
   "cell_type": "code",
   "execution_count": 39,
   "id": "c52a8c4e-6caf-41ae-8975-15904a68b1ac",
   "metadata": {},
   "outputs": [
    {
     "name": "stdout",
     "output_type": "stream",
     "text": [
      "{'노래제목': 'SWEET HOME SWEET'}\n",
      "{'노래제목': 'SWEET HOME SWEET', '가수': 'G-DRAGON', '날짜': '2025.02.06'}\n",
      "{'노래제목': 'SWEET HOME SWEET', '가수': 'G-DRAGON'}\n"
     ]
    }
   ],
   "source": [
    "dic_song = {\"노래제목\":\"SWEET HOME SWEET\"}\n",
    "print(dic_song)\n",
    "dic_song[\"가수\"] = \"G-DRAGON\"\n",
    "dic_song[\"날짜\"] = \"2025.02.06\"\n",
    "print(dic_song)\n",
    "\n",
    "# dictionary data delete\n",
    "del dic_song[\"날짜\"]\n",
    "print(dic_song)"
   ]
  },
  {
   "cell_type": "code",
   "execution_count": 45,
   "id": "bef951d6-ec6b-4709-aa50-1d386d43c181",
   "metadata": {},
   "outputs": [
    {
     "name": "stdout",
     "output_type": "stream",
     "text": [
      "나예호\n",
      "20\n",
      "ENFJ\n"
     ]
    },
    {
     "ename": "KeyError",
     "evalue": "'name2'",
     "output_type": "error",
     "traceback": [
      "\u001b[1;31m---------------------------------------------------------------------------\u001b[0m",
      "\u001b[1;31mKeyError\u001b[0m                                  Traceback (most recent call last)",
      "Cell \u001b[1;32mIn[45], line 7\u001b[0m\n\u001b[0;32m      5\u001b[0m \u001b[38;5;28mprint\u001b[39m(dic2[\u001b[38;5;124m\"\u001b[39m\u001b[38;5;124mage\u001b[39m\u001b[38;5;124m\"\u001b[39m])\n\u001b[0;32m      6\u001b[0m \u001b[38;5;28mprint\u001b[39m(dic2[\u001b[38;5;124m\"\u001b[39m\u001b[38;5;124mmbti\u001b[39m\u001b[38;5;124m\"\u001b[39m])\n\u001b[1;32m----> 7\u001b[0m \u001b[38;5;28mprint\u001b[39m(\u001b[43mdic2\u001b[49m\u001b[43m[\u001b[49m\u001b[38;5;124;43m\"\u001b[39;49m\u001b[38;5;124;43mname2\u001b[39;49m\u001b[38;5;124;43m\"\u001b[39;49m\u001b[43m]\u001b[49m)\n",
      "\u001b[1;31mKeyError\u001b[0m: 'name2'"
     ]
    }
   ],
   "source": [
    "dic2 = {\"name\":\"나예호\", \"age\":20, \"mbti\":\"ENFJ\"}\n",
    "# 딕셔너리 값 가져오기\n",
    "# 딕셔너리명[Key]\n",
    "print(dic2[\"name\"])\n",
    "print(dic2[\"age\"])\n",
    "print(dic2[\"mbti\"])\n",
    "print(dic2[\"name2\"])"
   ]
  },
  {
   "cell_type": "code",
   "execution_count": 46,
   "id": "dcdf300d-45cf-41e8-bd84-67f38f3bf396",
   "metadata": {},
   "outputs": [
    {
     "name": "stdout",
     "output_type": "stream",
     "text": [
      "나예호\n",
      "20\n",
      "ENFJ\n",
      "None\n"
     ]
    }
   ],
   "source": [
    "dic3 = {\"name\":\"나예호\", \"age\":20, \"mbti\":\"ENFJ\"}\n",
    "# 딕셔너리 값 가져오기 2\n",
    "print(dic3.get(\"name\"))\n",
    "print(dic3.get(\"age\"))\n",
    "print(dic3.get(\"mbti\"))\n",
    "print(dic3.get(\"name2\"))"
   ]
  },
  {
   "cell_type": "code",
   "execution_count": 50,
   "id": "cbb4b327-c3a3-44b3-a774-393cd6b4d23f",
   "metadata": {},
   "outputs": [
    {
     "name": "stdout",
     "output_type": "stream",
     "text": [
      "{'name': '나예호', 'age': 20, 'mbti': 'ENFJ'}\n",
      "dict_keys(['name', 'age', 'mbti'])\n",
      "name\n",
      "age\n",
      "mbti\n"
     ]
    }
   ],
   "source": [
    "# 모든 키 가져오기!\n",
    "# 딕셔너리명.keys()\n",
    "print(dic3)\n",
    "print(dic3.keys())\n",
    "for key in dic3.keys():\n",
    "    print(key)"
   ]
  },
  {
   "cell_type": "code",
   "execution_count": 53,
   "id": "d4917bdc-71b5-4c44-bff1-da69a503e7af",
   "metadata": {},
   "outputs": [
    {
     "name": "stdout",
     "output_type": "stream",
     "text": [
      "{'name': '나예호', 'age': 20, 'mbti': 'ENFJ'}\n",
      "dict_values(['나예호', 20, 'ENFJ'])\n",
      "나예호\n",
      "20\n",
      "ENFJ\n"
     ]
    }
   ],
   "source": [
    "# 모든 값 가져오기\n",
    "# 딕셔너리명.values()\n",
    "print(dic3)\n",
    "print(dic3.values())\n",
    "for value in dic3.values():\n",
    "    print(value)"
   ]
  },
  {
   "cell_type": "code",
   "execution_count": 55,
   "id": "0729fa7f-9da6-45aa-8bb8-3d422d70cdc9",
   "metadata": {},
   "outputs": [
    {
     "name": "stdout",
     "output_type": "stream",
     "text": [
      "dict_items([('name', '나예호'), ('age', 20), ('mbti', 'ENFJ')])\n",
      "name 나예호\n",
      "age 20\n",
      "mbti ENFJ\n"
     ]
    }
   ],
   "source": [
    "# 모든 키, 값 가져오기\n",
    "# 딕셔너리명.items()\n",
    "print(dic3.items())\n",
    "for k, v in dic3.items():\n",
    "    print(k, v)"
   ]
  },
  {
   "cell_type": "code",
   "execution_count": 60,
   "id": "1c4e9fb2-3e36-4d5d-9c51-1eb3897d12bc",
   "metadata": {},
   "outputs": [
    {
     "name": "stdout",
     "output_type": "stream",
     "text": [
      "True\n",
      "True\n",
      "False\n",
      "False\n"
     ]
    }
   ],
   "source": [
    "# Key in 딕셔너리\n",
    "# 해당 Key 존재 시 True 반환\n",
    "# 없으면 False 반환\n",
    "print(\"name\" in dic3)\n",
    "print(\"age\" in dic3)\n",
    "print(\"birth\" in dic3)\n",
    "print(\"나예호\" in dic3)"
   ]
  },
  {
   "cell_type": "code",
   "execution_count": 62,
   "id": "e44ad3b6-326d-48f1-8f89-59f4a79b1dfa",
   "metadata": {},
   "outputs": [
    {
     "name": "stdout",
     "output_type": "stream",
     "text": [
      "{'name': '나예호', 'age': 20, 'mbti': 'ENFJ'}\n",
      "{}\n"
     ]
    }
   ],
   "source": [
    "# 딕셔너리 모든 데이터 지우기\n",
    "# 딕셔너리.clear()\n",
    "dic4 = {\"name\":\"나예호\", \"age\":20, \"mbti\":\"ENFJ\"}\n",
    "print(dic4)\n",
    "dic4.clear()\n",
    "print(dic4)"
   ]
  },
  {
   "cell_type": "code",
   "execution_count": 67,
   "id": "2a5c31c4-663a-4d5e-8d0d-a45708476729",
   "metadata": {},
   "outputs": [
    {
     "name": "stdout",
     "output_type": "stream",
     "text": [
      "우리 팀 피로도 : 60.0%\n"
     ]
    }
   ],
   "source": [
    "# 피로도 : 100 <- 짱 피로함\n",
    "# 피로도 : 0 <- 컨디션 쌩쌩 \n",
    "dic_team = {\"팀원1\":{\"피로도\":50},\n",
    "            \"팀원2\":{\"피로도\":70},\n",
    "            \"팀원3\":{\"피로도\":100},\n",
    "            \"팀원4\":{\"피로도\":20}}\n",
    "\n",
    "total = 0\n",
    "count = 0\n",
    "for d in dic_team.values():\n",
    "    count += 1\n",
    "    total += d[\"피로도\"]\n",
    "print(f\"우리 팀 피로도 : {total / count}%\")\n",
    "# 윈도우 + Shift + S"
   ]
  },
  {
   "cell_type": "code",
   "execution_count": 68,
   "id": "a1c8e0b9-2993-4d47-879d-6b069ff61cb5",
   "metadata": {},
   "outputs": [],
   "source": [
    "result = {\"boxOfficeResult\":{\"boxofficeType\":\"일별 박스오피스\",\"showRange\":\"20250205~20250205\",\"dailyBoxOfficeList\":[{\"rnum\":\"1\",\"rank\":\"1\",\"rankInten\":\"21\",\"rankOldAndNew\":\"OLD\",\"movieCd\":\"20216476\",\"movieNm\":\"브로큰\",\"openDt\":\"2025-02-05\",\"salesAmt\":\"376602860\",\"salesShare\":\"25.9\",\"salesInten\":\"372222860\",\"salesChange\":\"8498.2\",\"salesAcc\":\"391026860\",\"audiCnt\":\"42562\",\"audiInten\":\"42124\",\"audiChange\":\"9617.4\",\"audiAcc\":\"44116\",\"scrnCnt\":\"805\",\"showCnt\":\"3267\"},{\"rnum\":\"2\",\"rank\":\"2\",\"rankInten\":\"-1\",\"rankOldAndNew\":\"OLD\",\"movieCd\":\"20233006\",\"movieNm\":\"히트맨2\",\"openDt\":\"2025-01-22\",\"salesAmt\":\"305762480\",\"salesShare\":\"21.0\",\"salesInten\":\"-53029220\",\"salesChange\":\"-14.8\",\"salesAcc\":\"19595047980\",\"audiCnt\":\"33533\",\"audiInten\":\"-5136\",\"audiChange\":\"-13.3\",\"audiAcc\":\"2083230\",\"scrnCnt\":\"1043\",\"showCnt\":\"3591\"},{\"rnum\":\"3\",\"rank\":\"3\",\"rankInten\":\"0\",\"rankOldAndNew\":\"OLD\",\"movieCd\":\"20223819\",\"movieNm\":\"말할 수 없는 비밀\",\"openDt\":\"2025-01-27\",\"salesAmt\":\"201095860\",\"salesShare\":\"13.8\",\"salesInten\":\"10627100\",\"salesChange\":\"5.6\",\"salesAcc\":\"3941161900\",\"audiCnt\":\"22311\",\"audiInten\":\"1118\",\"audiChange\":\"5.3\",\"audiAcc\":\"416190\",\"scrnCnt\":\"752\",\"showCnt\":\"2232\"},{\"rnum\":\"4\",\"rank\":\"4\",\"rankInten\":\"-2\",\"rankOldAndNew\":\"OLD\",\"movieCd\":\"20247450\",\"movieNm\":\"검은 수녀들\",\"openDt\":\"2025-01-24\",\"salesAmt\":\"173157300\",\"salesShare\":\"11.9\",\"salesInten\":\"-54690880\",\"salesChange\":\"-24\",\"salesAcc\":\"14514454860\",\"audiCnt\":\"18675\",\"audiInten\":\"-6072\",\"audiChange\":\"-24.5\",\"audiAcc\":\"1501424\",\"scrnCnt\":\"790\",\"showCnt\":\"2320\"},{\"rnum\":\"5\",\"rank\":\"5\",\"rankInten\":\"-1\",\"rankOldAndNew\":\"OLD\",\"movieCd\":\"20244762\",\"movieNm\":\"서브스턴스\",\"openDt\":\"2024-12-11\",\"salesAmt\":\"47886200\",\"salesShare\":\"3.3\",\"salesInten\":\"-6275100\",\"salesChange\":\"-11.6\",\"salesAcc\":\"3864318660\",\"audiCnt\":\"4990\",\"audiInten\":\"-596\",\"audiChange\":\"-10.7\",\"audiAcc\":\"396755\",\"scrnCnt\":\"271\",\"showCnt\":\"394\"},{\"rnum\":\"6\",\"rank\":\"6\",\"rankInten\":\"-1\",\"rankOldAndNew\":\"OLD\",\"movieCd\":\"20228796\",\"movieNm\":\"하얼빈\",\"openDt\":\"2024-12-24\",\"salesAmt\":\"30906640\",\"salesShare\":\"2.1\",\"salesInten\":\"-16063460\",\"salesChange\":\"-34.2\",\"salesAcc\":\"46642489320\",\"audiCnt\":\"3392\",\"audiInten\":\"-1704\",\"audiChange\":\"-33.4\",\"audiAcc\":\"4877067\",\"scrnCnt\":\"409\",\"showCnt\":\"596\"},{\"rnum\":\"7\",\"rank\":\"7\",\"rankInten\":\"0\",\"rankOldAndNew\":\"NEW\",\"movieCd\":\"20175142\",\"movieNm\":\"극장판 쿠로코의 농구 라스트 게임\",\"openDt\":\"2017-04-27\",\"salesAmt\":\"25297800\",\"salesShare\":\"1.7\",\"salesInten\":\"25297800\",\"salesChange\":\"100\",\"salesAcc\":\"502635550\",\"audiCnt\":\"2654\",\"audiInten\":\"2654\",\"audiChange\":\"100\",\"audiAcc\":\"66631\",\"scrnCnt\":\"305\",\"showCnt\":\"513\"},{\"rnum\":\"8\",\"rank\":\"8\",\"rankInten\":\"38\",\"rankOldAndNew\":\"OLD\",\"movieCd\":\"20248143\",\"movieNm\":\"데드데드 데몬즈 디디디디 디스트럭션: 파트2\",\"openDt\":\"2025-02-05\",\"salesAmt\":\"15949800\",\"salesShare\":\"1.1\",\"salesInten\":\"15062800\",\"salesChange\":\"1698.2\",\"salesAcc\":\"26467700\",\"audiCnt\":\"2124\",\"audiInten\":\"2056\",\"audiChange\":\"3023.5\",\"audiAcc\":\"3045\",\"scrnCnt\":\"220\",\"showCnt\":\"317\"},{\"rnum\":\"9\",\"rank\":\"9\",\"rankInten\":\"0\",\"rankOldAndNew\":\"OLD\",\"movieCd\":\"20246777\",\"movieNm\":\"더 폴: 디렉터스 컷\",\"openDt\":\"2024-12-25\",\"salesAmt\":\"22241400\",\"salesShare\":\"1.5\",\"salesInten\":\"10865300\",\"salesChange\":\"95.5\",\"salesAcc\":\"1051662000\",\"audiCnt\":\"1963\",\"audiInten\":\"791\",\"audiChange\":\"67.5\",\"audiAcc\":\"102403\",\"scrnCnt\":\"56\",\"showCnt\":\"75\"},{\"rnum\":\"10\",\"rank\":\"10\",\"rankInten\":\"0\",\"rankOldAndNew\":\"NEW\",\"movieCd\":\"20252039\",\"movieNm\":\"레드벨벳 해피니스 다이어리 : 마이 디어, 레베럽 인 시네마\",\"openDt\":\"2025-02-05\",\"salesAmt\":\"44775000\",\"salesShare\":\"3.1\",\"salesInten\":\"44775000\",\"salesChange\":\"100\",\"salesAcc\":\"44775000\",\"audiCnt\":\"1791\",\"audiInten\":\"1791\",\"audiChange\":\"100\",\"audiAcc\":\"1791\",\"scrnCnt\":\"72\",\"showCnt\":\"154\"}]}}"
   ]
  },
  {
   "cell_type": "code",
   "execution_count": 75,
   "id": "b4d24d04-ad83-42bc-a810-79031944121d",
   "metadata": {},
   "outputs": [
    {
     "name": "stdout",
     "output_type": "stream",
     "text": [
      "브로큰\n",
      "히트맨2\n",
      "말할 수 없는 비밀\n",
      "검은 수녀들\n",
      "서브스턴스\n",
      "하얼빈\n",
      "극장판 쿠로코의 농구 라스트 게임\n",
      "데드데드 데몬즈 디디디디 디스트럭션: 파트2\n",
      "더 폴: 디렉터스 컷\n",
      "레드벨벳 해피니스 다이어리 : 마이 디어, 레베럽 인 시네마\n"
     ]
    }
   ],
   "source": [
    "# 딕셔너리 키 값은\n",
    "# 반드시 복사 붙여넣기\n",
    "# 자동완성!!\n",
    "# 1 ~ 10위까지 영화 제목!!\n",
    "for i in range(10):\n",
    "    print(result[\"boxOfficeResult\"][\"dailyBoxOfficeList\"][i][\"movieNm\"])"
   ]
  }
 ],
 "metadata": {
  "kernelspec": {
   "display_name": "Python 3 (ipykernel)",
   "language": "python",
   "name": "python3"
  },
  "language_info": {
   "codemirror_mode": {
    "name": "ipython",
    "version": 3
   },
   "file_extension": ".py",
   "mimetype": "text/x-python",
   "name": "python",
   "nbconvert_exporter": "python",
   "pygments_lexer": "ipython3",
   "version": "3.9.21"
  }
 },
 "nbformat": 4,
 "nbformat_minor": 5
}
