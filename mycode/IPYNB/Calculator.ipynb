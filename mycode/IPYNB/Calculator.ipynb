{
 "cells": [
  {
   "cell_type": "code",
   "execution_count": 1,
   "id": "65301ad7-e268-4b8e-b233-bfba069c3db4",
   "metadata": {},
   "outputs": [],
   "source": [
    "def add_two_number(num1, num2):\n",
    "    return num1 + num2\n",
    "def sub_two_number(num1, num2):\n",
    "    return num1 - num2\n",
    "def mul_two_number(num1, num2):\n",
    "    return num1 * num2\n",
    "def div_two_number(num1, num2):\n",
    "    return num1 / num2"
   ]
  },
  {
   "cell_type": "code",
   "execution_count": null,
   "id": "aa3b3461-d4a0-4205-b5fb-440e1f27b03c",
   "metadata": {},
   "outputs": [],
   "source": []
  }
 ],
 "metadata": {
  "kernelspec": {
   "display_name": "Python 3 (ipykernel)",
   "language": "python",
   "name": "python3"
  },
  "language_info": {
   "codemirror_mode": {
    "name": "ipython",
    "version": 3
   },
   "file_extension": ".py",
   "mimetype": "text/x-python",
   "name": "python",
   "nbconvert_exporter": "python",
   "pygments_lexer": "ipython3",
   "version": "3.9.21"
  }
 },
 "nbformat": 4,
 "nbformat_minor": 5
}
