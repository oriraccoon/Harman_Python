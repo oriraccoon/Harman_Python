{
 "cells": [
  {
   "cell_type": "code",
   "execution_count": 19,
   "metadata": {},
   "outputs": [],
   "source": [
    "# 1. 라이브러리 몽땅 추가\n",
    "from selenium import webdriver as wb\n",
    "from selenium.webdriver.common.keys import Keys\n",
    "from selenium.webdriver.common.by import By\n",
    "import time\n",
    "import csv"
   ]
  },
  {
   "cell_type": "code",
   "execution_count": 14,
   "metadata": {},
   "outputs": [],
   "source": [
    "url = \"https://www.hsd.co.kr/menu/menu_list\"\n",
    "driver = wb.Chrome()\n",
    "driver.get(url)"
   ]
  },
  {
   "cell_type": "code",
   "execution_count": 26,
   "metadata": {},
   "outputs": [],
   "source": [
    "# 테스트\n",
    "body = driver.find_element(By.TAG_NAME, \"body\")\n",
    "body.send_keys(Keys.END)\n",
    "time.sleep(2)\n",
    "body.send_keys(Keys.HOME)"
   ]
  },
  {
   "cell_type": "code",
   "execution_count": null,
   "metadata": {},
   "outputs": [],
   "source": [
    "class Menues:\n",
    "    def __init__(self, cate, name, describe, price):\n",
    "        self.cate = cate\n",
    "        self.name = name\n",
    "        self.describe = describe\n",
    "        self.price = price\n",
    "\n",
    "    def show_menues(self):\n",
    "        print(f\"cate - {self.cate} / name - {self.name} / describe - {self.describe} / price - {self.price}\")\n",
    "        \n",
    "    def menu_to_csv(self):\n",
    "        return f\"{self.cate},{self.name},{self.describe},{self.price}\""
   ]
  },
  {
   "cell_type": "code",
   "execution_count": null,
   "metadata": {},
   "outputs": [],
   "source": [
    "# 세부 메뉴\n",
    "# f\"child_{child_list[i][j]}\"\n",
    "\n",
    "child_list = [[49], [24], [9, 10, 46], [12, 13, 14, 15, 16, 17, 32], [18, 22, 47], [54, 55, 56]]"
   ]
  },
  {
   "cell_type": "code",
   "execution_count": null,
   "metadata": {},
   "outputs": [],
   "source": [
    "# 더보기 다 누르기기\n",
    "\n",
    "for i in range(5):\n",
    "    body = driver.find_element(By.TAG_NAME, \"body\")\n",
    "    body.send_keys(Keys.END)\n",
    "    more = driver.find_element(By.CLASS_NAME, \"c_05\")\n",
    "    more.click()\n",
    "    time.sleep(1)\n",
    "driver.back()"
   ]
  },
  {
   "cell_type": "code",
   "execution_count": null,
   "metadata": {},
   "outputs": [],
   "source": [
    "# 전체 보기\n",
    "# 나머지는 9~14\n",
    "\n",
    "menu = driver.find_elements(By.CLASS_NAME, \"dp1_tit\")\n",
    "menu[8].click()"
   ]
  },
  {
   "cell_type": "code",
   "execution_count": null,
   "metadata": {},
   "outputs": [],
   "source": [
    "# 눌렀다가 뒤로 가기\n",
    "# 데이터까지\n",
    "info_list = []\n",
    "full_sc = driver.find_elements(By.CLASS_NAME, \"item-spacer\")\n",
    "full_sc[1].click()\n",
    "time.sleep(1)\n",
    "cate = driver.find_element(By.CLASS_NAME, \"dp1\")\n",
    "name = driver.find_element(By.CLASS_NAME, \"dp2\")\n",
    "describe = driver.find_element(By.CLASS_NAME, \"account\")\n",
    "price = driver.find_element(By.CLASS_NAME, \"fz_01\")\n",
    "a = Menues(cate,name,describe,price)\n",
    "info_list.append(a)\n",
    "driver.back()"
   ]
  },
  {
   "cell_type": "code",
   "execution_count": null,
   "metadata": {},
   "outputs": [],
   "source": []
  },
  {
   "cell_type": "code",
   "execution_count": null,
   "metadata": {},
   "outputs": [],
   "source": []
  }
 ],
 "metadata": {
  "kernelspec": {
   "display_name": "myenv",
   "language": "python",
   "name": "python3"
  },
  "language_info": {
   "codemirror_mode": {
    "name": "ipython",
    "version": 3
   },
   "file_extension": ".py",
   "mimetype": "text/x-python",
   "name": "python",
   "nbconvert_exporter": "python",
   "pygments_lexer": "ipython3",
   "version": "3.9.21"
  }
 },
 "nbformat": 4,
 "nbformat_minor": 2
}
