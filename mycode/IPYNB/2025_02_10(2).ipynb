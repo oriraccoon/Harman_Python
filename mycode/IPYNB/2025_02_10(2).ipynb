{
 "cells": [
  {
   "cell_type": "code",
   "execution_count": 8,
   "id": "8a1642ac-82b0-48a7-957f-6125758f09c2",
   "metadata": {},
   "outputs": [],
   "source": [
    "import csv\n",
    "with open(\"output.csv\", \"w\", newline=\"\") as file:\n",
    "    write = csv.writer(file)\n",
    "    write.writerow([\"Name\", \"Age\", \"City\"])\n",
    "    write.writerow([\"Alice\", 25, \"Seoul\"])\n",
    "    write.writerow([\"Brown\", 30, \"Busan\"])"
   ]
  },
  {
   "cell_type": "code",
   "execution_count": 11,
   "id": "3d09c009-005d-4fdd-9e47-a7e4ea10f4ba",
   "metadata": {},
   "outputs": [
    {
     "name": "stdout",
     "output_type": "stream",
     "text": [
      "['Name', 'Age', 'City']\n",
      "['Alice', '25', 'Seoul']\n",
      "['Brown', '30', 'Busan']\n"
     ]
    }
   ],
   "source": [
    "with open(\"output.csv\", \"r\") as file:\n",
    "    read = csv.reader(file)\n",
    "    for r in read:\n",
    "        print(r)"
   ]
  },
  {
   "cell_type": "code",
   "execution_count": 12,
   "id": "2b221a66-9b23-4510-a4d6-46ecb0493ddb",
   "metadata": {},
   "outputs": [
    {
     "name": "stdout",
     "output_type": "stream",
     "text": [
      "['Charlie', '28', 'Incheon']\n"
     ]
    }
   ],
   "source": [
    "header = [\"Name\", \"Age\", \"City\"]\n",
    "data1 = {\"Name\":\"Charlie\", \"Age\":28, \"City\":\"Incheon\"}\n",
    "with open(\"output_dict.csv\", \"w\", newline=\"\") as file:\n",
    "    writer = csv.DictWriter(file, fieldnames=header)\n",
    "    writer.writerow(data1)\n",
    "\n",
    "with open(\"output_dict.csv\", \"r\") as file:\n",
    "    reader = csv.reader(file)\n",
    "    for r in reader:\n",
    "        print(r)"
   ]
  },
  {
   "cell_type": "code",
   "execution_count": 13,
   "id": "d0dfa1c7-1ea0-40c3-be2e-59f43e20f387",
   "metadata": {},
   "outputs": [
    {
     "name": "stdout",
     "output_type": "stream",
     "text": [
      "{'Name': 'Alice', 'Age': '25', 'City': 'Seoul'}\n",
      "{'Name': 'Brown', 'Age': '30', 'City': 'Busan'}\n"
     ]
    }
   ],
   "source": [
    "with open(\"output.csv\", \"r\") as file:\n",
    "    reader = csv.DictReader(file)\n",
    "    for row in reader:\n",
    "        print(row)\n",
    "        "
   ]
  },
  {
   "cell_type": "code",
   "execution_count": 24,
   "id": "1edeb137-ff39-4cb7-ae32-7a5a7719f7db",
   "metadata": {},
   "outputs": [
    {
     "name": "stdout",
     "output_type": "stream",
     "text": [
      "Busan\n"
     ]
    }
   ],
   "source": [
    "with open(\"output.csv\", \"r\") as file:\n",
    "    reader = csv.DictReader(file)\n",
    "    for row in reader:\n",
    "        if int(row[\"Age\"]) >= 30:\n",
    "            print(row[\"City\"])"
   ]
  },
  {
   "cell_type": "code",
   "execution_count": 23,
   "id": "4eb63216-a672-4d44-af23-f80639666765",
   "metadata": {},
   "outputs": [
    {
     "name": "stdout",
     "output_type": "stream",
     "text": [
      "Alice\n",
      "Bob\n",
      "Charlie\n",
      "David\n",
      "Eve\n"
     ]
    }
   ],
   "source": [
    "with open(\"students.csv\", \"r\") as file:\n",
    "    r = csv.DictReader(file)\n",
    "    for row in r:\n",
    "        print(row[\"Name\"])"
   ]
  },
  {
   "cell_type": "code",
   "execution_count": 40,
   "id": "04c2c52a-d4a3-421a-986d-7c7a50195677",
   "metadata": {},
   "outputs": [
    {
     "name": "stdout",
     "output_type": "stream",
     "text": [
      "Alice\n",
      "Bob\n",
      "Charlie\n",
      "David\n",
      "Eve\n"
     ]
    }
   ],
   "source": [
    "with open(\"students.csv\", \"r\") as file:\n",
    "    reader = list(csv.reader(file))\n",
    "    index = reader[0].index(\"Name\")\n",
    "    for row in reader:\n",
    "        if row[index] != \"Name\":\n",
    "            print(row[index])"
   ]
  },
  {
   "cell_type": "code",
   "execution_count": 51,
   "id": "0df43450-8ce5-41eb-957d-7f9c49b822c7",
   "metadata": {},
   "outputs": [
    {
     "name": "stdout",
     "output_type": "stream",
     "text": [
      "이름 : Alice, 나이 : 20\n",
      "이름 : Bob, 나이 : 22\n",
      "이름 : Charlie, 나이 : 23\n",
      "이름 : David, 나이 : 21\n",
      "이름 : Eve, 나이 : 24\n"
     ]
    }
   ],
   "source": [
    "with open(\"students.csv\", \"r\") as file:\n",
    "    reader = csv.DictReader(file)\n",
    "    for row in reader:\n",
    "        print(f'이름 : { row[\"Name\"] }, 나이 : { row[\"Age\"] }')\n"
   ]
  },
  {
   "cell_type": "code",
   "execution_count": 52,
   "id": "81533193-e181-48a2-8774-d0ac2d789624",
   "metadata": {},
   "outputs": [
    {
     "name": "stdout",
     "output_type": "stream",
     "text": [
      "가격 : 1500\n",
      "가격 : 25\n",
      "가격 : 45\n",
      "가격 : 300\n",
      "가격 : 20\n"
     ]
    }
   ],
   "source": [
    "with open(\"products.csv\", \"r\") as file:\n",
    "    read = csv.DictReader(file)\n",
    "    for r in read:\n",
    "        print(f'가격 : { r[\"Price\"] }')"
   ]
  },
  {
   "cell_type": "code",
   "execution_count": 62,
   "id": "aa5a9d56-07aa-4853-865a-c4cf371166db",
   "metadata": {},
   "outputs": [
    {
     "name": "stdout",
     "output_type": "stream",
     "text": [
      "https://www.sejongpac.or.kr:443/portal/performance/performance/view.do?performIdx=35268&menuNo=200004&sdate=2024-05-24&searchWrd=&searchSort=1&searchCnd=1&searchPlaceCdStr=P%2CALL&edate=2024-06-30&searchPackage=&pageIndex=5\n",
      "https://sema.seoul.go.kr/kr/whatson/education/detail?acadmyEeNo=1211817\n",
      "http://www.canvasn.net/exhibition/%EB%86%8D%EB%8B%B4-%EB%82%B4%EA%B2%8C%EC%84%9C-%EB%B2%88%EC%A0%B8-%EB%8B%B9%EC%8B%A0%EC%97%90%EA%B2%8C-%EA%B1%B4%EB%84%A4%EB%8A%94/\n",
      "https://seoulbusking.com\n",
      "https://www.podbbang.com/channels/1776366/episodes/24766033?ucode=L-baTPElcB\n",
      "https://dmvillage.info/docent\n",
      "http://www.seoulup.or.kr/detail.do?NTT_ID=notice&BBS_ID=7072\n",
      "https://yeyak.seoul.go.kr/web/reservation/selectReservView.do?rsv_svc_id=S230609102852551574\n",
      "https://yeyak.seoul.go.kr/web/reservation/selectReservView.do?rsv_svc_id=S230609105644484925\n",
      "https://yeyak.seoul.go.kr/web/reservation/selectReservView.do?rsv_svc_id=S221219144303341678\n",
      "https://yeyak.seoul.go.kr/web/reservation/selectReservView.do?rsv_svc_id=S230609104804534911\n",
      "https://blog.naver.com/gallery3366\n",
      "https://www.instagram.com/p/CwHGCvWvQC4/?igshid=MzRlODBiNWFlZA==\n",
      "https://www.seoulchildrensmuseum.org/education/educationList.do\n",
      "https://www.sejongpac.or.kr/portal/performance/performance/view.do?performIdx=34425&menuNo=200004\n",
      "https://blog.naver.com/sbculture1/223174761933\n",
      "https://cine.arirang.go.kr:8443/arirang/customer/notice.do?mode=view&articleNo=28990&article.offset=0&articleLimit=10\n",
      "https://science.seoul.go.kr/program/lecture/info?menuId=46&progMstId=647\n",
      "https://www.mfac.or.kr/performance/whole_view.jsp?sc_b_category=17&sc_b_code=BOARD_1207683401&pk_seq=2242&page=1\n",
      "http://www.canvasn.net/exhibition/vibrant-%EA%B8%80%EB%A1%9C%EB%B2%8C-%EC%95%84%ED%8B%B0%EC%8A%A4%ED%8A%B8-%EC%86%8C%EC%9E%A5%EC%A0%84/?sca=Current\n",
      "https://gcfac.or.kr/board/noticeDetail?notice_gb=&board_seq=8195&gcfac_menu_cd=U0139&currRow=1&scType=all&srch_input=\n",
      "https://www.intercharmkorea.com/ko-kr.html\n",
      "https://www.caci.or.kr/caci/performance/view.do?menuNo=200006&pblprfrId=1496\n",
      "https://www.instagram.com/p/CvfStbCpXR9/?utm_source=ig_web_copy_link&igshid=MzRlODBiNWFlZA==\n",
      "https://www.instagram.com/p/CvUq8GXJeQ1/?utm_source=ig_web_copy_link&igshid=MzRlODBiNWFlZA==\n",
      "https://www.sejongpac.or.kr/portal/performance/performance/view.do?performIdx=34352&menuNo=200004\n",
      "https://www.sejongpac.or.kr/portal/performance/performance/view.do?performIdx=34351&menuNo=200004\n",
      "http://www.gbcf.or.kr/load.asp?subPage=110.View&page=1&idx=160\n",
      "https://nodeul.org/program/%eb%85%b8%eb%93%a4%ec%bb%ac%ec%b2%98%ec%95%84%ec%b9%b4%eb%8d%b0%eb%af%b8-%ec%a0%84%ec%8b%9c-%eb%8f%84%ec%8a%a8%ed%8a%b8-%ec%95%84%ec%b9%b4%eb%8d%b0%eb%af%b8-%ec%8b%ac%ed%99%94-2/\n",
      "https://www.sejongpac.or.kr/portal/performance/performance/view.do?performIdx=34350&menuNo=200004\n",
      "https://www.sejongpac.or.kr/portal/performance/performance/view.do?performIdx=34349&menuNo=200004\n",
      "https://www.instagram.com/hiddenplace.kr\n",
      "https://cafe.naver.com/drawingourheritage/2\n",
      "https://blog.naver.com/snmblove/223149763481\n",
      "https://www.snmb.mil.kr/\n",
      "https://www.seoulphil.or.kr/perf/view?perfNo=5629&calendarDate=2023/08/15&langCd=ko&menuFlag=MFLG0001\n",
      "https://www.mfac.or.kr/performance/whole_view.jsp?sc_b_category=17&sc_b_code=BOARD_1207683401&pk_seq=2234&page=1\n",
      "https://blog.naver.com/sbculture1/223149712501\n",
      "https://bit.ly/3NZiJen\n",
      "https://nodeul.org/program/%eb%85%b8%eb%93%a4%ec%bb%ac%ec%b2%98%ec%95%84%ec%b9%b4%eb%8d%b0%eb%af%b8-%ec%a0%84%ec%8b%9c-%eb%8f%84%ec%8a%a8%ed%8a%b8-%ec%95%84%ec%b9%b4%eb%8d%b0%eb%af%b8-%ea%b8%b0%ec%b4%88/\n",
      "https://blog.naver.com/insa1010/223146642927\n",
      "https://www.sejongpac.or.kr/portal/performance/performance/view.do?performIdx=34228&menuNo=200004\n",
      "http://www.kumhomuseum.com/designer/skin/02/03.html\n",
      "https://booking.naver.com/booking/5/bizes/872191\n",
      "https://www.jnac.or.kr/education/edu_view.html?pid=165&redir=%2Feducation%2Fedu_list.html%3Fstatus%3D%26target%3D%26find%3D%26search%3D%26page%3D1\n",
      "https://www.instagram.com/hiddenplace.kr\n",
      "https://cine.arirang.go.kr:8443/arirang/customer/notice.do?mode=view&articleNo=26876\n",
      "https://blog.naver.com/sejonggallery\n",
      "https://yfac.kr/main/site/ticket/page3.do?proc_type=view&tidx=196&prepage=%2Fmain%2Fsite%2Fticket%2Fpage3.do\n",
      "https://sg.seoulcitizenshall.kr/?r=sg&m=bbs&bid=board2&cat=&sort=gid&orderby=asc&recnum=20&where=&keyword=&p=1&uid=3064\n",
      "https://museum.hongik.ac.kr/html/permanent2020.html\n",
      "https://blog.naver.com/gallery3366\n",
      "https://museum.seoul.go.kr/www/board/NR_boardView.do?bbsCd=1018&seq=20230608174831589&sso=ok \n",
      "https://blog.naver.com/insa1010/223124197578\n",
      "http://www.projectdoll.net/product/detail.html?product_no=32&cate_no=24&display_group=1\n",
      "https://www.idfac.or.kr/bbs/board.php?bo_table=notice&wr_id=202\n",
      "http://museum.sb.go.kr/\n",
      "https://sssmuseum.org/modules/board/bd_view.html?no=156&id=notice&searchSelect=1&sv=%EC%83%88%ED%99%9C%EC%9A%A9&p=1&or=bd_order&al=asc\n",
      "https://festival.seoul.go.kr/hangang\n",
      "https://jct.jfac.or.kr/site/child/childProgram/list?pgCatCode=40\n",
      "http://www.leememorial.or.kr/?tpf=company/multi_view&board_code=21&code=6669\n",
      "http://www.leememorial.or.kr/?tpf=memorial/plan_view&board_code=18&code=6679\n",
      "https://lib.jongno.go.kr/bbs/board.php?bo_table=notice&wr_id=1128\n",
      "http://www.ccasc.or.kr/bbs/notice_view.php?idx=257&page=1\n",
      "https://www.caci.or.kr/caci/performance/view.do?menuNo=200006&pblprfrId=1487\n",
      "https://museum.seoul.go.kr/www/board/NR_boardView.do?bbsCd=1018&seq=20230512143541252&sso=ok \n",
      "https://www.sejongpac.or.kr/portal/performance/performance/view.do?performIdx=34151&menuNo=200004\n",
      "http://www.koreawave.org/\n",
      "https://lib.jongno.go.kr/bbs/board.php?bo_table=notice&wr_id=1128\n",
      "https://www.ydpcf.or.kr/artexhibit/view.do?id=306\n",
      "https://dmvillage.info/market\n",
      "https://www.seoulphil.or.kr/perf/view?perfNo=5575&calendarDate=&langCd=ko&menuFlag=MFLG0001\n",
      "https://www.seoulphil.or.kr/perf/view?perfNo=5529&calendarDate=2023/06/03&langCd=ko&menuFlag=MFLG0001\n",
      "https://blog.naver.com/idfac/223091408053\n",
      "https://www.acc.go.kr/main/education.do?PID=040305&action=Read&bnkey=EM_0000006218\n",
      "https://www.jsplib.or.kr/culture/event.asp?mode=view&lecture_seq=1699&listname=normal\n",
      "https://museum.ep.go.kr/\n",
      "https://www.gwanak.go.kr/site/gwanak/main.do\n",
      "https://www.seochocf.or.kr/site/main/seocho/show/view?show_idx=524\n",
      "https://www.seochocf.or.kr/site/main/seocho/show/view?show_idx=523\n",
      "https://www.seochocf.or.kr/site/main/seocho/show/view?show_idx=522\n",
      "https://xn--z92b72qn1at0nqrn.kr/330\n",
      "https://yeyak.seoul.go.kr/web/reservation/selectReservView.do?rsv_svc_id=S230309151713240936\n",
      "https://yeyak.seoul.go.kr/web/reservation/selectReservView.do?rsv_svc_id=S230309162237881502\n",
      "https://sg.seoulcitizenshall.kr/?c=program/perform&mod=view&uid=1571\n",
      "https://konggallery.com/EXHIBITIONS_CURRENT\n",
      "https://www.jnac.or.kr/exhibition/exhibit_view.html?pid=89&redir=%2Fexhibition%2Fexhibit_list.html%3Fstatus%3D2%26find%3D%26search%3D%26page%3D1\n",
      "https://sg.seoulcitizenshall.kr/?r=sg&m=reserve&cate=%EA%B3%B5%EC%97%B0&catesub=&mod=view&p=1&uid=1555&catepro=1\n",
      "https://blog.naver.com/insa1010\n",
      "https://youngnakcc.com/concert\n",
      "https://m.blog.naver.com/saekdonghoe\n",
      "https://lrl.kr/vKXg\n",
      "https://bit.ly/3mvwOVS\n",
      "https://blog.naver.com/sejonggallery\n",
      "https://www.gangnam.go.kr/office/gfac/board/gfac_artcube_02/238/view.do?mid=gfac_artcube_02&pgno=1&keyfield=BDM_MAIN_TITLE\n",
      "https://sdtt.or.kr/user/program/2023/5/1316\n",
      "https://www.acc.go.kr/main/education.do?PID=040301&action=Read&bnkey=EM_0000006237\n",
      "http://www.gdfac.or.kr/web/lay2/program/S1T204C211/show/view.do?show_seq=1943&cpage=1&rows=999&keyword=&place=&start_dt=&end_dt=\n",
      "https://blog.naver.com/sejonggallery/223070329560\n",
      "http://www.seouldrum.go.kr\n",
      "https://www.seochocf.or.kr/site/main/seocho/show/view?show_idx=545\n",
      "https://www.jfac.or.kr/site/main/program/educ_always_list_view?pgIdx=2023\n",
      "https://www.mfac.or.kr/communication/notice_all_view.jsp?sc_b_code=BOARD_1207683401&sc_type=2&pk_seq=7966&sc_cond=b_subject&page=1\n",
      "https://www.nowonarts.kr/html/pe/exhibitiondetail.php?param_url=https%3A%2F%2Fwww.nowonarts.kr%2Fhtml%2Fpe%2Fexhibitioninfo.php%3F%26search_state%3D1%26skin%3D%26search_syear%3D2023%26search_smonth%3D%26search_eyear%3D2023%26search_emonth%3D%26search_order%3D%26startPage%3D0&idx=192\n",
      "https://www.seoulphil.or.kr/perf/view?perfNo=5479&calendarDate=2023/05/26&langCd=ko&menuFlag=MFLG0001\n",
      "https://www.seoulphil.or.kr/perf/view?perfNo=5475&calendarDate=2023/05/25&langCd=ko&menuFlag=MFLG0001\n",
      "https://www.seoulphil.or.kr/perf/view?perfNo=5473&calendarDate=2023/05/24&langCd=ko&menuFlag=MFLG0001\n",
      "https://www.seoulphil.or.kr/perf/view?perfNo=5471&calendarDate=2023/05/22&langCd=ko&menuFlag=MFLG0001\n",
      "https://www.seoulphil.or.kr/perf/view?perfNo=5469&calendarDate=2023/05/22&langCd=ko&menuFlag=MFLG0001\n",
      "https://dmvillage.info/\n",
      "https://sg.seoulcitizenshall.kr/?r=sg&m=reserve&cate=%EA%B3%B5%EC%97%B0&catesub=&mod=view&p=1&uid=1519&catepro=1\n",
      "https://tour.jongno.go.kr/tour/main/contents.do?menuNo=110544\n",
      "https://festival.seoul.go.kr/hangang\n",
      "https://blog.naver.com/gallery3366\n",
      "https://www.seoulchildrensmuseum.org/education/educationList.do\n",
      "https://www.seoulchildrensmuseum.org/education/educationList.do\n",
      "https://sssmuseum.org/main/?mc_code=121116\n",
      "https://sssmuseum.org/main/?mc_code=121118\n",
      "https://sssmuseum.org/main/?mc_code=121118\n",
      "https://sssmuseum.org/main/?mc_code=121118\n",
      "https://sssmuseum.org/main/?mc_code=121116\n",
      "https://www.idfac.or.kr/bbs/board.php?bo_table=notice&wr_id=188\n",
      "http://www.kpicaa.co.kr/event01/\n",
      "http://www.galleryindex.co.kr/\n",
      "https://www.nmf.or.kr/user/performance/culture_view.do?show_id=S20230403163905730100&page=2\n",
      "http://www.seouldrum.go.kr/\n",
      "https://seoulrose.jnfac.or.kr/\n",
      "https://lib.seoul.go.kr/lecture/applyDetail/4083\n",
      "https://lib.seoul.go.kr/bbs/content/3_57069\n",
      "https://m.blog.naver.com/whsj3535/223059780923\n",
      "https://www.petitriot.xyz/\n",
      "https://blog.naver.com/sejonggallery\n",
      "https://www.jnac.or.kr/exhibition/exhibit_view.html?pid=87\n",
      "http://oliviaparkgallery.com/\n",
      "http://www.smdf.kr/board/index.html?id=notice&no=78\n",
      "http://www.leememorial.or.kr/?tpf=memorial/plan_view&board_code=18&code=6625\n",
      "http://www.naenara.or.kr/\n",
      "https://blog.naver.com/sejonggallery\n",
      "https://museum.seoul.go.kr/www/board/NR_boardView.do?bbsCd=1018&seq=20230317155722691&sso=ok \n",
      "https://sg.seoulcitizenshall.kr/?r=sg&m=reserve&cate=%EC%A0%84%EC%B2%B4&catesub=&mod=view&p=1&uid=1433&catepro=1\n",
      "https://mplib.mapo.go.kr/sglib/MENU1200/PGM3021/lectureDetail.do?currentPageNo=1&lectureId=LEC0008803\n",
      "http://www.ydpartsquare.com/\n",
      "https://www.doosanartcenter.com/ko/exhibit/1552\n",
      "https://www.facebook.com/photo/?fbid=218874294059252&set=pcb.218874334059248\n",
      "https://dmvillage.info/market\n",
      "https://museum.ep.go.kr/\n",
      "https://www.seoulchildrensmuseum.org/education/educationList.do\n",
      "http://www.pungmul.or.kr/\n",
      "https://ddp.or.kr/index.html?menuno=239&siteno=2&bbsno=563&boardno=16&bbstopno=563&act=view&subno=\n",
      "https://museum.ep.go.kr/\n",
      "https://www.doolymuseum.or.kr/\n",
      "http://www.ani.seoul.kr/\n",
      "https://www.caci.or.kr/caci/performance/view.do?menuNo=200006&pblprfrId=1481\n",
      "https://www.sejongpac.or.kr/portal/performance/performance/view.do?performIdx=33885&menuNo=200004\n",
      "http://oliviaparkgallery.com/\n",
      "http://oliviaparkgallery.com/\n",
      "https://www.miricanvas.com/v/11rrrdi\n",
      "https://www.sejongpac.or.kr/portal/performance/performance/view.do?performIdx=33946&menuNo=200004\n",
      "https://www.sejongpac.or.kr/portal/performance/performance/view.do?performIdx=33970&menuNo=200004\n",
      "https://www.guroartsvalley.or.kr/user/performance/performanceView.do?performanceSeq=3633&page=1\n",
      "https://nodeul.org/program/2023-%eb%85%b8%eb%93%a4%ec%84%ac-%eb%b0%98%eb%a0%a4%ea%b2%ac-%ed%8e%98%ec%8a%a4%ed%8b%b0%eb%b2%8c-%eb%86%80%eb%a9%8d%eb%ad%90%ed%95%98%eb%8b%88/\n",
      "https://ddp.or.kr/index.html?menuno=239&siteno=2&bbsno=562&boardno=16&bbstopno=562&act=view&subno=\n",
      "https://www.instagram.com/k_um.gallery\n",
      "https://www.gfac.or.kr/html/notify/notify1_view.html?pk=1677287164468-499a8076-7a35-4d02-9830-ae6702045a6c\n",
      "https://www.seoulcitizenshall.kr/?r=sch&m=program2&cate=&ing=active&sort=uid&mod=view&p=1&uid=2623\n",
      "https://ddp.or.kr/index.html?menuno=239&siteno=2&bbsno=561&boardno=16&bbstopno=561&act=view&subno=\n",
      "https://mplib.mapo.go.kr/sglib/MENU1199/PGM3028/eventDetail.do?currentPageNo=1&searchCondition=eventNm&searchKeyword=%ED%94%84%EB%A1%9C%EA%B7%B8%EB%9E%A8&eventSn=6327\n",
      "https://lib.guro.go.kr/#/libprg/culture-lecture/detail/2652\n",
      "https://lib.guro.go.kr/#/libprg/culture-lecture/detail/2651\n",
      "https://museum.seoul.go.kr/www/board/NR_boardView.do?bbsCd=1018&seq=20230224110029502&sso=ok \n",
      "https://archives.seoul.go.kr/post/3297\n",
      "https://blog.naver.com/sejonggallery/223022802992\n",
      "https://mplib.mapo.go.kr/sglib/MENU1199/PGM3028/eventDetail.do?currentPageNo=1&eventSn=6288\n",
      "https://www.seochocf.or.kr/site/main/seocho/show/view?show_idx=521\n",
      "https://www.seochocf.or.kr/site/main/seocho/show/view?show_idx=520\n",
      "https://www.seochocf.or.kr/site/main/seocho/show/view?show_idx=519\n",
      "https://lib.guro.go.kr/#/libprg/culture-lecture/detail/2639\n",
      "https://www.gokams.or.kr/01_news/notice_view.aspx?Idx=3400\n",
      "https://blog.naver.com/sejonggallery\n",
      "https://nodeul.org/program/2023-%eb%85%b8%eb%93%a4%eb%b2%84%ec%8a%a4%ec%bb%a4/\n",
      "https://nodeul.org/program/15219-2/\n",
      "https://science.seoul.go.kr/program/lecture?menuId=46\n",
      "https://sg.seoulcitizenshall.kr/\n",
      "https://sg.seoulcitizenshall.kr/?c=program/perform&mod=view&uid=1490\n",
      "http://www.ani.seoul.kr/\n",
      "https://www.geuntae.co.kr/Program_Event/view/229\n",
      "http://sssmuseum.org\n",
      "http://sssmuseum.org\n",
      "http://sssmuseum.org\n",
      "https://www.miricanvas.com/v/11pslks\n",
      "https://www.seochocf.or.kr/site/main/seocho/show/view?show_idx=513\n",
      "https://jnfac.or.kr/festival/friday_program.html\n",
      "www.oliviaparkgallery.com\n",
      "https://event.kbs.co.kr/\n",
      "https://www.instagram.com/bardotart.official/\n",
      "http://oliviaparkgallery.com/\n",
      "https://sssmuseum.org/\n",
      "https://sssmuseum.org/\n",
      "https://www.doosanartcenter.com/ko/exhibit/1551\n",
      "https://lib.guro.go.kr/#/libprg/culture-lecture/detail/2589\n",
      "https://xn--z92b72qn1at0nqrn.kr/301\n",
      "https://blog.naver.com/insa1010/222987666213\n",
      "https://horiartspace.com/Upcoming\n",
      "http://www.ani.seoul.kr/ani/introduce/facilities.sba\n",
      "https://www.instagram.com/yk_presents/\n",
      "http://oliviaparkgallery.com/current-exhibitions/\n",
      "http://www.nalja.net\n",
      "http://www.nalja.net\n",
      "https://ddp.or.kr/index.html?menuno=240\n",
      "http://www.ani.seoul.kr/ani/introduce/facilities.sba\n"
     ]
    }
   ],
   "source": [
    "with open(\"SEOUL_CULTURE_202301_202308.csv\", \"r\") as file:\n",
    "    read = csv.DictReader(file)\n",
    "    for r in read:\n",
    "        if \"무료\" in r[\"이용요금\"]:\n",
    "            print(r[\"홈페이지 주소\"])"
   ]
  },
  {
   "cell_type": "code",
   "execution_count": 64,
   "id": "a91d6f31-57dc-4ca5-b253-2031ce752c7f",
   "metadata": {},
   "outputs": [
    {
     "name": "stdout",
     "output_type": "stream",
     "text": [
      "강동성심병원과 강동예술인이 함께 찾아가는 [심쿵 콘서트]\n",
      "2023-07-21~2023-07-21\n",
      "강동성심병원 일송홀(대강당)\n",
      "\n",
      "[강동문화재단] 우리동네 영화관 7월 영화 위대한 쇼맨\n",
      "2023-07-04~2023-07-04\n",
      "강동아트센터 대극장 한강\n",
      "\n",
      "강동성심병원과 강동예술인이 함께 찾아가는 [심쿵 콘서트]\n",
      "2023-06-16~2023-06-16\n",
      "강동구청 열린뜰\n",
      "\n",
      "2023 강동 바람꽃 가족 축제\n",
      "2023-05-14~2023-05-14\n",
      "강동아트센터 바람꽃 마당\n",
      "\n",
      "2023 강동아트센터 신년음악회 with 국립심포니오케스트라\n",
      "2023-02-11~2023-02-11\n",
      "강동아트센터 대극장 한강\n",
      "\n",
      "2023 최현우 [HE BRAIN] - 강동\n",
      "2023-01-14~2023-01-15\n",
      "강동아트센터 대극장 한강\n",
      "\n"
     ]
    }
   ],
   "source": [
    "with open(\"SEOUL_CULTURE_202301_202308.csv\", \"r\") as file:\n",
    "    reader = csv.DictReader(file)\n",
    "    for row in reader:\n",
    "        if \"강동\" in row[\"공연/행사명\"]:\n",
    "            print(row[\"공연/행사명\"])\n",
    "            print(row[\"날짜/시간\"])\n",
    "            print(row[\"장소\"])\n",
    "            print()"
   ]
  },
  {
   "cell_type": "code",
   "execution_count": 7,
   "id": "aa4bb6f4-28c7-4a23-a771-ae099556ce7b",
   "metadata": {},
   "outputs": [],
   "source": [
    "import csv\n",
    "# 동일한 정보를 담고 있는 \n",
    "# csv merge \n",
    "# \"file1.csv\", \"file2.csv\"\n",
    "file_list = [\"file1.csv\", \"file2.csv\"]\n",
    "\n",
    "with open(\"merge.csv\", \"w\", newline=\"\") as outfile:\n",
    "    writer = None\n",
    "    for filename in file_list:\n",
    "\n",
    "        with open(filename, \"r\") as infile:\n",
    "            reader = csv.DictReader(infile)\n",
    "            if writer == None:\n",
    "                writer = csv.DictWriter(outfile, fieldnames=reader.fieldnames)\n",
    "                writer.writeheader()\n",
    "            for row in reader:\n",
    "                writer.writerow(row)"
   ]
  },
  {
   "cell_type": "code",
   "execution_count": 8,
   "id": "f2ba6cf4-67fa-4f1d-a10e-27c774ac7754",
   "metadata": {},
   "outputs": [
    {
     "name": "stdout",
     "output_type": "stream",
     "text": [
      "{'ID': '1', 'Name': 'Alice', 'Score': '85'}\n",
      "{'ID': '2', 'Name': 'Bob', 'Score': '90'}\n",
      "{'ID': '3', 'Name': 'Charlie', 'Score': '75'}\n",
      "{'ID': '4', 'Name': 'David', 'Score': '88'}\n"
     ]
    }
   ],
   "source": [
    "with open(\"merge.csv\", \"r\") as file:\n",
    "    reader = csv.DictReader(file)\n",
    "    for row in reader:\n",
    "        print(row)"
   ]
  },
  {
   "cell_type": "code",
   "execution_count": 11,
   "id": "a4e9a135-937e-48b2-a723-0de2baf909c5",
   "metadata": {},
   "outputs": [
    {
     "name": "stdout",
     "output_type": "stream",
     "text": [
      "Bob\n",
      "David\n"
     ]
    }
   ],
   "source": [
    "# merge.csv에서 점수가 80이상인 사람들의 이름 출력\n",
    "with open(\"merge.csv\", \"r\") as file:\n",
    "    reader = csv.DictReader(file)\n",
    "    for row in reader:\n",
    "        if int(row[\"Score\"]) >= 86:\n",
    "            print(row[\"Name\"])"
   ]
  },
  {
   "cell_type": "code",
   "execution_count": 19,
   "id": "6ec55788-9f39-4abd-92dd-2097aa9491e5",
   "metadata": {},
   "outputs": [
    {
     "name": "stdout",
     "output_type": "stream",
     "text": [
      "Bob (26세) - Busan\n",
      "Charlie (30세) - Incheon\n",
      "Eve (27세) - Gwangju\n"
     ]
    }
   ],
   "source": [
    "with open(\"people.csv\", \"r\") as file:\n",
    "    reader = csv.DictReader(file)\n",
    "    for row in reader:\n",
    "        if int(row[\"Age\"]) >= 25:\n",
    "            print(f'{row[\"Name\"]} ({row[\"Age\"]}세) - {row[\"City\"]}')"
   ]
  },
  {
   "cell_type": "markdown",
   "id": "55081464-eaa0-462d-b1ac-0d1ef1a71537",
   "metadata": {},
   "source": [
    "- Json(JavaScript Object Notation)"
   ]
  },
  {
   "cell_type": "code",
   "execution_count": 21,
   "id": "a3d49f15-c293-4a06-923f-ae1ccfbf7c36",
   "metadata": {},
   "outputs": [
    {
     "name": "stdout",
     "output_type": "stream",
     "text": [
      "{'name': 'Alice', 'age': 25, 'city': 'Seoul', 'isStudent': False, 'skills': ['Python', 'JavaScript', 'SQL']}\n"
     ]
    }
   ],
   "source": [
    "import json\n",
    "\n",
    "# json 파일 읽기\n",
    "with open(\"data.json\", \"r\") as file:\n",
    "    data = json.load(file)\n",
    "    print(data)"
   ]
  },
  {
   "cell_type": "code",
   "execution_count": 28,
   "id": "e380c098-6abb-40ea-a8bb-92d1cfc1630f",
   "metadata": {},
   "outputs": [],
   "source": [
    "data2 = {\"Name\":\"Bob\",\n",
    "         \"Age\":30,\n",
    "         \"City\":\"Busan\",\n",
    "         \"isStudent\":\"False\",\n",
    "        }\n",
    "\n",
    "with open(\"output.json\", \"w\") as file:\n",
    "    json.dump(data2, file, indent=4)"
   ]
  },
  {
   "cell_type": "code",
   "execution_count": 26,
   "id": "b7dd8c3e-08ea-4acc-9a10-82c96aa28ebf",
   "metadata": {},
   "outputs": [
    {
     "name": "stdout",
     "output_type": "stream",
     "text": [
      "{'Name': 'Bob', 'Age': 30, 'City': 'Busan', 'isStudent': 'False'}\n"
     ]
    }
   ],
   "source": [
    "with open(\"output.json\", \"r\") as file:\n",
    "    data = json.load(file)\n",
    "    print(data)"
   ]
  },
  {
   "cell_type": "code",
   "execution_count": 31,
   "id": "e93b4c0c-88b7-446f-b726-40c2d511d731",
   "metadata": {},
   "outputs": [
    {
     "name": "stdout",
     "output_type": "stream",
     "text": [
      "{\"Name\": \"지\", \"Age\": 20, \"City\": \"Busan\", \"isStudent\": \"False\"}\n"
     ]
    }
   ],
   "source": [
    "data3 = {\"Name\":\"지\",\n",
    "         \"Age\":20,\n",
    "         \"City\":\"Busan\",\n",
    "         \"isStudent\":\"False\",\n",
    "        }\n",
    "json_data3 = json.dumps(data3, ensure_ascii=False)\n",
    "print(json_data3)"
   ]
  },
  {
   "cell_type": "code",
   "execution_count": 33,
   "id": "9ece397d-2bed-4887-a4d2-038c5f0ce782",
   "metadata": {},
   "outputs": [
    {
     "name": "stdout",
     "output_type": "stream",
     "text": [
      "이름: Alice, 나이: 25\n",
      "이름: Bob, 나이: 32\n",
      "이름: Charlie, 나이: 29\n",
      "이름: David, 나이: 35\n"
     ]
    }
   ],
   "source": [
    "with open(\"people.json\", \"r\") as file:\n",
    "    data = json.load(file)\n",
    "    for row in data:\n",
    "        print(f'이름: {row[\"name\"]}, 나이: {row[\"age\"]}')"
   ]
  },
  {
   "cell_type": "code",
   "execution_count": 46,
   "id": "0e0b7446-0be6-4c9e-ad55-88ea559bd78b",
   "metadata": {},
   "outputs": [
    {
     "name": "stdout",
     "output_type": "stream",
     "text": [
      "phone : 123-4567\n",
      "5\n"
     ]
    }
   ],
   "source": [
    "with open(\"nested.json\", \"r\") as file:\n",
    "    data = json.load(file)\n",
    "    count = 0\n",
    "    for row in data:\n",
    "        for row2 in data[row]:\n",
    "            for row3 in data[row][row2]:\n",
    "                if 'phone' in row3:\n",
    "                    print(f'phone : {data[row][row2][row3]}')\n",
    "                count += 1\n",
    "\n",
    "print(count)"
   ]
  },
  {
   "cell_type": "code",
   "execution_count": 52,
   "id": "78d3e8d6-4119-4b28-87ac-c024baf36eae",
   "metadata": {},
   "outputs": [
    {
     "name": "stdout",
     "output_type": "stream",
     "text": [
      "4\n",
      "{'name': 'Alice', 'age': 25, 'city': 'Seoul'}\n"
     ]
    }
   ],
   "source": [
    "with open(\"people.json\", \"r\") as file:\n",
    "    data = json.load(file)\n",
    "    # [ ] -> list\n",
    "    # in json -> jsonArray\n",
    "    print(len(data))\n",
    "    print(data[0])\n",
    "    #for row in data:"
   ]
  },
  {
   "attachments": {
    "b21ad50d-aa38-4d0f-8e23-7fc6014654e0.png": {
     "image/png": "[encoded data removed]"
    }
   },
   "cell_type": "markdown",
   "id": "0d2340ed-8756-4990-83ab-17c9c67da3ba",
   "metadata": {},
   "source": [
    "![image.png](attachment:b21ad50d-aa38-4d0f-8e23-7fc6014654e0.png)"
   ]
  },
  {
   "cell_type": "code",
   "execution_count": 71,
   "id": "f2fabf8b-7a17-434b-b2a8-fb94d1a74ad3",
   "metadata": {},
   "outputs": [
    {
     "name": "stdout",
     "output_type": "stream",
     "text": [
      "['Seoul']\n",
      "['Seoul', 'Busan']\n",
      "['Seoul', 'Busan', 'Incheon']\n",
      "['Seoul', 'Busan', 'Incheon', 'Daegu']\n"
     ]
    }
   ],
   "source": [
    "with open(\"people.json\", \"r\") as file:\n",
    "    data = json.load(file)\n",
    "    cities = []\n",
    "    with open(\"cities.json\", \"w\", newline=\"\") as file2:\n",
    "        for row in data:\n",
    "            cities.append(row['city'])\n",
    "            print(cities)\n",
    "        json.dump(cities, file2, indent=4)\n",
    "\n",
    "        "
   ]
  },
  {
   "cell_type": "code",
   "execution_count": 72,
   "id": "92d371c7-5199-4a37-a2ea-82a52ab199bf",
   "metadata": {},
   "outputs": [
    {
     "name": "stdout",
     "output_type": "stream",
     "text": [
      "['Seoul', 'Busan', 'Incheon', 'Daegu']\n"
     ]
    }
   ],
   "source": [
    "with open(\"cities.json\", \"r\") as file:\n",
    "    data = json.load(file)\n",
    "    print(data)"
   ]
  },
  {
   "cell_type": "markdown",
   "id": "94ff080c-88e9-4a41-aba3-1e5f54a6f7ff",
   "metadata": {},
   "source": [
    "# 영화진흥위원회 오픈 API"
   ]
  },
  {
   "cell_type": "code",
   "execution_count": 75,
   "id": "c4a9807b-56f9-4eeb-bd97-a950bbeb2125",
   "metadata": {},
   "outputs": [
    {
     "name": "stdout",
     "output_type": "stream",
     "text": [
      "{'boxOfficeResult': {'boxofficeType': '일별 박스오피스', 'showRange': '20250209~20250209', 'dailyBoxOfficeList': [{'rnum': '1', 'rank': '1', 'rankInten': '0', 'rankOldAndNew': 'OLD', 'movieCd': '20233006', 'movieNm': '히트맨2', 'openDt': '2025-01-22', 'salesAmt': '747781800', 'salesShare': '29.0', 'salesInten': '-90176360', 'salesChange': '-10.8', 'salesAcc': '21812077140', 'audiCnt': '78090', 'audiInten': '-9307', 'audiChange': '-10.6', 'audiAcc': '2316102', 'scrnCnt': '1142', 'showCnt': '4094'}, {'rnum': '2', 'rank': '2', 'rankInten': '0', 'rankOldAndNew': 'OLD', 'movieCd': '20223819', 'movieNm': '말할 수 없는 비밀', 'openDt': '2025-01-27', 'salesAmt': '535344640', 'salesShare': '20.7', 'salesInten': '-54639080', 'salesChange': '-9.3', 'salesAcc': '5482453140', 'audiCnt': '53981', 'audiInten': '-6110', 'audiChange': '-10.2', 'audiAcc': '574482', 'scrnCnt': '978', 'showCnt': '3191'}, {'rnum': '3', 'rank': '3', 'rankInten': '0', 'rankOldAndNew': 'OLD', 'movieCd': '20216476', 'movieNm': '브로큰', 'openDt': '2025-02-05', 'salesAmt': '309197040', 'salesShare': '12.0', 'salesInten': '-72079060', 'salesChange': '-18.9', 'salesAcc': '1497163820', 'audiCnt': '32076', 'audiInten': '-7340', 'audiChange': '-18.6', 'audiAcc': '161003', 'scrnCnt': '808', 'showCnt': '2534'}, {'rnum': '4', 'rank': '4', 'rankInten': '0', 'rankOldAndNew': 'OLD', 'movieCd': '20247450', 'movieNm': '검은 수녀들', 'openDt': '2025-01-24', 'salesAmt': '290883600', 'salesShare': '11.3', 'salesInten': '-63577660', 'salesChange': '-17.9', 'salesAcc': '15471469880', 'audiCnt': '29866', 'audiInten': '-6393', 'audiChange': '-17.6', 'audiAcc': '1600314', 'scrnCnt': '819', 'showCnt': '2435'}, {'rnum': '5', 'rank': '5', 'rankInten': '0', 'rankOldAndNew': 'OLD', 'movieCd': '20244762', 'movieNm': '서브스턴스', 'openDt': '2024-12-11', 'salesAmt': '111236000', 'salesShare': '4.3', 'salesInten': '-17117020', 'salesChange': '-13.3', 'salesAcc': '4216240480', 'audiCnt': '11194', 'audiInten': '-1845', 'audiChange': '-14.1', 'audiAcc': '432545', 'scrnCnt': '324', 'showCnt': '567'}, {'rnum': '6', 'rank': '6', 'rankInten': '1', 'rankOldAndNew': 'OLD', 'movieCd': '20051060', 'movieNm': '극장판 포켓몬스터 AG: 뮤와 파동의 용사 루카리오', 'openDt': '2025-01-22', 'salesAmt': '62587800', 'salesShare': '2.4', 'salesInten': '7418780', 'salesChange': '13.4', 'salesAcc': '1475884740', 'audiCnt': '6992', 'audiInten': '861', 'audiChange': '14', 'audiAcc': '166668', 'scrnCnt': '388', 'showCnt': '502'}, {'rnum': '7', 'rank': '7', 'rankInten': '-1', 'rankOldAndNew': 'OLD', 'movieCd': '20228796', 'movieNm': '하얼빈', 'openDt': '2024-12-24', 'salesAmt': '54396260', 'salesShare': '2.1', 'salesInten': '-9518640', 'salesChange': '-14.9', 'salesAcc': '46824087480', 'audiCnt': '5612', 'audiInten': '-1008', 'audiChange': '-15.2', 'audiAcc': '4896237', 'scrnCnt': '408', 'showCnt': '564'}, {'rnum': '8', 'rank': '8', 'rankInten': '1', 'rankOldAndNew': 'OLD', 'movieCd': '20246361', 'movieNm': '뽀로로 극장판 바닷속 대모험', 'openDt': '2025-01-01', 'salesAmt': '41961100', 'salesShare': '1.6', 'salesInten': '5948500', 'salesChange': '16.5', 'salesAcc': '3470494790', 'audiCnt': '4584', 'audiInten': '692', 'audiChange': '17.8', 'audiAcc': '403244', 'scrnCnt': '214', 'showCnt': '256'}, {'rnum': '9', 'rank': '9', 'rankInten': '-1', 'rankOldAndNew': 'OLD', 'movieCd': '20246777', 'movieNm': '더 폴: 디렉터스 컷', 'openDt': '2024-12-25', 'salesAmt': '46407500', 'salesShare': '1.8', 'salesInten': '-12300900', 'salesChange': '-21', 'salesAcc': '1211702100', 'audiCnt': '4562', 'audiInten': '-617', 'audiChange': '-11.9', 'audiAcc': '116729', 'scrnCnt': '58', 'showCnt': '87'}, {'rnum': '10', 'rank': '10', 'rankInten': '0', 'rankOldAndNew': 'OLD', 'movieCd': '20240855', 'movieNm': '바다 탐험대 옥토넛 어보브 앤 비욘드 : 극지방 대작전', 'openDt': '2025-01-27', 'salesAmt': '31712500', 'salesShare': '1.2', 'salesInten': '4036000', 'salesChange': '14.6', 'salesAcc': '369724700', 'audiCnt': '3552', 'audiInten': '408', 'audiChange': '13', 'audiAcc': '40070', 'scrnCnt': '185', 'showCnt': '244'}]}}\n"
     ]
    }
   ],
   "source": [
    "key = \"fc3e01e0ebf16bfe396a5b1058655634\"\n",
    "date = \"20250209\"\n",
    "url = f\"https://kobis.or.kr/kobisopenapi/webservice/rest/boxoffice/searchDailyBoxOfficeList.json?key={key}&targetDt={date}\"\n",
    "\n",
    "import requests\n",
    "response = requests.get(url)\n",
    "result = response.json()\n",
    "print(result)"
   ]
  },
  {
   "cell_type": "code",
   "execution_count": 87,
   "id": "e8c22ad6-f736-4e53-977d-51f333c61cd5",
   "metadata": {},
   "outputs": [
    {
     "name": "stdout",
     "output_type": "stream",
     "text": [
      "{'boxOfficeResult': {'boxofficeType': '일별 박스오피스', 'showRange': '20241106~20241106', 'dailyBoxOfficeList': [{'rnum': '1', 'rank': '1', 'rankInten': '5', 'rankOldAndNew': 'OLD', 'movieCd': '20233261', 'movieNm': '청설', 'openDt': '2024-11-06', 'salesAmt': '339418710', 'salesShare': '28.3', 'salesInten': '309835710', 'salesChange': '1047.3', 'salesAcc': '447178710', 'audiCnt': '37142', 'audiInten': '34107', 'audiChange': '1123.8', 'audiAcc': '46755', 'scrnCnt': '1046', 'showCnt': '3976'}, {'rnum': '2', 'rank': '2', 'rankInten': '-1', 'rankOldAndNew': 'OLD', 'movieCd': '20240941', 'movieNm': '베놈: 라스트 댄스', 'openDt': '2024-10-23', 'salesAmt': '239570240', 'salesShare': '20.0', 'salesInten': '-6475200', 'salesChange': '-2.6', 'salesAcc': '13664756388', 'audiCnt': '25109', 'audiInten': '-451', 'audiChange': '-1.8', 'audiAcc': '1391249', 'scrnCnt': '930', 'showCnt': '3034'}, {'rnum': '3', 'rank': '3', 'rankInten': '-1', 'rankOldAndNew': 'OLD', 'movieCd': '20233057', 'movieNm': '아마존 활명수', 'openDt': '2024-10-30', 'salesAmt': '149182720', 'salesShare': '12.4', 'salesInten': '-62242630', 'salesChange': '-29.4', 'salesAcc': '3840368310', 'audiCnt': '16793', 'audiInten': '-7106', 'audiChange': '-29.7', 'audiAcc': '433217', 'scrnCnt': '791', 'showCnt': '2223'}, {'rnum': '4', 'rank': '4', 'rankInten': '0', 'rankOldAndNew': 'NEW', 'movieCd': '20245078', 'movieNm': '레드 원', 'openDt': '2024-11-06', 'salesAmt': '86049360', 'salesShare': '7.2', 'salesInten': '86049360', 'salesChange': '100', 'salesAcc': '88272360', 'audiCnt': '8687', 'audiInten': '8687', 'audiChange': '100', 'audiAcc': '8934', 'scrnCnt': '574', 'showCnt': '1168'}, {'rnum': '5', 'rank': '5', 'rankInten': '0', 'rankOldAndNew': 'NEW', 'movieCd': '20245121', 'movieNm': '데드라인', 'openDt': '2024-11-06', 'salesAmt': '36941700', 'salesShare': '3.1', 'salesInten': '36941700', 'salesChange': '100', 'salesAcc': '45437700', 'audiCnt': '5755', 'audiInten': '5755', 'audiChange': '100', 'audiAcc': '6765', 'scrnCnt': '184', 'showCnt': '365'}, {'rnum': '6', 'rank': '6', 'rankInten': '-3', 'rankOldAndNew': 'OLD', 'movieCd': '20227979', 'movieNm': '보통의 가족', 'openDt': '2024-10-16', 'salesAmt': '40361900', 'salesShare': '3.4', 'salesInten': '-29398700', 'salesChange': '-42.1', 'salesAcc': '5732554350', 'audiCnt': '4513', 'audiInten': '-3264', 'audiChange': '-42', 'audiAcc': '616435', 'scrnCnt': '431', 'showCnt': '610'}, {'rnum': '7', 'rank': '7', 'rankInten': '-3', 'rankOldAndNew': 'OLD', 'movieCd': '20232949', 'movieNm': '대도시의 사랑법', 'openDt': '2024-10-01', 'salesAmt': '36773800', 'salesShare': '3.1', 'salesInten': '-17476400', 'salesChange': '-32.2', 'salesAcc': '7919345800', 'audiCnt': '3868', 'audiInten': '-1935', 'audiChange': '-33.3', 'audiAcc': '838832', 'scrnCnt': '374', 'showCnt': '562'}, {'rnum': '8', 'rank': '8', 'rankInten': '0', 'rankOldAndNew': 'NEW', 'movieCd': '20244912', 'movieNm': '아노라', 'openDt': '2024-11-06', 'salesAmt': '34962400', 'salesShare': '2.9', 'salesInten': '34962400', 'salesChange': '100', 'salesAcc': '73390900', 'audiCnt': '3710', 'audiInten': '3710', 'audiChange': '100', 'audiAcc': '6493', 'scrnCnt': '311', 'showCnt': '492'}, {'rnum': '9', 'rank': '9', 'rankInten': '42', 'rankOldAndNew': 'OLD', 'movieCd': '20247574', 'movieNm': '아메바 소녀들과 학교괴담: 개교기념일', 'openDt': '2024-11-06', 'salesAmt': '28112700', 'salesShare': '2.3', 'salesInten': '27374700', 'salesChange': '3709.3', 'salesAcc': '39208400', 'audiCnt': '3002', 'audiInten': '2920', 'audiChange': '3561', 'audiAcc': '4280', 'scrnCnt': '203', 'showCnt': '410'}, {'rnum': '10', 'rank': '10', 'rankInten': '-5', 'rankOldAndNew': 'OLD', 'movieCd': '20190280', 'movieNm': '날씨의 아이', 'openDt': '2019-10-30', 'salesAmt': '19387400', 'salesShare': '1.6', 'salesInten': '-11787700', 'salesChange': '-37.8', 'salesAcc': '7002067492', 'audiCnt': '2010', 'audiInten': '-1155', 'audiChange': '-36.5', 'audiAcc': '837952', 'scrnCnt': '216', 'showCnt': '262'}]}}\n"
     ]
    }
   ],
   "source": [
    "key = \"fc3e01e0ebf16bfe396a5b1058655634\"\n",
    "date = \"20241106\"\n",
    "url = f\"https://kobis.or.kr/kobisopenapi/webservice/rest/boxoffice/searchDailyBoxOfficeList.json?key={key}&targetDt={date}\"\n",
    "\n",
    "import requests\n",
    "response2 = requests.get(url)\n",
    "result2 = response2.json()\n",
    "print(result2)"
   ]
  },
  {
   "cell_type": "code",
   "execution_count": 91,
   "id": "b4c537db-06aa-4f34-bf30-d06f596c1e2b",
   "metadata": {},
   "outputs": [
    {
     "name": "stdout",
     "output_type": "stream",
     "text": [
      "1위 : 히트맨2 / 금일 관객수 : 78090\n",
      "2위 : 말할 수 없는 비밀 / 금일 관객수 : 53981\n",
      "3위 : 브로큰 / 금일 관객수 : 32076\n",
      "4위 : 검은 수녀들 / 금일 관객수 : 29866\n",
      "5위 : 서브스턴스 / 금일 관객수 : 11194\n",
      "6위 : 극장판 포켓몬스터 AG: 뮤와 파동의 용사 루카리오 / 금일 관객수 : 6992\n",
      "7위 : 하얼빈 / 금일 관객수 : 5612\n",
      "8위 : 뽀로로 극장판 바닷속 대모험 / 금일 관객수 : 4584\n",
      "9위 : 더 폴: 디렉터스 컷 / 금일 관객수 : 4562\n",
      "10위 : 바다 탐험대 옥토넛 어보브 앤 비욘드 : 극지방 대작전 / 금일 관객수 : 3552\n"
     ]
    }
   ],
   "source": [
    "boxOfficeResult = result[\"boxOfficeResult\"]\n",
    "# boxOfficeResult[\"showRange\"][:8]\n",
    "boxOfficeResult[\"showRange\"].split(\"~\")[0]\n",
    "\n",
    "for row in boxOfficeResult[\"dailyBoxOfficeList\"]:\n",
    "    if 'OLD' in row[\"rankOldAndNew\"]:\n",
    "        print(f'{row[\"rank\"]}위 : {row[\"movieNm\"]} / 금일 관객수 : {row[\"audiCnt\"]}')"
   ]
  },
  {
   "cell_type": "code",
   "execution_count": 90,
   "id": "9f1ceaeb-1fac-4635-8cb3-0a094f3cddba",
   "metadata": {},
   "outputs": [
    {
     "name": "stdout",
     "output_type": "stream",
     "text": [
      "4위 : 레드 원 / 금일 관객수 : 8687\n",
      "5위 : 데드라인 / 금일 관객수 : 5755\n",
      "8위 : 아노라 / 금일 관객수 : 3710\n"
     ]
    }
   ],
   "source": [
    "boxOfficeResult2 = result2[\"boxOfficeResult\"]\n",
    "# boxOfficeResult[\"showRange\"][:8]\n",
    "boxOfficeResult2[\"showRange\"].split(\"~\")[0]\n",
    "\n",
    "for row in boxOfficeResult2[\"dailyBoxOfficeList\"]:\n",
    "    if 'NEW' in row[\"rankOldAndNew\"]:\n",
    "        print(f'{row[\"rank\"]}위 : {row[\"movieNm\"]} / 금일 관객수 : {row[\"audiCnt\"]}')"
   ]
  },
  {
   "cell_type": "code",
   "execution_count": null,
   "id": "25211391-8f95-4c80-b5ec-2e3c1a9a756e",
   "metadata": {},
   "outputs": [],
   "source": []
  }
 ],
 "metadata": {
  "kernelspec": {
   "display_name": "Python 3 (ipykernel)",
   "language": "python",
   "name": "python3"
  },
  "language_info": {
   "codemirror_mode": {
    "name": "ipython",
    "version": 3
   },
   "file_extension": ".py",
   "mimetype": "text/x-python",
   "name": "python",
   "nbconvert_exporter": "python",
   "pygments_lexer": "ipython3",
   "version": "3.9.21"
  }
 },
 "nbformat": 4,
 "nbformat_minor": 5
}
