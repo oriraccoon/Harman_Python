{
 "cells": [
  {
   "cell_type": "code",
   "execution_count": 66,
   "id": "9e306028-7535-4a3a-81c1-e708b79c6b9e",
   "metadata": {},
   "outputs": [],
   "source": [
    "import numpy as np\n",
    "import pandas as pd\n",
    "import matplotlib.pyplot as plt\n",
    "import glob\n",
    "import seaborn as sns\n",
    "import os\n",
    "import csv"
   ]
  },
  {
   "cell_type": "code",
   "execution_count": 2,
   "id": "33c5cccf-3b46-4e67-91e4-a40aa4cca18a",
   "metadata": {},
   "outputs": [],
   "source": [
    "import requests\n",
    "\n",
    "headers = {\"User-Agent\": \"Mozilla/5.0 (Windows NT 11.0; Win64; x64)\"}\n",
    "\n",
    "url_naver = \"https://www.naver.com/\" # 네이버 주소\n",
    "\n",
    "try:\n",
    "    response = requests.get(url_naver, headers=headers)\n",
    "    # 200이외의 status 발생 시 except구문으로 빠짐\n",
    "    response.raise_for_status()\n",
    "except requests.exceptions.HTTPError as http_err:\n",
    "    print(http_err)\n",
    "except requests.exceptions.ConnectionError as conn_err:\n",
    "    print(conn_err)\n",
    "except requests.exceptions.Timeout as time_err:\n",
    "    print(time_err)\n",
    "except requests.exceptions.RequestException as err:\n",
    "    print(err)"
   ]
  },
  {
   "cell_type": "code",
   "execution_count": 3,
   "id": "2cc071e4-8135-4de6-a8d3-85bff49b4981",
   "metadata": {},
   "outputs": [
    {
     "name": "stdout",
     "output_type": "stream",
     "text": [
      "division by zero\n"
     ]
    }
   ],
   "source": [
    "try:\n",
    "    10 / 0\n",
    "except ZeroDivisionError as err:\n",
    "    print(err)"
   ]
  },
  {
   "cell_type": "code",
   "execution_count": 3,
   "id": "33dd5b0a-ff61-4c63-bf73-19010668646c",
   "metadata": {},
   "outputs": [],
   "source": [
    "from bs4 import BeautifulSoup as bs"
   ]
  },
  {
   "cell_type": "code",
   "execution_count": 5,
   "id": "3a14d36b-5eed-46b7-bb4b-21889e3fb774",
   "metadata": {},
   "outputs": [
    {
     "name": "stdout",
     "output_type": "stream",
     "text": [
      "<html>\n",
      "   <head>\n",
      "      <title>예제 페이지</title>\n",
      "   </head>\n",
      "   <body>\n",
      "      <h1>안녕하세요</h1>\n",
      "      <p class=\"text\">웹 크롤링을 배우는 중입니다.</p>          \n",
      "   <a href=\"https://www.naver.com\">네이버</a>\n",
      "   <a href=\"https://www.google.com\">구글</a>\n",
      "   </body>\n",
      "</html>\n"
     ]
    }
   ],
   "source": [
    "# 연습용 HTML\n",
    "with open(\"exam.html\", \"r\", encoding=\"utf-8\") as file:\n",
    "    exam_html = file.read()\n",
    "\n",
    "print(exam_html)"
   ]
  },
  {
   "cell_type": "code",
   "execution_count": 6,
   "id": "8dea9501-ee66-4768-b8d7-af38b04c1a4a",
   "metadata": {},
   "outputs": [
    {
     "name": "stdout",
     "output_type": "stream",
     "text": [
      "예제 페이지\n"
     ]
    }
   ],
   "source": [
    "# find(태그)\n",
    "# 첫 번째로 보이는 태그의 시작 ~ 끝까지 가져온다\n",
    "# 반환 타입은 문자열!!\n",
    "\n",
    "soup_exam = bs(exam_html, \"html.parser\")\n",
    "title = soup_exam.find(\"title\").text\n",
    "print(title)"
   ]
  },
  {
   "cell_type": "code",
   "execution_count": 7,
   "id": "32b9614b-8a5c-46ad-95bf-71a1ba1eac9b",
   "metadata": {},
   "outputs": [
    {
     "name": "stdout",
     "output_type": "stream",
     "text": [
      "\n",
      "안녕하세요\n",
      "웹 크롤링을 배우는 중입니다.\n",
      "네이버\n",
      "구글\n",
      "\n"
     ]
    }
   ],
   "source": [
    "body = soup_exam.find(\"body\").text\n",
    "print(body)"
   ]
  },
  {
   "cell_type": "code",
   "execution_count": 8,
   "id": "7d6f0278-e32f-41bb-b72f-f24f96878288",
   "metadata": {},
   "outputs": [
    {
     "name": "stdout",
     "output_type": "stream",
     "text": [
      "h1 내용 : 안녕하세요\n"
     ]
    }
   ],
   "source": [
    "# Q. h1 태그 안의 내용을 h1이라는 변수에 저장하고 \n",
    "# 다음과 같이 출력하시오\n",
    "# h1 내용 : 안녕하세요\n",
    "\n",
    "h1 = soup_exam.find(\"h1\").text\n",
    "print(f\"h1 내용 : {h1}\")"
   ]
  },
  {
   "cell_type": "code",
   "execution_count": 9,
   "id": "06749db8-e2ba-4217-88f0-25ad78cbd54b",
   "metadata": {},
   "outputs": [
    {
     "data": {
      "text/plain": [
       "'\\n\\n\\n본문내용 바로가기\\n\\n\\n\\n\\n\\n\\n\\n\\n\\n\\n\\n\\n\\n\\n\\n\\n\\n\\n서울\\n\\n\\n\\n\\n\\n\\n\\n\\n\\n캠퍼스\\nSTORY\\n\\n\\n\\n\\n\\n\\n\\n\\n\\n\\n\\n\\n\\n\\n\\n블로그\\n페이스북\\n\\n\\n\\nBANNEROPEN\\n\\n\\n\\n\\n\\n\\n\\n\\n\\n\\n\\n\\n\\n\\n센터안내\\n\\n\\n\\n\\n인사말\\n\\n\\n기관현황\\n\\n\\n조직ㆍ직원\\n\\n\\n주요사업\\n\\n\\n시설안내\\n\\n\\n오시는 길\\n\\n\\n직원 채용정보\\n\\n\\n\\n\\n\\n\\n취업연계 교육\\n\\n\\n\\n\\n취업연계 교육안내\\n\\n\\n교육과정ㆍ원서접수\\n\\n\\n접수ㆍ합격확인\\n\\n\\n수강후기\\n\\n\\n취업정보\\n\\n\\n\\n\\n\\n\\n직무향상 교육\\n\\n\\n\\n\\n직무향상 교육안내\\n\\n\\n교육과정·수강신청\\n\\n\\n공지사항\\n\\n\\n신청확인\\n\\n\\n\\n\\n\\n\\n교육부 신기술 연수\\n\\n\\n\\n\\n미래유망분야 교육안내\\n\\n\\n미래유망분야 교육과정\\n\\n\\n미래유망분야 우수 사례\\n\\n\\n신중년사업안내\\n\\n\\n상담신청\\n\\n\\n\\n\\n\\n\\n구인/구직\\n\\n\\n\\n\\n지원안내\\n\\n\\n채용정보\\n\\n\\n인재정보\\n\\n\\n구인요청·확인\\n\\n\\n강사등록\\n\\n\\n교육수요조사\\n\\n\\n\\n\\n\\n\\n알림/홍보\\n\\n\\n\\n\\n공지사항\\n\\n\\n홍보자료\\n\\n\\n개선·제안\\n\\n\\n입학상담\\n\\n\\n시설대여안내\\n\\n\\n\\n\\n\\n\\n\\n\\n\\n\\n\\n\\n\\n\\n\\n\\n\\n\\n\\n\\n\\n\\n\\n\\n\\n\\n\\n\\n\\n\\n\\n\\n\\n\\n\\n\\n\\n\\n\\n취업연계 교육\\n\\n\\n\\n\\nhome\\n\\n취업연계 교육\\n\\n센터안내\\n취업연계 교육\\n직무향상 교육\\n교육부 신기술 연수\\n구인/구직\\n알림/홍보\\n캠퍼스스토리\\n이용안내\\n\\n\\n\\n취업정보\\n\\n취업연계 교육안내\\n교육과정ㆍ원서접수\\n접수ㆍ합격확인\\n수강후기\\n취업정보\\n\\n\\n\\n인쇄\\n\\n\\n\\n\\n\\n\\n\\n\\n\\n\\n\\n\\n\\n\\n\\n\\n\\n\\n\\n\\n\\n\\n\\n\\n\\n\\n\\n취업정보\\n\\n\\n\\n취업자료실\\n취업우수 사례\\n취업상담(Q/A)\\n\\n\\n\\n\\n\\n\\r\\n\\t\\t\\t\\t\\t[2024년 하반기 수료과정 취업현황] [Harman] 세미콘 아카데미-반도체 설계\\r\\n\\t\\t\\t\\t\\n\\n\\n\\n작성자김고은 \\n작성일\\r\\n                \\r\\n                2024-12-30 16:21:34\\r\\n    \\n\\n\\n\\n\\n\\xa0\\n\\n\\xa0\\n\\xa0\\n\\n\\xa0\\n\\n\\n\\n\\n이전글\\n[2024년 교육과정 취업현황] 임베디드 시스템반도체 개발자\\n\\n\\n\\n\\n다음글\\n[2024년 교육과정 취업현황] 반도체장비 전장제어과정\\n\\n\\n\\n\\n\\n\\n\\n\\n\\n\\n\\n\\n\\n\\n\\n\\n\\n\\n목록\\n\\n\\n\\n\\n\\n\\n\\r\\n\\t\\t\\t\\t\\t\\t\\t비밀번호 입력\\r\\n\\t\\t\\t\\t\\t\\t\\n\\n\\n비밀번호를 입력해주세요.\\n\\n\\n\\n\\n\\n\\n\\n확인\\n\\n\\n\\n팝업닫기\\n\\n\\n\\n\\n\\n\\n\\n페이지 내용, 사용편의성에 대한 만족도를 평가해 주세요.\\n\\n\\n\\n\\n매우만족\\n\\n\\n\\n만족\\n\\n\\n\\n보통\\n\\n\\n\\n불만족\\n\\n\\n\\n매우불만족\\n\\n\\n\\n\\n\\n\\n평가\\n\\n\\n기업교육팀(성인경)\\n전화번호 : 032-810-6513\\n\\n\\n\\n\\n\\n\\n\\n\\n\\n\\n\\n\\n\\n\\n\\n개인정보처리방침\\n\\n영상정보처리기기 운영·관리 방침\\n이메일주소무단수집거부\\n모바일 페이지\\n사이트맵\\n\\n\\n\\n\\nFAMILY SITE\\n전북인력개발원\\n충남인력개발원\\n경기인력개발원\\n광주인력개발원\\n인천인력개발원\\n부산인력개발원\\n무인항공교육센터(드론)\\nHRD포털\\n디지털선도기업아카데미\\n사회공헌활동지원사업사전교육\\n특성화고·마이스터고 포털\\n진로체험(꿈길)\\n직업기초능력평가\\n\\n\\n\\n\\n\\n\\n\\n\\n\\n\\n(07702) 서울특별시 강서구 화곡로 179 대한상공회의소 서울기술교육센터\\n\\n사업자등록번호 : 404-82-28259\\n 대표자 : 김연선\\nTEL.02-311-1000\\nFAX.02-2697-9700\\n\\ncopyright(c) www.kccistc.net. All rights reserved.\\n\\n\\n입학상담\\n\\n\\n구직자 교육상담\\n\\r\\n\\t\\t\\t\\t\\t\\t\\t    02-311-1010\\r\\n\\t\\t\\t\\t\\t\\t\\t\\n\\n근로자 교육상담\\n\\r\\n\\t\\t\\t\\t\\t\\t\\t    02-311-1014\\n상담시간평일 09:00~18:00(점심시간 제외 12:00~13:00)\\n\\n\\n\\n\\n\\n\\n위로가기\\n\\n\\n\\n\\n\\n\\n\\n\\n\\n\\n\\n\\n\\n\\n\\n확인\\n\\n\\n\\n팝업닫기\\n\\n\\n\\n\\n\\n\\n\\n\\n\\n\\n\\n\\n\\n\\n\\n'"
      ]
     },
     "execution_count": 9,
     "metadata": {},
     "output_type": "execute_result"
    }
   ],
   "source": [
    "url_kccistc = \"https://www.kccistc.net/bbs/bbsDetail.do?bbs_id=187&rootMenuId=3953&menuId=3959&currentPage=1&customer_page_list=&list_type=1&bbs_sno=220219&passwd=\"\n",
    "response2 = requests.get(url_kccistc, headers)\n",
    "soup_kccistc = bs(response2.text, \"html.parser\")\n",
    "soup_kccistc.find(\"body\").text"
   ]
  },
  {
   "cell_type": "code",
   "execution_count": 10,
   "id": "aa343057-e7cd-4644-969c-0ae126178ba0",
   "metadata": {},
   "outputs": [
    {
     "name": "stdout",
     "output_type": "stream",
     "text": [
      "['네이버', '구글']\n"
     ]
    }
   ],
   "source": [
    "a_tags = soup_exam.find_all(\"a\")\n",
    "\n",
    "info = []\n",
    "for a in a_tags:\n",
    "    info.append(a.text)\n",
    "\n",
    "print(info)"
   ]
  },
  {
   "cell_type": "code",
   "execution_count": 12,
   "id": "608f1539-1e8c-4ff8-855a-db6dcbe1e4c8",
   "metadata": {},
   "outputs": [
    {
     "name": "stdout",
     "output_type": "stream",
     "text": [
      "['상단영역 바로가기', '서비스 메뉴 바로가기', '새소식 블록 바로가기', '쇼핑 블록 바로가기', '관심사 블록 바로가기']\n"
     ]
    }
   ],
   "source": [
    "# naver 로 요청을 해서 응답 받은 response를 활용해서\n",
    "# soup_naver를 만들고\n",
    "# 'a' 태그 내용들 가져오자\n",
    "# 너무 많으니 앞에 5개만 출력\n",
    "\n",
    "soup_n = bs(response.text, \"html.parser\")\n",
    "a_tags = soup_n.find_all(\"a\")\n",
    "result=[]\n",
    "count = 0\n",
    "for a in a_tags:\n",
    "    result.append(a.text)\n",
    "    if count < 4:\n",
    "        count += 1\n",
    "    else:\n",
    "        break\n",
    "\n",
    "print(result)"
   ]
  },
  {
   "cell_type": "code",
   "execution_count": 10,
   "id": "f7d8752d-b4c6-41b8-9a82-f7e8c8295ddf",
   "metadata": {},
   "outputs": [],
   "source": [
    "url_news = \"https://news.naver.com/section/105\"\n",
    "response_news = requests.get(url_news, headers=headers)"
   ]
  },
  {
   "cell_type": "code",
   "execution_count": 13,
   "id": "7d745a4a-7452-4cc9-80a9-e14e52c37d85",
   "metadata": {},
   "outputs": [
    {
     "name": "stdout",
     "output_type": "stream",
     "text": [
      "02.12(수)\n",
      "SKT, 지난해 영업익 1조8234억원…전년比 4%↑\n",
      "한컴·삼성SDS, 116억원 규모 ‘AI국회’ 구축 사업 수주\n",
      "네오위즈, 2024년 연간 매출 3670억원… 연내 ‘P의 거짓’ DLC 출시\n",
      "최수연 네이버 대표 \"핵심 AI 활용해 기회 만들어낼 것\"\n",
      "\"네이버웹툰 이 정도였어?\"...'입학용병' 日 팝업 가보니\n",
      "[단독] \"中 무섭네\" 공포에 떨더니…한국 찾은 MS CEO\n",
      "밴스 미 부통령 \"AI 규제 말라\" 일장 연설…합의문 서명은 안했다\n",
      "크래프톤, '1조 클럽' 가입…\"연간 3천억 투자, AI 협력 계획\"\n",
      "위메이드 4년 연속 최대 매출 경신... 흑자전환 성공\n",
      "머스크 vs 알트먼, 오픈AI 놓고 신경전…'X 인수' 맞불 응수\n",
      "中 BYD·딥시크와 제휴 소식에…테슬라 주가 6%↓\n",
      "AI가 우리를 멍청하게 만든다고?…MS의 충격적 연구\n",
      "사이버 가수 '아담'을 기억하나요?…버추얼 아이돌 덕 본 이 기업\n",
      "녹십자, 이니바이오 인수로 보톡스戰 참전…中 시장 포석\n",
      "‘릴리의 선택’ 올릭스, siRNA 기술력 입증…추가 기술수출 기대감 ↑\n",
      "김정호 KAIST 교수·이강욱 SK하이닉스 부사장 '강대원상' 수상…“HBM 개발 공로”\n",
      "10g 골드바 '품귀현상'…조폐공사 \"4월까지 판매 일시중단\"\n",
      "LG에너지솔루션, 전고체전지 충전속도 '10배' 높이는 기술 개발\n",
      "구글 ‘픽셀 9a’ 이렇게 나온다…\"디자인 확 달라졌네\"\n",
      "지놈앤컴퍼니, 英 제약사에 면역항암제 후보물질 기술이전\n",
      "메타, 韓 AI 반도체 '퓨리오사AI' 인수 추진\n",
      "SKT, 작년 영업익 4% 증가한 1.8조…\"올해 AI 수익화 본격 추진\"\n",
      "적자에도 엔씨 \"순이익 30% 배당, 자사주 1270억원 소각\"\n",
      "中 딥시크 쇼크에 기회 엿 본 IBM…\"비용 감소로 AI 도입 촉진할 것\"\n",
      "'첫 연간 적자' 엔씨 \"MMORPG 잠재력 여전…지적은 통렬히 반성\"(종합)\n",
      "[종합] 조직 개편 마친 엔씨…올해 '턴 어라운드' 노린다\n",
      "한미반도체, 주당 720원 현금배당 결정…창사 이래 최대\n",
      "모든 차별이 나쁜가?... AI의 공정성에 대한 도발적 질문\n",
      "中 CXMT, 연내 15나노 D램 개발 노린다…삼성·SK 추격 속도\n",
      "박병무 엔씨 대표 “새로운 장르 게임사 M&A 물색 중…신규 IP 600억 투자”\n",
      "SK텔레콤 2024년 매출 17조9400억원…유무선 고른 성장\n",
      "신라젠 BAL0891 혈액암으로 적응증 확대 나서\n",
      "SKT, 지난해 영업익 1조8234억원…AI인프라 슈퍼 하이웨이 가속 페달 밟는다\n",
      "‘공개 임박’ 아이폰SE 4, 케이스 사진 유출…\"액션 버튼 있네\"\n",
      "신라젠 ‘BAL0891’ FDA 임상 적응증 ‘급성 골수성 백혈병’ 확대\n",
      "광무 끌어들이려다 해임 위기 신용철 회장, 아미코젠 어찌되나\n",
      "[IR] 엔씨소프트 \"자사주 1270억 소각·현금 배당…주주 환원\"\n",
      "발끈한 올트먼 \"머스크, 온갖 미친짓으로 오픈AI 발목 잡아\"\n",
      "훅 들어온 머스크에 스텝꼬인 올트먼…복잡해진 오픈AI 영리화·투자유치\n",
      "'첫 연간 적자' 엔씨 \"쉽지 않은 한해…체질 개선 불가피했다\"\n",
      "한미반도체, 창사 이래 최대 배당…약 683억원 규모\n",
      "신라젠, 美FDA에 BAL0891 급성골수성백혈병 임상 확대 IND\n",
      "HBM4 공정 '플럭스리스 본딩' 부상…하이브리드 본딩 대체 관건 [소부장반차장]\n",
      "LG엔솔, 전고체 충전속도 10배 높이는 기술 개발 [소부장박대리]\n",
      " 언론사별 가장 많이 본 뉴스\n",
      "네이버 메인에서 바로 보는 언론사 편집뉴스 지금 바로 구독해보세요!\n",
      "알고리즘 안내\n",
      "뉴스 기사와 댓글로 인한 문제 발생 시 24시간 센터로 접수해주세요\n",
      " 서비스 안내\n"
     ]
    }
   ],
   "source": [
    "soup_news = bs(response_news.text, \"html.parser\")\n",
    "# 기사 긁어옵시다\n",
    "# strong\n",
    "# a\n",
    "for title in soup_news.find_all(\"strong\"):\n",
    "    print(title.text)"
   ]
  },
  {
   "cell_type": "code",
   "execution_count": 25,
   "id": "93043fd5-5b65-4ea9-8bd9-0a877013b5b2",
   "metadata": {},
   "outputs": [
    {
     "name": "stdout",
     "output_type": "stream",
     "text": [
      "한컴·삼성SDS, 116억원 규모 ‘AI국회’ 구축 사업 수주\n",
      "최수연 네이버 대표 \"핵심 AI 활용해 기회 만들어낼 것\"\n",
      "밴스 미 부통령 \"AI 규제 말라\" 일장 연설…합의문 서명은 안했다\n",
      "크래프톤, '1조 클럽' 가입…\"연간 3천억 투자, AI 협력 계획\"\n",
      "머스크 vs 알트먼, 오픈AI 놓고 신경전…'X 인수' 맞불 응수\n",
      "AI가 우리를 멍청하게 만든다고?…MS의 충격적 연구\n",
      "김정호 KAIST 교수·이강욱 SK하이닉스 부사장 '강대원상' 수상…“HBM 개발 공로”\n",
      "메타, 韓 AI 반도체 '퓨리오사AI' 인수 추진\n",
      "SKT, 작년 영업익 4% 증가한 1.8조…\"올해 AI 수익화 본격 추진\"\n",
      "中 딥시크 쇼크에 기회 엿 본 IBM…\"비용 감소로 AI 도입 촉진할 것\"\n",
      "모든 차별이 나쁜가?... AI의 공정성에 대한 도발적 질문\n",
      "SKT, 지난해 영업익 1조8234억원…AI인프라 슈퍼 하이웨이 가속 페달 밟는다\n",
      "발끈한 올트먼 \"머스크, 온갖 미친짓으로 오픈AI 발목 잡아\"\n",
      "훅 들어온 머스크에 스텝꼬인 올트먼…복잡해진 오픈AI 영리화·투자유치\n"
     ]
    }
   ],
   "source": [
    "for title in soup_news.find_all(\"strong\"):\n",
    "    if \"AI\" in title.text:\n",
    "        print(title.text)"
   ]
  },
  {
   "cell_type": "code",
   "execution_count": 24,
   "id": "9cf65d1f-9eae-446a-b23b-f3f5b09c8b60",
   "metadata": {},
   "outputs": [
    {
     "name": "stdout",
     "output_type": "stream",
     "text": [
      "메타, 韓 AI 반도체 '퓨리오사AI' 인수 추진\n",
      "한미반도체, 주당 720원 현금배당 결정…창사 이래 최대\n",
      "한미반도체, 창사 이래 최대 배당…약 683억원 규모\n"
     ]
    }
   ],
   "source": [
    "for title in soup_news.find_all(\"strong\"):\n",
    "    if \"반도체\" in title.text:\n",
    "        print(title.text)"
   ]
  },
  {
   "cell_type": "code",
   "execution_count": 28,
   "id": "e9fd57f0-145e-4505-a142-09adde1adc32",
   "metadata": {},
   "outputs": [
    {
     "name": "stdout",
     "output_type": "stream",
     "text": [
      "SKT, 지난해 영업익 1조8234억원…전년比 4%↑\n",
      "한컴·삼성SDS, 116억원 규모 ‘AI국회’ 구축 사업 수주\n",
      "네오위즈, 2024년 연간 매출 3670억원… 연내 ‘P의 거짓’ DLC 출시\n",
      "최수연 네이버 대표 \"핵심 AI 활용해 기회 만들어낼 것\"\n",
      "\"네이버웹툰 이 정도였어?\"...'입학용병' 日 팝업 가보니\n"
     ]
    }
   ],
   "source": [
    "# 선택자를 통해 데이터 가져오기\n",
    "# select(.classname)\n",
    "\n",
    "news_title_list = soup_news.select(\".sa_text_strong\")\n",
    "\n",
    "for news in news_title_list[:5]:\n",
    "    print(news.get_text())"
   ]
  },
  {
   "cell_type": "code",
   "execution_count": 33,
   "id": "082e0186-92ea-4c8c-abeb-02f44c309833",
   "metadata": {},
   "outputs": [],
   "source": [
    "date = \"20250212\"\n",
    "page = 1\n",
    "url_nate= f\"https://news.nate.com/recent?cate=its&mid=n0601&type=c&date={date}&page={page}\"\n",
    "response_nate = requests.get(url_nate, headers=headers)"
   ]
  },
  {
   "cell_type": "code",
   "execution_count": 64,
   "id": "886c2713-53ec-4f30-ac7c-f955a2a6c264",
   "metadata": {},
   "outputs": [
    {
     "name": "stdout",
     "output_type": "stream",
     "text": [
      "[\"AI 정상회의 '지속가능성' 화두로…韓 저전력 반도체 주목\", \"'올해의 KAIST인상'에 공경철 교수\", '유상임 과기장관 \"지속가능한 AI 위해 선제적 정책 필요\"', \"한국레노버, AI 태블릿 '요가 탭 플러스 AI' 출시…79만9000원\", \"삼성전자, 'AI 기능 탑재' 55형 OLED TV 신제품 출시\", 'AI 파리선언 불참한 美…밴스 \"미국 주도, 中 경계해야\"', \"AI 정상회의 '지속가능성' 화두로…韓 저전력 반도체 주목\", \"'올해의 KAIST인상'에 공경철 교수\", '유상임 과기장관 \"지속가능한 AI 위해 선제적 정책 필요\"', \"한국레노버, AI 태블릿 '요가 탭 플러스 AI' 출시…79만9000원\", \"삼성전자, 'AI 기능 탑재' 55형 OLED TV 신제품 출시\", 'AI 파리선언 불참한 美…밴스 \"미국 주도, 中 경계해야\"', \"AI 정상회의 '지속가능성' 화두로…韓 저전력 반도체 주목\", \"'올해의 KAIST인상'에 공경철 교수\", '유상임 과기장관 \"지속가능한 AI 위해 선제적 정책 필요\"', \"한국레노버, AI 태블릿 '요가 탭 플러스 AI' 출시…79만9000원\", \"삼성전자, 'AI 기능 탑재' 55형 OLED TV 신제품 출시\", 'AI 파리선언 불참한 美…밴스 \"미국 주도, 中 경계해야\"', \"AI 정상회의 '지속가능성' 화두로…韓 저전력 반도체 주목\", \"'올해의 KAIST인상'에 공경철 교수\", '유상임 과기장관 \"지속가능한 AI 위해 선제적 정책 필요\"', \"한국레노버, AI 태블릿 '요가 탭 플러스 AI' 출시…79만9000원\", \"삼성전자, 'AI 기능 탑재' 55형 OLED TV 신제품 출시\", 'AI 파리선언 불참한 美…밴스 \"미국 주도, 中 경계해야\"', \"AI 정상회의 '지속가능성' 화두로…韓 저전력 반도체 주목\", \"'올해의 KAIST인상'에 공경철 교수\", '유상임 과기장관 \"지속가능한 AI 위해 선제적 정책 필요\"', \"한국레노버, AI 태블릿 '요가 탭 플러스 AI' 출시…79만9000원\", \"삼성전자, 'AI 기능 탑재' 55형 OLED TV 신제품 출시\", 'AI 파리선언 불참한 美…밴스 \"미국 주도, 中 경계해야\"', \"AI 정상회의 '지속가능성' 화두로…韓 저전력 반도체 주목\", \"'올해의 KAIST인상'에 공경철 교수\", '유상임 과기장관 \"지속가능한 AI 위해 선제적 정책 필요\"', \"한국레노버, AI 태블릿 '요가 탭 플러스 AI' 출시…79만9000원\", \"삼성전자, 'AI 기능 탑재' 55형 OLED TV 신제품 출시\", 'AI 파리선언 불참한 美…밴스 \"미국 주도, 中 경계해야\"', \"AI 정상회의 '지속가능성' 화두로…韓 저전력 반도체 주목\", \"'올해의 KAIST인상'에 공경철 교수\", '유상임 과기장관 \"지속가능한 AI 위해 선제적 정책 필요\"', \"한국레노버, AI 태블릿 '요가 탭 플러스 AI' 출시…79만9000원\", \"삼성전자, 'AI 기능 탑재' 55형 OLED TV 신제품 출시\", 'AI 파리선언 불참한 美…밴스 \"미국 주도, 中 경계해야\"', \"AI 정상회의 '지속가능성' 화두로…韓 저전력 반도체 주목\", \"'올해의 KAIST인상'에 공경철 교수\", '유상임 과기장관 \"지속가능한 AI 위해 선제적 정책 필요\"', \"한국레노버, AI 태블릿 '요가 탭 플러스 AI' 출시…79만9000원\", \"삼성전자, 'AI 기능 탑재' 55형 OLED TV 신제품 출시\", 'AI 파리선언 불참한 美…밴스 \"미국 주도, 中 경계해야\"', \"AI 정상회의 '지속가능성' 화두로…韓 저전력 반도체 주목\", \"'올해의 KAIST인상'에 공경철 교수\", '유상임 과기장관 \"지속가능한 AI 위해 선제적 정책 필요\"', \"한국레노버, AI 태블릿 '요가 탭 플러스 AI' 출시…79만9000원\", \"삼성전자, 'AI 기능 탑재' 55형 OLED TV 신제품 출시\", 'AI 파리선언 불참한 美…밴스 \"미국 주도, 中 경계해야\"', \"AI 정상회의 '지속가능성' 화두로…韓 저전력 반도체 주목\", \"'올해의 KAIST인상'에 공경철 교수\", '유상임 과기장관 \"지속가능한 AI 위해 선제적 정책 필요\"', \"한국레노버, AI 태블릿 '요가 탭 플러스 AI' 출시…79만9000원\", \"삼성전자, 'AI 기능 탑재' 55형 OLED TV 신제품 출시\", 'AI 파리선언 불참한 美…밴스 \"미국 주도, 中 경계해야\"']\n"
     ]
    }
   ],
   "source": [
    "def update_url(date, page):\n",
    "    url_nate= f\"https://news.nate.com/recent?cate=its&mid=n0601&type=c&date={date}&page={page}\"\n",
    "    response_nate = requests.get(url_nate, headers=headers)\n",
    "    soup_nate = bs(response_nate.text, \"html.parser\")\n",
    "    nate_news_title_list = soup_nate.select(\".tit\")\n",
    "\n",
    "news_title = []\n",
    "\n",
    "import time\n",
    "\n",
    "for page in range(1,11):\n",
    "    update_url(date, page)\n",
    "    time.sleep(0.1)\n",
    "    for title in nate_news_title_list:\n",
    "        if \"AI\" in title.text:\n",
    "            news_title.append(title.text)\n",
    "\n",
    "print(news_title)"
   ]
  },
  {
   "cell_type": "code",
   "execution_count": 69,
   "id": "01ab955b-f1e1-4606-9d94-97556bb6a959",
   "metadata": {},
   "outputs": [],
   "source": [
    "with open(\"nate_news_title_list.csv\", 'w', encoding=\"utf-8\") as file:\n",
    "    write = csv.writer(file)\n",
    "    write.writerow(news_title)"
   ]
  },
  {
   "cell_type": "code",
   "execution_count": 73,
   "id": "0d1d2eee-5bbd-4e85-9852-e02b8f603acb",
   "metadata": {},
   "outputs": [
    {
     "name": "stdout",
     "output_type": "stream",
     "text": [
      "[\"AI 정상회의 '지속가능성' 화두로…韓 저전력 반도체 주목\", \"'올해의 KAIST인상'에 공경철 교수\", '유상임 과기장관 \"지속가능한 AI 위해 선제적 정책 필요\"', \"한국레노버, AI 태블릿 '요가 탭 플러스 AI' 출시…79만9000원\", \"삼성전자, 'AI 기능 탑재' 55형 OLED TV 신제품 출시\", 'AI 파리선언 불참한 美…밴스 \"미국 주도, 中 경계해야\"', \"AI 정상회의 '지속가능성' 화두로…韓 저전력 반도체 주목\", \"'올해의 KAIST인상'에 공경철 교수\", '유상임 과기장관 \"지속가능한 AI 위해 선제적 정책 필요\"', \"한국레노버, AI 태블릿 '요가 탭 플러스 AI' 출시…79만9000원\", \"삼성전자, 'AI 기능 탑재' 55형 OLED TV 신제품 출시\", 'AI 파리선언 불참한 美…밴스 \"미국 주도, 中 경계해야\"', \"AI 정상회의 '지속가능성' 화두로…韓 저전력 반도체 주목\", \"'올해의 KAIST인상'에 공경철 교수\", '유상임 과기장관 \"지속가능한 AI 위해 선제적 정책 필요\"', \"한국레노버, AI 태블릿 '요가 탭 플러스 AI' 출시…79만9000원\", \"삼성전자, 'AI 기능 탑재' 55형 OLED TV 신제품 출시\", 'AI 파리선언 불참한 美…밴스 \"미국 주도, 中 경계해야\"', \"AI 정상회의 '지속가능성' 화두로…韓 저전력 반도체 주목\", \"'올해의 KAIST인상'에 공경철 교수\", '유상임 과기장관 \"지속가능한 AI 위해 선제적 정책 필요\"', \"한국레노버, AI 태블릿 '요가 탭 플러스 AI' 출시…79만9000원\", \"삼성전자, 'AI 기능 탑재' 55형 OLED TV 신제품 출시\", 'AI 파리선언 불참한 美…밴스 \"미국 주도, 中 경계해야\"', \"AI 정상회의 '지속가능성' 화두로…韓 저전력 반도체 주목\", \"'올해의 KAIST인상'에 공경철 교수\", '유상임 과기장관 \"지속가능한 AI 위해 선제적 정책 필요\"', \"한국레노버, AI 태블릿 '요가 탭 플러스 AI' 출시…79만9000원\", \"삼성전자, 'AI 기능 탑재' 55형 OLED TV 신제품 출시\", 'AI 파리선언 불참한 美…밴스 \"미국 주도, 中 경계해야\"', \"AI 정상회의 '지속가능성' 화두로…韓 저전력 반도체 주목\", \"'올해의 KAIST인상'에 공경철 교수\", '유상임 과기장관 \"지속가능한 AI 위해 선제적 정책 필요\"', \"한국레노버, AI 태블릿 '요가 탭 플러스 AI' 출시…79만9000원\", \"삼성전자, 'AI 기능 탑재' 55형 OLED TV 신제품 출시\", 'AI 파리선언 불참한 美…밴스 \"미국 주도, 中 경계해야\"', \"AI 정상회의 '지속가능성' 화두로…韓 저전력 반도체 주목\", \"'올해의 KAIST인상'에 공경철 교수\", '유상임 과기장관 \"지속가능한 AI 위해 선제적 정책 필요\"', \"한국레노버, AI 태블릿 '요가 탭 플러스 AI' 출시…79만9000원\", \"삼성전자, 'AI 기능 탑재' 55형 OLED TV 신제품 출시\", 'AI 파리선언 불참한 美…밴스 \"미국 주도, 中 경계해야\"', \"AI 정상회의 '지속가능성' 화두로…韓 저전력 반도체 주목\", \"'올해의 KAIST인상'에 공경철 교수\", '유상임 과기장관 \"지속가능한 AI 위해 선제적 정책 필요\"', \"한국레노버, AI 태블릿 '요가 탭 플러스 AI' 출시…79만9000원\", \"삼성전자, 'AI 기능 탑재' 55형 OLED TV 신제품 출시\", 'AI 파리선언 불참한 美…밴스 \"미국 주도, 中 경계해야\"', \"AI 정상회의 '지속가능성' 화두로…韓 저전력 반도체 주목\", \"'올해의 KAIST인상'에 공경철 교수\", '유상임 과기장관 \"지속가능한 AI 위해 선제적 정책 필요\"', \"한국레노버, AI 태블릿 '요가 탭 플러스 AI' 출시…79만9000원\", \"삼성전자, 'AI 기능 탑재' 55형 OLED TV 신제품 출시\", 'AI 파리선언 불참한 美…밴스 \"미국 주도, 中 경계해야\"', \"AI 정상회의 '지속가능성' 화두로…韓 저전력 반도체 주목\", \"'올해의 KAIST인상'에 공경철 교수\", '유상임 과기장관 \"지속가능한 AI 위해 선제적 정책 필요\"', \"한국레노버, AI 태블릿 '요가 탭 플러스 AI' 출시…79만9000원\", \"삼성전자, 'AI 기능 탑재' 55형 OLED TV 신제품 출시\", 'AI 파리선언 불참한 美…밴스 \"미국 주도, 中 경계해야\"']\n",
      "[]\n"
     ]
    }
   ],
   "source": [
    "with open(\"nate_news_title_list.csv\", \"r\", encoding=\"utf-8\") as file:\n",
    "    reader = csv.reader(file)\n",
    "    for a in reader:\n",
    "        print(a)"
   ]
  },
  {
   "cell_type": "code",
   "execution_count": null,
   "id": "07a72cdd-fe71-4200-b457-e9e871a5e1b0",
   "metadata": {},
   "outputs": [],
   "source": []
  },
  {
   "cell_type": "code",
   "execution_count": null,
   "id": "5d59daa9-857b-4652-8948-b8425435c41c",
   "metadata": {},
   "outputs": [],
   "source": []
  },
  {
   "cell_type": "code",
   "execution_count": null,
   "id": "f0730c63-1f41-49ae-9447-6f5cee22cb63",
   "metadata": {},
   "outputs": [],
   "source": []
  },
  {
   "cell_type": "code",
   "execution_count": null,
   "id": "e642d068-9f28-4e41-b621-e9e9355ac0ae",
   "metadata": {},
   "outputs": [],
   "source": []
  },
  {
   "cell_type": "code",
   "execution_count": null,
   "id": "7f84f38e-ebd6-4c43-a4ce-185a14d89efb",
   "metadata": {},
   "outputs": [],
   "source": []
  },
  {
   "cell_type": "code",
   "execution_count": null,
   "id": "3c97c43e-2ac7-4cae-b290-2eb4be9d16df",
   "metadata": {},
   "outputs": [],
   "source": []
  },
  {
   "cell_type": "code",
   "execution_count": null,
   "id": "acc2e638-b869-44a7-91e8-76cc81306f2f",
   "metadata": {},
   "outputs": [],
   "source": []
  },
  {
   "cell_type": "code",
   "execution_count": null,
   "id": "a2ef991b-aedd-4e90-b345-bef4d777fa6f",
   "metadata": {},
   "outputs": [],
   "source": []
  },
  {
   "cell_type": "code",
   "execution_count": null,
   "id": "592acfcd-3615-44b1-9792-468c2cc3c4cb",
   "metadata": {},
   "outputs": [],
   "source": []
  },
  {
   "cell_type": "code",
   "execution_count": null,
   "id": "fe78600a-de57-4cd2-bfaf-9e5b02ce7103",
   "metadata": {},
   "outputs": [],
   "source": []
  },
  {
   "cell_type": "code",
   "execution_count": null,
   "id": "88ccea14-395d-4877-aab6-5ab8307edf45",
   "metadata": {},
   "outputs": [],
   "source": []
  },
  {
   "cell_type": "code",
   "execution_count": null,
   "id": "2a943f93-0b2c-4060-86b9-761227fdfa7e",
   "metadata": {},
   "outputs": [],
   "source": []
  },
  {
   "cell_type": "code",
   "execution_count": null,
   "id": "2438e9d9-1531-49ac-8ea9-e01812c73d19",
   "metadata": {},
   "outputs": [],
   "source": []
  },
  {
   "cell_type": "code",
   "execution_count": null,
   "id": "cdd3ef4e-0f02-448d-b06e-40f0e13b2936",
   "metadata": {},
   "outputs": [],
   "source": []
  },
  {
   "cell_type": "code",
   "execution_count": null,
   "id": "bf7aacb6-d2c2-4456-96db-e2770640ecc7",
   "metadata": {},
   "outputs": [],
   "source": []
  },
  {
   "cell_type": "code",
   "execution_count": null,
   "id": "bcd2e0f0-eb61-425b-b78b-1f87753f12bb",
   "metadata": {},
   "outputs": [],
   "source": []
  },
  {
   "cell_type": "code",
   "execution_count": null,
   "id": "c12dbaeb-aaa8-463b-81cb-9b83dd6c9883",
   "metadata": {},
   "outputs": [],
   "source": []
  },
  {
   "cell_type": "code",
   "execution_count": null,
   "id": "4b1e4d5f-4689-4922-8d7b-657b5700d75a",
   "metadata": {},
   "outputs": [],
   "source": []
  },
  {
   "cell_type": "code",
   "execution_count": null,
   "id": "6de4cae9-4600-4588-9e1c-11df22d99bed",
   "metadata": {},
   "outputs": [],
   "source": []
  },
  {
   "cell_type": "code",
   "execution_count": null,
   "id": "543c08c4-5967-491e-873d-a288e6227964",
   "metadata": {},
   "outputs": [],
   "source": []
  },
  {
   "cell_type": "code",
   "execution_count": null,
   "id": "3e8ef845-60b5-4684-80e5-a40b0f57f5ff",
   "metadata": {},
   "outputs": [],
   "source": []
  },
  {
   "cell_type": "code",
   "execution_count": null,
   "id": "288aae61-5736-4fab-8873-4049ef95d32c",
   "metadata": {},
   "outputs": [],
   "source": []
  },
  {
   "cell_type": "code",
   "execution_count": null,
   "id": "3cf7e463-1149-4995-9f57-f75f96750969",
   "metadata": {},
   "outputs": [],
   "source": []
  },
  {
   "cell_type": "code",
   "execution_count": null,
   "id": "61620922-d261-49fa-88c9-81895f34c1b6",
   "metadata": {},
   "outputs": [],
   "source": []
  },
  {
   "cell_type": "code",
   "execution_count": null,
   "id": "ba3593b6-f74f-4216-a687-953a157af31c",
   "metadata": {},
   "outputs": [],
   "source": []
  },
  {
   "cell_type": "code",
   "execution_count": null,
   "id": "a645219a-b22c-4492-8481-b3f205a7c888",
   "metadata": {},
   "outputs": [],
   "source": []
  },
  {
   "cell_type": "code",
   "execution_count": null,
   "id": "5bdfda1c-bd75-444d-a5ba-b0a016e42bc1",
   "metadata": {},
   "outputs": [],
   "source": []
  },
  {
   "cell_type": "code",
   "execution_count": null,
   "id": "204d6e59-f36b-4d40-880e-22ba727b3347",
   "metadata": {},
   "outputs": [],
   "source": []
  },
  {
   "cell_type": "code",
   "execution_count": null,
   "id": "0d193192-e0bb-474f-b052-485ea99842f8",
   "metadata": {},
   "outputs": [],
   "source": []
  },
  {
   "cell_type": "code",
   "execution_count": null,
   "id": "0ad384e4-d05a-4f49-9418-3696265ae513",
   "metadata": {},
   "outputs": [],
   "source": []
  },
  {
   "cell_type": "code",
   "execution_count": null,
   "id": "eeca3734-9c61-4d35-b445-8eb294f201a7",
   "metadata": {},
   "outputs": [],
   "source": []
  },
  {
   "cell_type": "code",
   "execution_count": null,
   "id": "32559775-bd5c-49d6-b2d1-7f3e1c9c26ef",
   "metadata": {},
   "outputs": [],
   "source": []
  },
  {
   "cell_type": "code",
   "execution_count": null,
   "id": "f2961c20-dfd6-4754-8f69-b831eeba5381",
   "metadata": {},
   "outputs": [],
   "source": []
  },
  {
   "cell_type": "code",
   "execution_count": null,
   "id": "f5dea636-5ace-435c-92a0-401bdc9e7590",
   "metadata": {},
   "outputs": [],
   "source": []
  },
  {
   "cell_type": "code",
   "execution_count": null,
   "id": "ac65e790-3e04-41e0-a77a-87d70e5beb7a",
   "metadata": {},
   "outputs": [],
   "source": []
  },
  {
   "cell_type": "code",
   "execution_count": null,
   "id": "51832287-827c-4e2f-9ccd-028c976d8874",
   "metadata": {},
   "outputs": [],
   "source": []
  },
  {
   "cell_type": "code",
   "execution_count": null,
   "id": "89e9f2bc-a68e-49ae-a6ef-13d031f5e91b",
   "metadata": {},
   "outputs": [],
   "source": []
  },
  {
   "cell_type": "code",
   "execution_count": null,
   "id": "dbdabf57-2750-48ee-8e9c-00eb7ecbccfe",
   "metadata": {},
   "outputs": [],
   "source": []
  }
 ],
 "metadata": {
  "kernelspec": {
   "display_name": "Python 3 (ipykernel)",
   "language": "python",
   "name": "python3"
  },
  "language_info": {
   "codemirror_mode": {
    "name": "ipython",
    "version": 3
   },
   "file_extension": ".py",
   "mimetype": "text/x-python",
   "name": "python",
   "nbconvert_exporter": "python",
   "pygments_lexer": "ipython3",
   "version": "3.9.21"
  }
 },
 "nbformat": 4,
 "nbformat_minor": 5
}
