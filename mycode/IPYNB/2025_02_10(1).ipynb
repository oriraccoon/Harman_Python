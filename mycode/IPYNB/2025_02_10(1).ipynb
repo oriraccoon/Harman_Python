{
 "cells": [
  {
   "cell_type": "code",
   "execution_count": 4,
   "id": "10435167-97dc-460e-9c37-7d558208d487",
   "metadata": {},
   "outputs": [
    {
     "name": "stdout",
     "output_type": "stream",
     "text": [
      "Python is fun!\n",
      "Learning file I/O.\n",
      "Keep practicing!\n"
     ]
    }
   ],
   "source": [
    "file = open(\"sample.txt\", \"r\")\n",
    "content = file.read()\n",
    "print(content)\n",
    "# open을 통해 통로를 열었으면!!\n",
    "# 반드시, 닫아야 한다\n",
    "file.close()"
   ]
  },
  {
   "cell_type": "code",
   "execution_count": 8,
   "id": "c2587600-2e8d-476a-9fc0-9ec3b173daef",
   "metadata": {},
   "outputs": [
    {
     "name": "stdout",
     "output_type": "stream",
     "text": [
      "Learning file I/O.\n",
      "\n"
     ]
    }
   ],
   "source": [
    "file = open(\"sample.txt\", \"r\")\n",
    "content = file.readlines()\n",
    "print(content[1])\n",
    "file.close()"
   ]
  },
  {
   "cell_type": "code",
   "execution_count": 15,
   "id": "32865e99-45c0-4229-801e-758c1ba8d6b1",
   "metadata": {},
   "outputs": [],
   "source": [
    "file = open(\"output.txt\", \"w\")\n",
    "file.write(\"오늘은 2월 10일 월요일\\n\")\n",
    "file.write(\"오늘 점심 메뉴는 백반\\n\")\n",
    "file.write(\"오늘 미세먼지는 보통\\n\")\n",
    "\n",
    "file.close()\n"
   ]
  },
  {
   "cell_type": "code",
   "execution_count": 18,
   "id": "cec8e337-0686-4c7d-8f25-1f81e239e3ee",
   "metadata": {},
   "outputs": [
    {
     "name": "stdout",
     "output_type": "stream",
     "text": [
      "오늘 점심 메뉴는 백반\n",
      "\n"
     ]
    }
   ],
   "source": [
    "file = open(\"output.txt\", \"r\")\n",
    "print(file.readlines()[1])\n",
    "file.close()"
   ]
  },
  {
   "cell_type": "code",
   "execution_count": 21,
   "id": "6f59ed40-c0bf-436e-9ba6-406688a0a15a",
   "metadata": {},
   "outputs": [],
   "source": [
    "file = open(\"output2.txt\", \"w\")\n",
    "lines = [\"한 줄\\n\", \"두 줄\\n\", \"세 줄\"]\n",
    "file.writelines(lines)\n",
    "file.close()"
   ]
  },
  {
   "cell_type": "code",
   "execution_count": 22,
   "id": "027cc6d6-0f0b-45fb-bb5c-16a1ac2c5ab1",
   "metadata": {},
   "outputs": [
    {
     "name": "stdout",
     "output_type": "stream",
     "text": [
      "한 줄\n",
      "두 줄\n",
      "세 줄\n"
     ]
    }
   ],
   "source": [
    "file = open(\"output2.txt\", \"r\")\n",
    "print(file.read())\n",
    "file.close()"
   ]
  },
  {
   "cell_type": "code",
   "execution_count": 23,
   "id": "0ff89c8f-1d2c-4f08-a5d0-95e8c500dd1b",
   "metadata": {},
   "outputs": [
    {
     "name": "stdout",
     "output_type": "stream",
     "text": [
      "한 줄\n",
      "두 줄\n",
      "세 줄\n"
     ]
    }
   ],
   "source": [
    "# with ~ open\n",
    "with open(\"output2.txt\", \"r\") as file:\n",
    "    print(file.read())"
   ]
  },
  {
   "cell_type": "code",
   "execution_count": 25,
   "id": "96e6bf09-1075-4a28-a18e-771678951916",
   "metadata": {},
   "outputs": [
    {
     "name": "stdout",
     "output_type": "stream",
     "text": [
      "['All you can imagine\\n', 'All, no matter what your path is\\n', 'If you believe it then anything can happen']\n"
     ]
    }
   ],
   "source": [
    "with open(\"have_it_all.txt\", \"w\") as file:\n",
    "    file.writelines([\"All you can imagine\\n\",\n",
    "                     \"All, no matter what your path is\\n\",\n",
    "                     \"If you believe it then anything can happen\"])\n",
    "with open(\"have_it_all.txt\", \"r\") as file:\n",
    "    print(file.readlines())"
   ]
  },
  {
   "cell_type": "code",
   "execution_count": 30,
   "id": "33174d0b-5bff-49b7-8f50-0d45693aaabf",
   "metadata": {},
   "outputs": [
    {
     "name": "stdout",
     "output_type": "stream",
     "text": [
      "['1\\n', '2\\n', '3\\n', '4\\n', '5\\n', '6\\n', '7\\n', '8\\n', '9\\n', '10\\n', '11\\n', '12\\n', '13\\n', '14\\n', '15\\n', '16\\n', '17\\n', '18\\n', '19\\n', '20\\n', '21\\n', '22\\n', '23\\n', '24\\n', '25\\n', '26\\n', '27\\n', '28\\n', '29\\n', '30\\n', '31\\n', '32\\n', '33\\n', '34\\n', '35\\n', '36\\n', '37\\n', '38\\n', '39\\n', '40\\n', '41\\n', '42\\n', '43\\n', '44\\n', '45\\n', '46\\n', '47\\n', '48\\n', '49\\n', '50\\n', '51\\n', '52\\n', '53\\n', '54\\n', '55\\n', '56\\n', '57\\n', '58\\n', '59\\n', '60\\n', '61\\n', '62\\n', '63\\n', '64\\n', '65\\n', '66\\n', '67\\n', '68\\n', '69\\n', '70\\n', '71\\n', '72\\n', '73\\n', '74\\n', '75\\n', '76\\n', '77\\n', '78\\n', '79\\n', '80\\n', '81\\n', '82\\n', '83\\n', '84\\n', '85\\n', '86\\n', '87\\n', '88\\n', '89\\n', '90\\n', '91\\n', '92\\n', '93\\n', '94\\n', '95\\n', '96\\n', '97\\n', '98\\n', '99\\n', '100\\n']\n"
     ]
    }
   ],
   "source": [
    "with open(\"numbers.txt\", \"w\") as file:\n",
    "    for i in range(1, 101):\n",
    "        file.write(f\"{i}\\n\")\n",
    "with open(\"numbers.txt\", \"r\") as file:\n",
    "    print(file.readlines())"
   ]
  },
  {
   "cell_type": "code",
   "execution_count": 32,
   "id": "454526a3-f7af-4718-9c30-05e38981c26f",
   "metadata": {},
   "outputs": [
    {
     "name": "stdout",
     "output_type": "stream",
     "text": [
      "1\n",
      "2\n",
      "3\n",
      "4\n",
      "5\n",
      "6\n",
      "7\n",
      "8\n",
      "9\n",
      "10\n",
      "11\n",
      "12\n",
      "13\n",
      "14\n",
      "15\n",
      "16\n",
      "17\n",
      "18\n",
      "19\n",
      "20\n",
      "21\n",
      "22\n",
      "23\n",
      "24\n",
      "25\n",
      "26\n",
      "27\n",
      "28\n",
      "29\n",
      "30\n",
      "31\n",
      "32\n",
      "33\n",
      "34\n",
      "35\n",
      "36\n",
      "37\n",
      "38\n",
      "39\n",
      "40\n",
      "41\n",
      "42\n",
      "43\n",
      "44\n",
      "45\n",
      "46\n",
      "47\n",
      "48\n",
      "49\n",
      "50\n",
      "51\n",
      "52\n",
      "53\n",
      "54\n",
      "55\n",
      "56\n",
      "57\n",
      "58\n",
      "59\n",
      "60\n",
      "61\n",
      "62\n",
      "63\n",
      "64\n",
      "65\n",
      "66\n",
      "67\n",
      "68\n",
      "69\n",
      "70\n",
      "71\n",
      "72\n",
      "73\n",
      "74\n",
      "75\n",
      "76\n",
      "77\n",
      "78\n",
      "79\n",
      "80\n",
      "81\n",
      "82\n",
      "83\n",
      "84\n",
      "85\n",
      "86\n",
      "87\n",
      "88\n",
      "89\n",
      "90\n",
      "91\n",
      "92\n",
      "93\n",
      "94\n",
      "95\n",
      "96\n",
      "97\n",
      "98\n",
      "99\n",
      "100\n"
     ]
    }
   ],
   "source": [
    "with open(\"numbers.txt\", \"r\") as file:\n",
    "    for f in file:\n",
    "        print(f.strip())"
   ]
  },
  {
   "cell_type": "code",
   "execution_count": 35,
   "id": "9f7b333e-468f-482a-a150-30b9157fd6af",
   "metadata": {},
   "outputs": [
    {
     "name": "stdout",
     "output_type": "stream",
     "text": [
      "14\n"
     ]
    }
   ],
   "source": [
    "with open(\"sample.txt\", \"r\") as file:\n",
    "    l = file.readline()\n",
    "    print(len(l.strip()))"
   ]
  },
  {
   "cell_type": "code",
   "execution_count": 39,
   "id": "bd0c7c4d-db3e-454a-bc4e-c422f6b6c00b",
   "metadata": {},
   "outputs": [
    {
     "name": "stdout",
     "output_type": "stream",
     "text": [
      "1번째 줄 : Python is fun!\n",
      "\n",
      "2번째 줄 : Learning file I/O.\n",
      "\n",
      "3번째 줄 : Keep practicing!\n"
     ]
    }
   ],
   "source": [
    "# enumerate() -> 인덱스와 요소 동시에 반환\n",
    "with open(\"sample.txt\", \"r\") as file:\n",
    "    for i, m in enumerate(file, start = 1):\n",
    "        print(f\"{i}번째 줄 : {m}\")"
   ]
  },
  {
   "cell_type": "code",
   "execution_count": 44,
   "id": "c063b36d-136f-4081-aaec-87fcbec89faf",
   "metadata": {},
   "outputs": [
    {
     "name": "stdout",
     "output_type": "stream",
     "text": [
      "I love Python programming.\n",
      "Python is versatile and powerful.\n"
     ]
    }
   ],
   "source": [
    "with open(\"sample2.txt\", \"r\") as file:\n",
    "    for f in file:\n",
    "        if f.find(\"Python\") != -1:\n",
    "            print(f.strip())"
   ]
  },
  {
   "cell_type": "code",
   "execution_count": null,
   "id": "5cd79f21-c9f9-4983-bdc5-fb3e013ef366",
   "metadata": {},
   "outputs": [],
   "source": [
    "# \"Python\"이 포함된 줄만 출력!!\n",
    "with open(\"sample2.txt\", \"r\") as file:\n",
    "    for f in file:\n",
    "        # 만약, f에 \"Python\"이 있다면\n",
    "        if \"Python\" in f:\n",
    "            print(f.strip())"
   ]
  },
  {
   "cell_type": "code",
   "execution_count": 45,
   "id": "4d1313f4-1ffb-43f4-aec0-d005f12618c9",
   "metadata": {},
   "outputs": [
    {
     "name": "stdout",
     "output_type": "stream",
     "text": [
      "['I', 'love', 'Python', 'programming.']\n"
     ]
    }
   ],
   "source": [
    "sentence = \"I love Python programming.\"\n",
    "words = sentence.split()\n",
    "print(words)"
   ]
  },
  {
   "cell_type": "code",
   "execution_count": 48,
   "id": "1373ed8e-2f81-43c8-9e98-0a7435a38cfe",
   "metadata": {},
   "outputs": [
    {
     "name": "stdout",
     "output_type": "stream",
     "text": [
      "I love Python programming.\n"
     ]
    }
   ],
   "source": [
    "# join()\n",
    "origin = \" \".join(words)\n",
    "print(origin)"
   ]
  },
  {
   "cell_type": "code",
   "execution_count": 50,
   "id": "8d1b77e8-cc06-4605-9e77-b7f442be0acf",
   "metadata": {},
   "outputs": [
    {
     "name": "stdin",
     "output_type": "stream",
     "text": [
      "write sentence : I love p\n"
     ]
    },
    {
     "name": "stdout",
     "output_type": "stream",
     "text": [
      "['I', 'love', 'p']\n"
     ]
    }
   ],
   "source": [
    "sentence = input(\"write sentence :\")\n",
    "words = sentence.split()\n",
    "print(words)"
   ]
  },
  {
   "cell_type": "code",
   "execution_count": 51,
   "id": "eabe6d83-963f-4543-a11b-93e4a31d556f",
   "metadata": {},
   "outputs": [
    {
     "name": "stdout",
     "output_type": "stream",
     "text": [
      "복숭아, 딸기, 포도\n"
     ]
    }
   ],
   "source": [
    "fruits = [\"복숭아\", \"딸기\", \"포도\"]\n",
    "# fruits를 활용해\n",
    "# 다음과 같이 출력\n",
    "# 복숭아, 딸기, 포도\n",
    "fruits = \", \".join(fruits)\n",
    "print(fruits)"
   ]
  },
  {
   "cell_type": "code",
   "execution_count": 53,
   "id": "a76cfbb1-bf90-4b4a-bfe7-2561c4ab03dc",
   "metadata": {},
   "outputs": [
    {
     "name": "stdout",
     "output_type": "stream",
     "text": [
      "I love you\n"
     ]
    }
   ],
   "source": [
    "# replace()\n",
    "# 문자열을 대체\n",
    "str3 = \"I love python\"\n",
    "# 문자열.replac(old_word, new_word)\n",
    "str3 = str3.replace(\"python\", \"you\")\n",
    "print(str3)"
   ]
  },
  {
   "cell_type": "code",
   "execution_count": 54,
   "id": "f28304be-1fae-4f60-8dea-361e22f4f9a3",
   "metadata": {},
   "outputs": [
    {
     "name": "stdout",
     "output_type": "stream",
     "text": [
      "Hello World!\n"
     ]
    }
   ],
   "source": [
    "str4 = \"Hello Python!\"\n",
    "# Python -> World로 바꿔서 출력!!\n",
    "str4 = str4.replace(\"Python\", \"World\")\n",
    "print(str4)"
   ]
  },
  {
   "cell_type": "code",
   "execution_count": 58,
   "id": "2606c095-739c-43a6-8ffb-686988f61100",
   "metadata": {},
   "outputs": [
    {
     "name": "stdin",
     "output_type": "stream",
     "text": [
      "정수를 입력하세요 : 10\n"
     ]
    },
    {
     "name": "stdout",
     "output_type": "stream",
     "text": [
      "1.0\n",
      "프로그램 종료\n"
     ]
    }
   ],
   "source": [
    "# 코드 작성 시 발생할 수 있는 예외 상황들에 대해\n",
    "# 프로그램의 안정성과 신뢰성을 높이기 위해 사용\n",
    "# try : 오류가 발생할 수 있는 코드\n",
    "# except : 오류 발생 시 처리할 코드\n",
    "# finally : 오류 발생 여부와 관계 없이 항상 실행\n",
    "try:\n",
    "    number = int(input(\"정수를 입력하세요 :\"))\n",
    "    print(10 / number)\n",
    "# 그냥 except 사용 시\n",
    "# 모든 Error 클래스에 대해 탐색!!\n",
    "except ZeroDivisionError:\n",
    "    print(\"0으로 나눌 수 없습니다\")\n",
    "except ValueError:\n",
    "    print(\"정수를 입력해주세요\")\n",
    "finally:\n",
    "    print(\"프로그램 종료\")"
   ]
  },
  {
   "cell_type": "code",
   "execution_count": 63,
   "id": "158bb417-d185-4d35-b1c7-c2d0ee14777f",
   "metadata": {},
   "outputs": [
    {
     "name": "stdout",
     "output_type": "stream",
     "text": [
      "파일을 찾을 수 없습니다\n"
     ]
    }
   ],
   "source": [
    "try:\n",
    "    with open(\"none_exsit_file.txt\", \"r\") as file:\n",
    "        file.read()\n",
    "except FileNotFoundError:\n",
    "    print(\"파일을 찾을 수 없습니다\")"
   ]
  },
  {
   "cell_type": "code",
   "execution_count": 66,
   "id": "0eae8f4f-5bc7-4424-83e7-d48eda515602",
   "metadata": {},
   "outputs": [
    {
     "name": "stdin",
     "output_type": "stream",
     "text": [
      "first num : 7\n",
      "second num : 10\n"
     ]
    },
    {
     "name": "stdout",
     "output_type": "stream",
     "text": [
      "0.7\n"
     ]
    }
   ],
   "source": [
    "num1 = int(input(\"first num :\"))\n",
    "num2 = int(input(\"second num :\"))\n",
    "\n",
    "try:\n",
    "    print(num1 / num2)\n",
    "except ZeroDivisionError:\n",
    "    print(\"cannot div zero\")"
   ]
  },
  {
   "cell_type": "code",
   "execution_count": 72,
   "id": "74397802-a37d-43aa-bca7-c60eb70ca5db",
   "metadata": {},
   "outputs": [
    {
     "name": "stdin",
     "output_type": "stream",
     "text": [
      "write index[0~5] : 3\n"
     ]
    },
    {
     "name": "stdout",
     "output_type": "stream",
     "text": [
      "27\n"
     ]
    }
   ],
   "source": [
    "my_list = [39,25,45,27,13,44]\n",
    "index = int(input(\"write index[0~5] :\"))\n",
    "try:\n",
    "    print(my_list[index])\n",
    "except IndexError:\n",
    "    print(\"wrong index\")"
   ]
  },
  {
   "cell_type": "code",
   "execution_count": 78,
   "id": "63ed0e4c-6cf3-4350-8f4e-873a12fff118",
   "metadata": {},
   "outputs": [
    {
     "name": "stdout",
     "output_type": "stream",
     "text": [
      "C:\\Users\\kccistc\\Desktop\\workspace\\mycode\n"
     ]
    }
   ],
   "source": [
    "# os\n",
    "# os -> window\n",
    "# os -> Linux\n",
    "# 시스템, 환경 변수, 경로, 디렉터리, 파일\n",
    "# 운영체제와 상호작용할 수 있는 기능을 제공하는 라이브러리\n",
    "import os\n",
    "# cwd : current working directory\n",
    "print(os.getcwd())"
   ]
  },
  {
   "cell_type": "code",
   "execution_count": 77,
   "id": "7a1c3357-2347-41e7-abd3-3394f7bb762e",
   "metadata": {},
   "outputs": [],
   "source": [
    "# make directory\n",
    "os.mkdir(\"new_folder\")"
   ]
  },
  {
   "cell_type": "code",
   "execution_count": 79,
   "id": "c705cd58-7073-4a4b-8b96-7dcb23309080",
   "metadata": {},
   "outputs": [],
   "source": [
    "# remove directory\n",
    "os.rmdir(\"new_folder\")"
   ]
  },
  {
   "cell_type": "code",
   "execution_count": 91,
   "id": "9fd91735-1beb-44a0-812e-e6867acd0413",
   "metadata": {},
   "outputs": [
    {
     "name": "stdout",
     "output_type": "stream",
     "text": [
      "['.ipynb_checkpoints', 'mycode', 'pcode', 'PDF']\n"
     ]
    }
   ],
   "source": [
    "print(os.listdir(\"../\"))"
   ]
  },
  {
   "cell_type": "code",
   "execution_count": 92,
   "id": "2894b36f-0e94-4f45-ba26-4d76fd9567e7",
   "metadata": {},
   "outputs": [],
   "source": [
    "# 파일 이름 변경\n",
    "# os.rename(\"old_name\", \"new_name\")\n",
    "try:\n",
    "    os.rename(\"output.txt\", \"input.txt\")\n",
    "except FileNotFoundError:\n",
    "    print(\"파일을 찾을 수 없습니다\")"
   ]
  },
  {
   "cell_type": "code",
   "execution_count": 93,
   "id": "748279ab-cf19-4461-98f3-8f60bbcb9e5c",
   "metadata": {},
   "outputs": [
    {
     "name": "stdout",
     "output_type": "stream",
     "text": [
      "['.ipynb_checkpoints', '2025_02_04.ipynb', '2025_02_05(1).ipynb', '2025_02_05(2).ipynb', '2025_02_06(1).ipynb', '2025_02_06(2).ipynb', '2025_02_07(1).ipynb', '2025_02_07(2).ipynb', '2025_02_10(1).ipynb', 'bank.py', 'Calculator.ipynb', 'Calculator.py', 'contact.py', 'have_it_all.txt', 'input.txt', 'numbers.txt', 'output2.txt', 'sample.txt', 'sample2.txt', '__pycache__']\n",
      "['.ipynb_checkpoints', '2025_02_04.ipynb', '2025_02_05(1).ipynb', '2025_02_05(2).ipynb', '2025_02_06(1).ipynb', '2025_02_06(2).ipynb', '2025_02_07(1).ipynb', '2025_02_07(2).ipynb', '2025_02_10(1).ipynb', 'bank.py', 'Calculator.ipynb', 'Calculator.py', 'contact.py', 'have_it_all.txt', 'input.txt', 'numbers.txt', 'old_folder', 'output2.txt', 'sample.txt', 'sample2.txt', '__pycache__']\n"
     ]
    }
   ],
   "source": [
    "print(os.listdir())\n",
    "os.mkdir(\"old_folder\")\n",
    "print(os.listdir())"
   ]
  },
  {
   "cell_type": "code",
   "execution_count": 97,
   "id": "d2a9c56f-cec7-427c-9f78-74f41b77612b",
   "metadata": {},
   "outputs": [
    {
     "name": "stdout",
     "output_type": "stream",
     "text": [
      "not Found\n",
      "['.ipynb_checkpoints', '2025_02_04.ipynb', '2025_02_05(1).ipynb', '2025_02_05(2).ipynb', '2025_02_06(1).ipynb', '2025_02_06(2).ipynb', '2025_02_07(1).ipynb', '2025_02_07(2).ipynb', '2025_02_10(1).ipynb', 'bank.py', 'Calculator.ipynb', 'Calculator.py', 'contact.py', 'have_it_all.txt', 'input.txt', 'new_folder', 'numbers.txt', 'output2.txt', 'sample.txt', 'sample2.txt', '__pycache__']\n"
     ]
    }
   ],
   "source": [
    "try:\n",
    "    os.rename(\"old_folder\", \"new_folder\")\n",
    "    print(os.listdir())\n",
    "except FileNotFoundError:\n",
    "    print(\"not Found\")\n",
    "\n",
    "print(os.listdir())"
   ]
  },
  {
   "cell_type": "code",
   "execution_count": 98,
   "id": "16290738-1ab2-4265-8c96-ada4d653691f",
   "metadata": {},
   "outputs": [
    {
     "name": "stdout",
     "output_type": "stream",
     "text": [
      "test\n"
     ]
    }
   ],
   "source": [
    "with open(\"new_folder/exam.txt\", \"w\") as file:\n",
    "    file.write(\"test\")\n",
    "\n",
    "with open(\"new_folder/exam.txt\", \"r\") as file:\n",
    "    print(file.read())"
   ]
  },
  {
   "cell_type": "code",
   "execution_count": 106,
   "id": "65018568-a6de-49b7-80ca-1a5ef872c3b3",
   "metadata": {},
   "outputs": [
    {
     "data": {
      "text/plain": [
       "True"
      ]
     },
     "execution_count": 106,
     "metadata": {},
     "output_type": "execute_result"
    }
   ],
   "source": [
    "os.path.exists(\"new_folder\")\n",
    "# os.rmdir(\"new_folder\")\n"
   ]
  },
  {
   "cell_type": "code",
   "execution_count": 109,
   "id": "3f76b2ba-323f-4b42-9a5b-efd5bc5b7092",
   "metadata": {},
   "outputs": [
    {
     "name": "stdout",
     "output_type": "stream",
     "text": [
      "already exists\n"
     ]
    }
   ],
   "source": [
    "try:\n",
    "    os.mkdir(\"practice_folder\")\n",
    "except FileExistsError:\n",
    "    print(\"already exists\")"
   ]
  },
  {
   "cell_type": "code",
   "execution_count": 125,
   "id": "2445fdb1-1265-47eb-971b-1f8ef27b2426",
   "metadata": {},
   "outputs": [
    {
     "name": "stdout",
     "output_type": "stream",
     "text": [
      "test test\n"
     ]
    }
   ],
   "source": [
    "path = os.path.join(\"practice_folder\", \"test.txt\")\n",
    "with open(path, \"w\") as file:\n",
    "    file.write(\"test test\")\n",
    "\n",
    "with open(path, \"r\") as file:\n",
    "    print(file.read())\n"
   ]
  },
  {
   "cell_type": "code",
   "execution_count": 135,
   "id": "526b4d45-5ad1-4c46-b1cc-daa6b274c0aa",
   "metadata": {},
   "outputs": [
    {
     "name": "stdout",
     "output_type": "stream",
     "text": [
      "Not Found\n"
     ]
    }
   ],
   "source": [
    "try:\n",
    "    os.rename(\"practice_folder/test.txt\", \"practice_folder/rerenamed_test.txt\")\n",
    "except FileNotFoundError:\n",
    "    print(\"Not Found\")"
   ]
  },
  {
   "cell_type": "code",
   "execution_count": 136,
   "id": "156ab501-4389-45c3-bb6c-dbb8e756334d",
   "metadata": {},
   "outputs": [
    {
     "data": {
      "text/plain": [
       "['renamed_test.txt', 'rerenamed_test.txt']"
      ]
     },
     "execution_count": 136,
     "metadata": {},
     "output_type": "execute_result"
    }
   ],
   "source": [
    "os.listdir(\"practice_folder/\")"
   ]
  },
  {
   "cell_type": "markdown",
   "id": "67ab0c3e-4a91-4a21-95ed-f264142a5d17",
   "metadata": {},
   "source": [
    "# shutil\n",
    "- shell utilites\n",
    "- 파일 복사, 이동, 삭제 등 고급 기능 제공\n",
    "- os보다 강력"
   ]
  },
  {
   "cell_type": "code",
   "execution_count": 139,
   "id": "86b91ffd-9856-4ff2-b575-2d9a9e408e75",
   "metadata": {},
   "outputs": [
    {
     "data": {
      "text/plain": [
       "['.ipynb_checkpoints',\n",
       " '2025_02_04.ipynb',\n",
       " '2025_02_05(1).ipynb',\n",
       " '2025_02_05(2).ipynb',\n",
       " '2025_02_06(1).ipynb',\n",
       " '2025_02_06(2).ipynb',\n",
       " '2025_02_07(1).ipynb',\n",
       " '2025_02_07(2).ipynb',\n",
       " '2025_02_10(1).ipynb',\n",
       " 'backup.txt',\n",
       " 'bank.py',\n",
       " 'Calculator.ipynb',\n",
       " 'Calculator.py',\n",
       " 'contact.py',\n",
       " 'have_it_all.txt',\n",
       " 'input.txt',\n",
       " 'new_folder',\n",
       " 'numbers.txt',\n",
       " 'output2.txt',\n",
       " 'practice_folder',\n",
       " 'sample.txt',\n",
       " 'sample2.txt',\n",
       " '__pycache__']"
      ]
     },
     "execution_count": 139,
     "metadata": {},
     "output_type": "execute_result"
    }
   ],
   "source": [
    "import shutil\n",
    "# os.listdir()\n",
    "# shutil,copy() -> 파일 복사\n",
    "# 복사된 파일은 내용과 권한이 동일\n",
    "# 권한 : 나, 그룹, 다른 User\n",
    "# R, W, 실행\n",
    "\n",
    "shutil.copy(\"sample.txt\", \"backup.txt\")\n",
    "os.listdir()"
   ]
  },
  {
   "cell_type": "code",
   "execution_count": 140,
   "id": "cecf6fb6-b7a0-430b-867d-0c284f90f156",
   "metadata": {},
   "outputs": [
    {
     "data": {
      "text/plain": [
       "['.ipynb_checkpoints',\n",
       " '2025_02_04.ipynb',\n",
       " '2025_02_05(1).ipynb',\n",
       " '2025_02_05(2).ipynb',\n",
       " '2025_02_06(1).ipynb',\n",
       " '2025_02_06(2).ipynb',\n",
       " '2025_02_07(1).ipynb',\n",
       " '2025_02_07(2).ipynb',\n",
       " '2025_02_10(1).ipynb',\n",
       " 'backup.txt',\n",
       " 'backup_folder',\n",
       " 'bank.py',\n",
       " 'Calculator.ipynb',\n",
       " 'Calculator.py',\n",
       " 'contact.py',\n",
       " 'have_it_all.txt',\n",
       " 'input.txt',\n",
       " 'new_folder',\n",
       " 'numbers.txt',\n",
       " 'output2.txt',\n",
       " 'practice_folder',\n",
       " 'sample.txt',\n",
       " 'sample2.txt',\n",
       " '__pycache__']"
      ]
     },
     "execution_count": 140,
     "metadata": {},
     "output_type": "execute_result"
    }
   ],
   "source": [
    "shutil.copytree(\"practice_folder\", \"backup_folder\")\n",
    "os.listdir()"
   ]
  },
  {
   "cell_type": "code",
   "execution_count": 141,
   "id": "c3b6ea98-f73e-4539-b8e4-99ecb3738ff5",
   "metadata": {},
   "outputs": [
    {
     "data": {
      "text/plain": [
       "['renamed_test.txt', 'rerenamed_test.txt', 'sample2.txt']"
      ]
     },
     "execution_count": 141,
     "metadata": {},
     "output_type": "execute_result"
    }
   ],
   "source": [
    "# 파일 이동\n",
    "# shutil.move(\"old path\", \"new path\"\n",
    "# 잘라내기\n",
    "\n",
    "shutil.move(\"sample2.txt\", \"backup_folder/sample2.txt\")\n",
    "os.listdir(\"backup_folder\")"
   ]
  },
  {
   "cell_type": "code",
   "execution_count": 143,
   "id": "119bd00e-5989-4eaa-9839-31a68defef8d",
   "metadata": {},
   "outputs": [
    {
     "name": "stdout",
     "output_type": "stream",
     "text": [
      "['practice_folder', 'renamed_test.txt', 'rerenamed_test.txt', 'sample2.txt']\n"
     ]
    }
   ],
   "source": [
    "shutil.move(\"practice_folder\", \"backup_folder\")\n",
    "print(os.listdir(\"backup_folder\"))"
   ]
  },
  {
   "cell_type": "code",
   "execution_count": 144,
   "id": "529cd737-c66c-40c5-9c7f-f78fbefca2e9",
   "metadata": {},
   "outputs": [
    {
     "data": {
      "text/plain": [
       "['practice_folder', 'renamed_test.txt', 'sample2.txt']"
      ]
     },
     "execution_count": 144,
     "metadata": {},
     "output_type": "execute_result"
    }
   ],
   "source": [
    "os.remove(\"backup_folder/rerenamed_test.txt\")\n",
    "os.listdir(\"backup_folder\")"
   ]
  },
  {
   "cell_type": "code",
   "execution_count": 146,
   "id": "4653771e-fe52-4d35-a307-87ebc704dfac",
   "metadata": {},
   "outputs": [],
   "source": [
    "# shutil.rmtree()\n",
    "# 모든 내용이 삭제\n",
    "# ⚠️⚠️ 주의해서 사용"
   ]
  },
  {
   "cell_type": "code",
   "execution_count": 145,
   "id": "f59e5cbf-8220-4585-894f-7dba6bd2bc66",
   "metadata": {},
   "outputs": [
    {
     "data": {
      "text/plain": [
       "['.ipynb_checkpoints',\n",
       " '2025_02_04.ipynb',\n",
       " '2025_02_05(1).ipynb',\n",
       " '2025_02_05(2).ipynb',\n",
       " '2025_02_06(1).ipynb',\n",
       " '2025_02_06(2).ipynb',\n",
       " '2025_02_07(1).ipynb',\n",
       " '2025_02_07(2).ipynb',\n",
       " '2025_02_10(1).ipynb',\n",
       " 'backup.txt',\n",
       " 'bank.py',\n",
       " 'Calculator.ipynb',\n",
       " 'Calculator.py',\n",
       " 'contact.py',\n",
       " 'have_it_all.txt',\n",
       " 'input.txt',\n",
       " 'new_folder',\n",
       " 'numbers.txt',\n",
       " 'output2.txt',\n",
       " 'sample.txt',\n",
       " '__pycache__']"
      ]
     },
     "execution_count": 145,
     "metadata": {},
     "output_type": "execute_result"
    }
   ],
   "source": [
    "shutil.rmtree(\"backup_folder\")\n",
    "os.listdir()"
   ]
  },
  {
   "cell_type": "code",
   "execution_count": 288,
   "id": "85a25fa8-a72d-4bfa-b28f-5a95ed58020b",
   "metadata": {},
   "outputs": [],
   "source": [
    "shutil.copy(\"sample.txt\", \"exam.txt\")\n",
    "os.mkdir(\"exam\")\n",
    "shutil.move(\"exam.txt\", \"exam/test.txt\")\n",
    "os.rename(\"exam\", \"test\")\n",
    "list_test = os.listdir(\"test\")\n",
    "for i in list_test:\n",
    "    os.remove(f\"test/{i}\")\n",
    "shutil.rmtree(\"test\")"
   ]
  },
  {
   "cell_type": "code",
   "execution_count": 148,
   "id": "3edd1cd6-ee7f-4831-93a4-6875a334aa94",
   "metadata": {},
   "outputs": [
    {
     "data": {
      "text/plain": [
       "'exam.txt'"
      ]
     },
     "execution_count": 148,
     "metadata": {},
     "output_type": "execute_result"
    }
   ],
   "source": [
    "shutil.copy(\"sample.txt\", \"exam.txt\")"
   ]
  },
  {
   "cell_type": "code",
   "execution_count": 149,
   "id": "6c14889a-6615-4003-8a92-9b31fe04d222",
   "metadata": {},
   "outputs": [],
   "source": [
    "os.mkdir(\"exam\")"
   ]
  },
  {
   "cell_type": "code",
   "execution_count": 284,
   "id": "5fb2ef6f-6203-40f8-91d3-a37cbe212629",
   "metadata": {},
   "outputs": [
    {
     "data": {
      "text/plain": [
       "'exam/exam.txt'"
      ]
     },
     "execution_count": 284,
     "metadata": {},
     "output_type": "execute_result"
    }
   ],
   "source": [
    "shutil.move(\"exam.txt\", \"exam/exam.txt\")"
   ]
  },
  {
   "cell_type": "code",
   "execution_count": 285,
   "id": "ec3fc096-f913-4313-84d6-696272e1d80d",
   "metadata": {},
   "outputs": [],
   "source": [
    "os.rename(\"exam\", \"test\")"
   ]
  },
  {
   "cell_type": "code",
   "execution_count": 286,
   "id": "3b9d97c9-b5cd-4d02-bca8-afcd1f944a60",
   "metadata": {},
   "outputs": [],
   "source": [
    "os.remove(\"test/test.txt\")"
   ]
  },
  {
   "cell_type": "code",
   "execution_count": 287,
   "id": "ffea4a3e-aa48-44e4-a07c-4acf6e8ed318",
   "metadata": {},
   "outputs": [],
   "source": [
    "shutil.rmtree(\"test\")"
   ]
  },
  {
   "attachments": {
    "9e8939ed-b679-4dac-8c3f-389bc519e8b1.png": {
     "image/png": "[encoded data removed]"
    }
   },
   "cell_type": "markdown",
   "id": "53dd97ba-cb42-48df-b4b9-c3cc6f64ca6a",
   "metadata": {},
   "source": [
    "![image.png](attachment:9e8939ed-b679-4dac-8c3f-389bc519e8b1.png)\n",
    "## ※ [^abc] (X), [!abc] (O)"
   ]
  },
  {
   "cell_type": "code",
   "execution_count": 303,
   "id": "bd26f1ab-eb26-4320-a678-e9a248c8565c",
   "metadata": {},
   "outputs": [
    {
     "name": "stdout",
     "output_type": "stream",
     "text": [
      "['backup.txt', 'input.txt', 'sample.txt']\n",
      "['backup.txt', 'sample.txt']\n"
     ]
    }
   ],
   "source": [
    "# 원하는 키워드로 파일 및 폴더 탐색\n",
    "# glob (Global)\n",
    "import glob\n",
    "print(glob.glob(\"[ibs]*.txt\"))\n",
    "print(glob.glob(\"??????.txt\"))"
   ]
  },
  {
   "cell_type": "code",
   "execution_count": 306,
   "id": "88986df5-dc86-4f66-a9dd-d7f8864f1251",
   "metadata": {},
   "outputs": [
    {
     "name": "stdout",
     "output_type": "stream",
     "text": [
      "['backup.txt', 'have_it_all.txt', 'input.txt', 'numbers.txt', 'output2.txt', 'sample.txt', 'new_folder\\\\exam.txt']\n"
     ]
    }
   ],
   "source": [
    "# 하위 폴더 탐색\n",
    "result = glob.glob(\"**/*.txt\", recursive=True)\n",
    "# recursive : 기본적으로 False옵션 걸려 있음\n",
    "# 모든 파일을 탐색하게 될 경우\n",
    "# 메모리, 코드적으로 오랜 시간이 소요되므로\n",
    "# 개발자가 True로 바꿔야만 동작\n",
    "print(result)"
   ]
  },
  {
   "cell_type": "code",
   "execution_count": null,
   "id": "68f12226-9d88-4f72-b4e7-076119f302a8",
   "metadata": {},
   "outputs": [],
   "source": []
  },
  {
   "cell_type": "code",
   "execution_count": null,
   "id": "219d5f1d-84aa-4653-a68c-4c61e8c62b85",
   "metadata": {},
   "outputs": [],
   "source": []
  },
  {
   "cell_type": "code",
   "execution_count": null,
   "id": "7cf56526-69e4-4024-9004-3deaee9322c7",
   "metadata": {},
   "outputs": [],
   "source": []
  },
  {
   "cell_type": "code",
   "execution_count": null,
   "id": "f7dc1ee6-4a20-42e9-874c-c45e10ddc1f0",
   "metadata": {},
   "outputs": [],
   "source": []
  },
  {
   "cell_type": "code",
   "execution_count": null,
   "id": "b8ea5e4d-e4e1-4d15-bc44-2ac195430b14",
   "metadata": {},
   "outputs": [],
   "source": []
  },
  {
   "cell_type": "code",
   "execution_count": null,
   "id": "a3e71953-03a0-4b64-bf8e-d2d0938e206d",
   "metadata": {},
   "outputs": [],
   "source": []
  },
  {
   "cell_type": "code",
   "execution_count": null,
   "id": "95594a79-5f4d-4c14-b392-a9fa1767d166",
   "metadata": {},
   "outputs": [],
   "source": []
  },
  {
   "cell_type": "code",
   "execution_count": null,
   "id": "49147db5-a54b-4506-a8df-c6e6aa2d15c0",
   "metadata": {},
   "outputs": [],
   "source": []
  },
  {
   "cell_type": "code",
   "execution_count": null,
   "id": "c2de5506-f83c-4f43-ad16-32d279e5772b",
   "metadata": {},
   "outputs": [],
   "source": []
  }
 ],
 "metadata": {
  "kernelspec": {
   "display_name": "Python 3 (ipykernel)",
   "language": "python",
   "name": "python3"
  },
  "language_info": {
   "codemirror_mode": {
    "name": "ipython",
    "version": 3
   },
   "file_extension": ".py",
   "mimetype": "text/x-python",
   "name": "python",
   "nbconvert_exporter": "python",
   "pygments_lexer": "ipython3",
   "version": "3.9.21"
  }
 },
 "nbformat": 4,
 "nbformat_minor": 5
}
