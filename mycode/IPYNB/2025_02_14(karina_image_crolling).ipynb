{
 "cells": [
  {
   "cell_type": "code",
   "execution_count": 2,
   "metadata": {},
   "outputs": [],
   "source": [
    "# 네이버 이미지 검색 사이트에서\n",
    "# 사용자로부 input()을 통해 검색어를 입력 받아\n",
    "# search변수에 저장\n",
    "# search 폴더 만들고 (만약, 있다면 안 만듦)\n",
    "# search 키워드로 이미지 검색!!\n",
    "# (selenium 라이브러리 사용)\n",
    "# 처음 보이는 10개의 이미지 다운로드 해서\n",
    "# search폴더에 저장"
   ]
  },
  {
   "cell_type": "code",
   "execution_count": 1,
   "metadata": {},
   "outputs": [],
   "source": [
    "# 라이브러리 모음\n",
    "from selenium import webdriver as wb\n",
    "from selenium.webdriver.common.keys import Keys\n",
    "from selenium.webdriver.common.by import By\n",
    "import time\n",
    "import csv\n",
    "import os\n",
    "import requests\n",
    "import glob"
   ]
  },
  {
   "cell_type": "code",
   "execution_count": 2,
   "metadata": {},
   "outputs": [],
   "source": [
    "url_naver_image = \"https://search.naver.com/search.naver?where=image\"\n",
    "driver = wb.Chrome()\n",
    "driver.get(url_naver_image)"
   ]
  },
  {
   "cell_type": "code",
   "execution_count": 49,
   "metadata": {},
   "outputs": [],
   "source": [
    "send_text = input(\"검색어를 입력하세요 :\")\n",
    "\n",
    "if not os.path.isdir(send_text):\n",
    "    os.mkdir(send_text)\n",
    "else:\n",
    "    print(\"폴더가 존재합니다.\")"
   ]
  },
  {
   "cell_type": "code",
   "execution_count": 12,
   "metadata": {},
   "outputs": [
    {
     "data": {
      "text/plain": [
       "['2025_02_04.ipynb',\n",
       " '2025_02_05(1).ipynb',\n",
       " '2025_02_05(2).ipynb',\n",
       " '2025_02_06(1).ipynb',\n",
       " '2025_02_06(2).ipynb',\n",
       " '2025_02_07(1).ipynb',\n",
       " '2025_02_07(2).ipynb',\n",
       " '2025_02_10(1).ipynb',\n",
       " '2025_02_10(2).ipynb',\n",
       " '2025_02_11(1).ipynb',\n",
       " '2025_02_11(2).ipynb',\n",
       " '2025_02_12(1).ipynb',\n",
       " '2025_02_12(2).ipynb',\n",
       " '2025_02_13(1).ipynb',\n",
       " '2025_02_13(2).ipynb',\n",
       " '2025_02_13(3).ipynb',\n",
       " '2025_02_14(1).ipynb',\n",
       " 'Calculator.ipynb',\n",
       " '카리나']"
      ]
     },
     "execution_count": 12,
     "metadata": {},
     "output_type": "execute_result"
    }
   ],
   "source": [
    "glob.glob(f\"*\")"
   ]
  },
  {
   "cell_type": "code",
   "execution_count": 52,
   "metadata": {},
   "outputs": [],
   "source": [
    "# 입력받은 값 검색하기\n",
    "\n",
    "search = driver.find_element(By.ID, \"nx_query\")\n",
    "search.clear()\n",
    "search.send_keys(send_text)\n",
    "search.send_keys(Keys.ENTER)"
   ]
  },
  {
   "cell_type": "code",
   "execution_count": 62,
   "metadata": {},
   "outputs": [
    {
     "name": "stdout",
     "output_type": "stream",
     "text": [
      "500\n"
     ]
    }
   ],
   "source": [
    "# 이미지 가져오기\n",
    "\n",
    "s_images = driver.find_elements(By.CLASS_NAME, \"_fe_image_tab_content_thumbnail_image\")\n",
    "print(len(s_images))"
   ]
  },
  {
   "cell_type": "code",
   "execution_count": null,
   "metadata": {},
   "outputs": [
    {
     "ename": "ValueError",
     "evalue": "invalid literal for int() with base 10: ''",
     "output_type": "error",
     "traceback": [
      "\u001b[1;31m---------------------------------------------------------------------------\u001b[0m",
      "\u001b[1;31mValueError\u001b[0m                                Traceback (most recent call last)",
      "Cell \u001b[1;32mIn[63], line 2\u001b[0m\n\u001b[0;32m      1\u001b[0m \u001b[38;5;66;03m# 이미지 경로 가져오기\u001b[39;00m\n\u001b[1;32m----> 2\u001b[0m amount \u001b[38;5;241m=\u001b[39m \u001b[38;5;28;43mint\u001b[39;49m\u001b[43m(\u001b[49m\u001b[38;5;28;43minput\u001b[39;49m\u001b[43m(\u001b[49m\u001b[38;5;124;43m\"\u001b[39;49m\u001b[38;5;124;43m원하는 사진의 숫자를 입력하세요 :\u001b[39;49m\u001b[38;5;124;43m\"\u001b[39;49m\u001b[43m)\u001b[49m\u001b[43m)\u001b[49m\n\u001b[0;32m      3\u001b[0m scroll \u001b[38;5;241m=\u001b[39m amount \u001b[38;5;241m/\u001b[39m\u001b[38;5;241m/\u001b[39m \u001b[38;5;241m50\u001b[39m\n\u001b[0;32m      5\u001b[0m \u001b[38;5;28;01mfor\u001b[39;00m i \u001b[38;5;129;01min\u001b[39;00m \u001b[38;5;28mrange\u001b[39m(scroll):\n",
      "\u001b[1;31mValueError\u001b[0m: invalid literal for int() with base 10: ''"
     ]
    }
   ],
   "source": [
    "# 이미지 경로 가져오기\n",
    "amount = int(input(\"원하는 사진의 숫자를 입력하세요 :\"))\n",
    "scroll = amount // 50\n",
    "\n",
    "for i in range(scroll):\n",
    "    body = driver.find_element(By.TAG_NAME, \"body\")\n",
    "    body.send_keys(Keys.END)\n",
    "    time.sleep(1)\n",
    "body = driver.find_element(By.TAG_NAME, \"body\")\n",
    "body.send_keys(Keys.HOME)\n",
    "\n",
    "# 설정 양보다 이미지가 적을 경우우\n",
    "if len(s_images) < amount:\n",
    "    amount = len(s_images)\n",
    "\n",
    "for i in range(amount):\n",
    "    img_url = s_images[i].get_attribute(\"src\")\n",
    "    time.sleep(0.1)\n",
    "    # gif 예외처리(오류유발)\n",
    "    if \"gif\" in img_url:\n",
    "        continue\n",
    "\n",
    "    # 경로를 통해 이미지 정보 가져오기\n",
    "    response = requests.get(img_url)\n",
    "    img_data = response.content\n",
    "    img_path = f\"{send_text}/{send_text}{i+1}.jpg\"\n",
    "    # 이미지 저장\n",
    "    with open(img_path, \"wb\") as file:\n",
    "        file.write(img_data)\n",
    "        print(f\"{send_text}{i+1} 저장 완료\")\n",
    "\n",
    "driver.close()\n",
    "    "
   ]
  },
  {
   "cell_type": "code",
   "execution_count": 3,
   "metadata": {},
   "outputs": [
    {
     "name": "stdout",
     "output_type": "stream",
     "text": [
      "250\n",
      "카리나1 저장 완료\n",
      "카리나2 저장 완료\n",
      "카리나3 저장 완료\n",
      "카리나4 저장 완료\n",
      "카리나5 저장 완료\n",
      "카리나6 저장 완료\n",
      "카리나7 저장 완료\n",
      "카리나8 저장 완료\n",
      "카리나9 저장 완료\n",
      "카리나10 저장 완료\n",
      "카리나11 저장 완료\n",
      "카리나12 저장 완료\n",
      "카리나13 저장 완료\n",
      "카리나14 저장 완료\n",
      "카리나15 저장 완료\n",
      "카리나16 저장 완료\n",
      "카리나17 저장 완료\n",
      "카리나18 저장 완료\n",
      "카리나19 저장 완료\n",
      "카리나20 저장 완료\n",
      "카리나21 저장 완료\n",
      "카리나22 저장 완료\n",
      "카리나23 저장 완료\n",
      "카리나24 저장 완료\n",
      "카리나25 저장 완료\n",
      "카리나26 저장 완료\n",
      "카리나27 저장 완료\n",
      "카리나28 저장 완료\n",
      "카리나29 저장 완료\n",
      "카리나30 저장 완료\n",
      "카리나31 저장 완료\n",
      "카리나32 저장 완료\n",
      "카리나33 저장 완료\n",
      "카리나34 저장 완료\n",
      "카리나35 저장 완료\n",
      "카리나36 저장 완료\n",
      "카리나37 저장 완료\n",
      "카리나38 저장 완료\n",
      "카리나39 저장 완료\n",
      "카리나40 저장 완료\n",
      "카리나41 저장 완료\n",
      "카리나42 저장 완료\n",
      "카리나43 저장 완료\n",
      "카리나44 저장 완료\n",
      "카리나45 저장 완료\n",
      "카리나47 저장 완료\n",
      "카리나48 저장 완료\n",
      "카리나49 저장 완료\n",
      "카리나50 저장 완료\n",
      "카리나51 저장 완료\n",
      "카리나52 저장 완료\n",
      "카리나53 저장 완료\n",
      "카리나54 저장 완료\n",
      "카리나55 저장 완료\n",
      "카리나56 저장 완료\n",
      "카리나57 저장 완료\n",
      "카리나58 저장 완료\n",
      "카리나59 저장 완료\n",
      "카리나60 저장 완료\n",
      "카리나61 저장 완료\n",
      "카리나62 저장 완료\n",
      "카리나63 저장 완료\n",
      "카리나64 저장 완료\n",
      "카리나65 저장 완료\n",
      "카리나66 저장 완료\n",
      "카리나67 저장 완료\n",
      "카리나68 저장 완료\n",
      "카리나69 저장 완료\n",
      "카리나70 저장 완료\n",
      "카리나71 저장 완료\n",
      "카리나72 저장 완료\n",
      "카리나73 저장 완료\n",
      "카리나74 저장 완료\n",
      "카리나75 저장 완료\n",
      "카리나76 저장 완료\n",
      "카리나77 저장 완료\n",
      "카리나78 저장 완료\n",
      "카리나79 저장 완료\n",
      "카리나80 저장 완료\n",
      "카리나81 저장 완료\n",
      "카리나82 저장 완료\n",
      "카리나83 저장 완료\n",
      "카리나84 저장 완료\n",
      "카리나85 저장 완료\n",
      "카리나86 저장 완료\n",
      "카리나87 저장 완료\n",
      "카리나88 저장 완료\n",
      "카리나89 저장 완료\n",
      "카리나90 저장 완료\n",
      "카리나91 저장 완료\n",
      "카리나92 저장 완료\n",
      "카리나93 저장 완료\n",
      "카리나94 저장 완료\n",
      "카리나95 저장 완료\n",
      "카리나96 저장 완료\n",
      "카리나97 저장 완료\n",
      "카리나98 저장 완료\n",
      "카리나99 저장 완료\n",
      "카리나100 저장 완료\n"
     ]
    }
   ],
   "source": [
    "url_naver_image = \"https://search.naver.com/search.naver?where=image\"\n",
    "driver = wb.Chrome()\n",
    "driver.get(url_naver_image)\n",
    "\n",
    "send_text = input(\"검색어를 입력하세요 :\")\n",
    "\n",
    "if not os.path.isdir(send_text):\n",
    "    os.mkdir(send_text)\n",
    "else:\n",
    "    print(\"폴더가 존재합니다.\")\n",
    "\n",
    "# 입력받은 값 검색하기\n",
    "\n",
    "search = driver.find_element(By.ID, \"nx_query\")\n",
    "search.clear()\n",
    "search.send_keys(send_text)\n",
    "search.send_keys(Keys.ENTER)\n",
    "\n",
    "# 아래 스크롤 하기\n",
    "\n",
    "amount = int(input(\"원하는 사진의 숫자를 입력하세요 :\"))\n",
    "scroll = amount // 50\n",
    "\n",
    "for i in range(scroll):\n",
    "    body = driver.find_element(By.TAG_NAME, \"body\")\n",
    "    body.send_keys(Keys.END)\n",
    "    time.sleep(1)\n",
    "\n",
    "\n",
    "# 이미지 가져오기\n",
    "\n",
    "s_images = driver.find_elements(By.CLASS_NAME, \"_fe_image_tab_content_thumbnail_image\")\n",
    "print(len(s_images))\n",
    "\n",
    "# 이미지 경로 가져오기\n",
    "\n",
    "# 설정 양보다 이미지가 적을 경우우\n",
    "if len(s_images) < amount:\n",
    "    amount = len(s_images)\n",
    "\n",
    "for i in range(amount):\n",
    "    img_url = s_images[i].get_attribute(\"src\")\n",
    "    time.sleep(0.1)\n",
    "    # gif 예외처리(오류유발)\n",
    "    if \"gif\" in img_url:\n",
    "        continue\n",
    "\n",
    "    # 경로를 통해 이미지 정보 가져오기\n",
    "    response = requests.get(img_url)\n",
    "    img_data = response.content\n",
    "    img_path = f\"{send_text}/{send_text}{i+1}.jpg\"\n",
    "    # 이미지 저장\n",
    "    with open(img_path, \"wb\") as file:\n",
    "        file.write(img_data)\n",
    "        print(f\"{send_text}{i+1} 저장 완료\")\n",
    "\n",
    "driver.close()\n",
    "    "
   ]
  },
  {
   "cell_type": "code",
   "execution_count": null,
   "metadata": {},
   "outputs": [],
   "source": []
  },
  {
   "cell_type": "code",
   "execution_count": null,
   "metadata": {},
   "outputs": [],
   "source": []
  },
  {
   "cell_type": "code",
   "execution_count": null,
   "metadata": {},
   "outputs": [],
   "source": []
  },
  {
   "cell_type": "code",
   "execution_count": null,
   "metadata": {},
   "outputs": [],
   "source": []
  },
  {
   "cell_type": "code",
   "execution_count": null,
   "metadata": {},
   "outputs": [],
   "source": []
  },
  {
   "cell_type": "code",
   "execution_count": null,
   "metadata": {},
   "outputs": [],
   "source": []
  },
  {
   "cell_type": "code",
   "execution_count": null,
   "metadata": {},
   "outputs": [],
   "source": []
  },
  {
   "cell_type": "code",
   "execution_count": null,
   "metadata": {},
   "outputs": [],
   "source": []
  },
  {
   "cell_type": "code",
   "execution_count": null,
   "metadata": {},
   "outputs": [],
   "source": []
  },
  {
   "cell_type": "code",
   "execution_count": null,
   "metadata": {},
   "outputs": [],
   "source": []
  },
  {
   "cell_type": "code",
   "execution_count": null,
   "metadata": {},
   "outputs": [],
   "source": []
  },
  {
   "cell_type": "code",
   "execution_count": null,
   "metadata": {},
   "outputs": [],
   "source": []
  },
  {
   "cell_type": "code",
   "execution_count": null,
   "metadata": {},
   "outputs": [],
   "source": []
  },
  {
   "cell_type": "code",
   "execution_count": null,
   "metadata": {},
   "outputs": [],
   "source": []
  },
  {
   "cell_type": "code",
   "execution_count": null,
   "metadata": {},
   "outputs": [],
   "source": []
  },
  {
   "cell_type": "code",
   "execution_count": null,
   "metadata": {},
   "outputs": [],
   "source": []
  },
  {
   "cell_type": "code",
   "execution_count": null,
   "metadata": {},
   "outputs": [],
   "source": []
  },
  {
   "cell_type": "code",
   "execution_count": null,
   "metadata": {},
   "outputs": [],
   "source": []
  },
  {
   "cell_type": "code",
   "execution_count": null,
   "metadata": {},
   "outputs": [],
   "source": []
  },
  {
   "cell_type": "code",
   "execution_count": null,
   "metadata": {},
   "outputs": [],
   "source": []
  },
  {
   "cell_type": "code",
   "execution_count": null,
   "metadata": {},
   "outputs": [],
   "source": []
  },
  {
   "cell_type": "code",
   "execution_count": null,
   "metadata": {},
   "outputs": [],
   "source": []
  },
  {
   "cell_type": "code",
   "execution_count": null,
   "metadata": {},
   "outputs": [],
   "source": []
  },
  {
   "cell_type": "code",
   "execution_count": null,
   "metadata": {},
   "outputs": [],
   "source": []
  },
  {
   "cell_type": "code",
   "execution_count": null,
   "metadata": {},
   "outputs": [],
   "source": []
  },
  {
   "cell_type": "code",
   "execution_count": null,
   "metadata": {},
   "outputs": [],
   "source": []
  },
  {
   "cell_type": "code",
   "execution_count": null,
   "metadata": {},
   "outputs": [],
   "source": []
  },
  {
   "cell_type": "code",
   "execution_count": null,
   "metadata": {},
   "outputs": [],
   "source": []
  }
 ],
 "metadata": {
  "kernelspec": {
   "display_name": "develenv",
   "language": "python",
   "name": "python3"
  },
  "language_info": {
   "codemirror_mode": {
    "name": "ipython",
    "version": 3
   },
   "file_extension": ".py",
   "mimetype": "text/x-python",
   "name": "python",
   "nbconvert_exporter": "python",
   "pygments_lexer": "ipython3",
   "version": "3.9.21"
  }
 },
 "nbformat": 4,
 "nbformat_minor": 2
}
