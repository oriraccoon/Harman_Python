{
 "cells": [
  {
   "cell_type": "markdown",
   "metadata": {},
   "source": [
    "- 웹 크롤링"
   ]
  },
  {
   "cell_type": "code",
   "execution_count": 2,
   "metadata": {},
   "outputs": [],
   "source": [
    "# 웹 스크래핑\n",
    "# 장점 : 정적 페이지 데이터를 수집하는데 용이\n",
    "\n",
    "# 웹 크롤링\n",
    "# 장점 : 동적 페이지 데이터를 수집하는데 용이\n",
    "# 코드 작성 후 자동화"
   ]
  },
  {
   "cell_type": "code",
   "execution_count": 3,
   "metadata": {},
   "outputs": [
    {
     "name": "stdout",
     "output_type": "stream",
     "text": [
      "Collecting selenium\n",
      "  Downloading selenium-4.28.1-py3-none-any.whl.metadata (7.1 kB)\n",
      "Requirement already satisfied: urllib3<3,>=1.26 in c:\\users\\kccistc\\anaconda3\\envs\\myenv\\lib\\site-packages (from urllib3[socks]<3,>=1.26->selenium) (2.3.0)\n",
      "Collecting trio~=0.17 (from selenium)\n",
      "  Downloading trio-0.28.0-py3-none-any.whl.metadata (8.5 kB)\n",
      "Collecting trio-websocket~=0.9 (from selenium)\n",
      "  Downloading trio_websocket-0.11.1-py3-none-any.whl.metadata (4.7 kB)\n",
      "Requirement already satisfied: certifi>=2021.10.8 in c:\\users\\kccistc\\anaconda3\\envs\\myenv\\lib\\site-packages (from selenium) (2025.1.31)\n",
      "Requirement already satisfied: typing_extensions~=4.9 in c:\\users\\kccistc\\anaconda3\\envs\\myenv\\lib\\site-packages (from selenium) (4.12.2)\n",
      "Requirement already satisfied: websocket-client~=1.8 in c:\\users\\kccistc\\anaconda3\\envs\\myenv\\lib\\site-packages (from selenium) (1.8.0)\n",
      "Requirement already satisfied: attrs>=23.2.0 in c:\\users\\kccistc\\anaconda3\\envs\\myenv\\lib\\site-packages (from trio~=0.17->selenium) (25.1.0)\n",
      "Collecting sortedcontainers (from trio~=0.17->selenium)\n",
      "  Downloading sortedcontainers-2.4.0-py2.py3-none-any.whl.metadata (10 kB)\n",
      "Requirement already satisfied: idna in c:\\users\\kccistc\\anaconda3\\envs\\myenv\\lib\\site-packages (from trio~=0.17->selenium) (3.10)\n",
      "Collecting outcome (from trio~=0.17->selenium)\n",
      "  Downloading outcome-1.3.0.post0-py2.py3-none-any.whl.metadata (2.6 kB)\n",
      "Requirement already satisfied: sniffio>=1.3.0 in c:\\users\\kccistc\\anaconda3\\envs\\myenv\\lib\\site-packages (from trio~=0.17->selenium) (1.3.1)\n",
      "Requirement already satisfied: cffi>=1.14 in c:\\users\\kccistc\\anaconda3\\envs\\myenv\\lib\\site-packages (from trio~=0.17->selenium) (1.17.1)\n",
      "Requirement already satisfied: exceptiongroup in c:\\users\\kccistc\\anaconda3\\envs\\myenv\\lib\\site-packages (from trio~=0.17->selenium) (1.2.2)\n",
      "Collecting wsproto>=0.14 (from trio-websocket~=0.9->selenium)\n",
      "  Downloading wsproto-1.2.0-py3-none-any.whl.metadata (5.6 kB)\n",
      "Collecting pysocks!=1.5.7,<2.0,>=1.5.6 (from urllib3[socks]<3,>=1.26->selenium)\n",
      "  Downloading PySocks-1.7.1-py3-none-any.whl.metadata (13 kB)\n",
      "Requirement already satisfied: pycparser in c:\\users\\kccistc\\anaconda3\\envs\\myenv\\lib\\site-packages (from cffi>=1.14->trio~=0.17->selenium) (2.22)\n",
      "Requirement already satisfied: h11<1,>=0.9.0 in c:\\users\\kccistc\\anaconda3\\envs\\myenv\\lib\\site-packages (from wsproto>=0.14->trio-websocket~=0.9->selenium) (0.14.0)\n",
      "Downloading selenium-4.28.1-py3-none-any.whl (9.5 MB)\n",
      "   ---------------------------------------- 0.0/9.5 MB ? eta -:--:--\n",
      "   ---------------------------------------- 0.0/9.5 MB ? eta -:--:--\n",
      "   ---------------------------------------- 0.0/9.5 MB ? eta -:--:--\n",
      "   ---------------------------------------- 0.0/9.5 MB ? eta -:--:--\n",
      "   ---------------------------------------- 0.0/9.5 MB ? eta -:--:--\n",
      "   - -------------------------------------- 0.3/9.5 MB ? eta -:--:--\n",
      "   - -------------------------------------- 0.3/9.5 MB ? eta -:--:--\n",
      "   - -------------------------------------- 0.3/9.5 MB ? eta -:--:--\n",
      "   - -------------------------------------- 0.3/9.5 MB ? eta -:--:--\n",
      "   - -------------------------------------- 0.3/9.5 MB ? eta -:--:--\n",
      "   -- ------------------------------------- 0.5/9.5 MB 258.0 kB/s eta 0:00:35\n",
      "   -- ------------------------------------- 0.5/9.5 MB 258.0 kB/s eta 0:00:35\n",
      "   -- ------------------------------------- 0.5/9.5 MB 258.0 kB/s eta 0:00:35\n",
      "   -- ------------------------------------- 0.5/9.5 MB 258.0 kB/s eta 0:00:35\n",
      "   -- ------------------------------------- 0.5/9.5 MB 258.0 kB/s eta 0:00:35\n",
      "   --- ------------------------------------ 0.8/9.5 MB 239.6 kB/s eta 0:00:37\n",
      "   --- ------------------------------------ 0.8/9.5 MB 239.6 kB/s eta 0:00:37\n",
      "   --- ------------------------------------ 0.8/9.5 MB 239.6 kB/s eta 0:00:37\n",
      "   --- ------------------------------------ 0.8/9.5 MB 239.6 kB/s eta 0:00:37\n",
      "   ---- ----------------------------------- 1.0/9.5 MB 275.0 kB/s eta 0:00:31\n",
      "   ---- ----------------------------------- 1.0/9.5 MB 275.0 kB/s eta 0:00:31\n",
      "   ---- ----------------------------------- 1.0/9.5 MB 275.0 kB/s eta 0:00:31\n",
      "   ----- ---------------------------------- 1.3/9.5 MB 303.7 kB/s eta 0:00:28\n",
      "   ----- ---------------------------------- 1.3/9.5 MB 303.7 kB/s eta 0:00:28\n",
      "   ----- ---------------------------------- 1.3/9.5 MB 303.7 kB/s eta 0:00:28\n",
      "   ----- ---------------------------------- 1.3/9.5 MB 303.7 kB/s eta 0:00:28\n",
      "   ----- ---------------------------------- 1.3/9.5 MB 303.7 kB/s eta 0:00:28\n",
      "   ------ --------------------------------- 1.6/9.5 MB 290.2 kB/s eta 0:00:28\n",
      "   ------ --------------------------------- 1.6/9.5 MB 290.2 kB/s eta 0:00:28\n",
      "   ------ --------------------------------- 1.6/9.5 MB 290.2 kB/s eta 0:00:28\n",
      "   ------ --------------------------------- 1.6/9.5 MB 290.2 kB/s eta 0:00:28\n",
      "   ------- -------------------------------- 1.8/9.5 MB 284.3 kB/s eta 0:00:28\n",
      "   ------- -------------------------------- 1.8/9.5 MB 284.3 kB/s eta 0:00:28\n",
      "   ------- -------------------------------- 1.8/9.5 MB 284.3 kB/s eta 0:00:28\n",
      "   ------- -------------------------------- 1.8/9.5 MB 284.3 kB/s eta 0:00:28\n",
      "   -------- ------------------------------- 2.1/9.5 MB 296.5 kB/s eta 0:00:26\n",
      "   -------- ------------------------------- 2.1/9.5 MB 296.5 kB/s eta 0:00:26\n",
      "   -------- ------------------------------- 2.1/9.5 MB 296.5 kB/s eta 0:00:26\n",
      "   --------- ------------------------------ 2.4/9.5 MB 299.6 kB/s eta 0:00:24\n",
      "   --------- ------------------------------ 2.4/9.5 MB 299.6 kB/s eta 0:00:24\n",
      "   ----------- ---------------------------- 2.6/9.5 MB 317.9 kB/s eta 0:00:22\n",
      "   ----------- ---------------------------- 2.6/9.5 MB 317.9 kB/s eta 0:00:22\n",
      "   ------------ --------------------------- 2.9/9.5 MB 334.9 kB/s eta 0:00:20\n",
      "   ------------ --------------------------- 2.9/9.5 MB 334.9 kB/s eta 0:00:20\n",
      "   ------------- -------------------------- 3.1/9.5 MB 348.8 kB/s eta 0:00:19\n",
      "   ------------- -------------------------- 3.1/9.5 MB 348.8 kB/s eta 0:00:19\n",
      "   ------------- -------------------------- 3.1/9.5 MB 348.8 kB/s eta 0:00:19\n",
      "   ------------- -------------------------- 3.1/9.5 MB 348.8 kB/s eta 0:00:19\n",
      "   ------------- -------------------------- 3.1/9.5 MB 348.8 kB/s eta 0:00:19\n",
      "   ------------- -------------------------- 3.1/9.5 MB 348.8 kB/s eta 0:00:19\n",
      "   -------------- ------------------------- 3.4/9.5 MB 335.5 kB/s eta 0:00:19\n",
      "   -------------- ------------------------- 3.4/9.5 MB 335.5 kB/s eta 0:00:19\n",
      "   --------------- ------------------------ 3.7/9.5 MB 347.8 kB/s eta 0:00:17\n",
      "   --------------- ------------------------ 3.7/9.5 MB 347.8 kB/s eta 0:00:17\n",
      "   ---------------- ----------------------- 3.9/9.5 MB 355.9 kB/s eta 0:00:16\n",
      "   ---------------- ----------------------- 3.9/9.5 MB 355.9 kB/s eta 0:00:16\n",
      "   ---------------- ----------------------- 3.9/9.5 MB 355.9 kB/s eta 0:00:16\n",
      "   ----------------- ---------------------- 4.2/9.5 MB 358.0 kB/s eta 0:00:15\n",
      "   ----------------- ---------------------- 4.2/9.5 MB 358.0 kB/s eta 0:00:15\n",
      "   ----------------- ---------------------- 4.2/9.5 MB 358.0 kB/s eta 0:00:15\n",
      "   ----------------- ---------------------- 4.2/9.5 MB 358.0 kB/s eta 0:00:15\n",
      "   ----------------- ---------------------- 4.2/9.5 MB 358.0 kB/s eta 0:00:15\n",
      "   ------------------ --------------------- 4.5/9.5 MB 349.5 kB/s eta 0:00:15\n",
      "   ------------------ --------------------- 4.5/9.5 MB 349.5 kB/s eta 0:00:15\n",
      "   ------------------- -------------------- 4.7/9.5 MB 361.5 kB/s eta 0:00:14\n",
      "   ------------------- -------------------- 4.7/9.5 MB 361.5 kB/s eta 0:00:14\n",
      "   -------------------- ------------------- 5.0/9.5 MB 370.5 kB/s eta 0:00:13\n",
      "   ---------------------- ----------------- 5.2/9.5 MB 379.0 kB/s eta 0:00:12\n",
      "   ---------------------- ----------------- 5.2/9.5 MB 379.0 kB/s eta 0:00:12\n",
      "   ----------------------- ---------------- 5.5/9.5 MB 390.2 kB/s eta 0:00:11\n",
      "   ------------------------ --------------- 5.8/9.5 MB 403.6 kB/s eta 0:00:10\n",
      "   ------------------------- -------------- 6.0/9.5 MB 416.1 kB/s eta 0:00:09\n",
      "   ---------------------------- ----------- 6.8/9.5 MB 465.0 kB/s eta 0:00:06\n",
      "   ------------------------------- -------- 7.6/9.5 MB 512.8 kB/s eta 0:00:04\n",
      "   ----------------------------------- ---- 8.4/9.5 MB 561.0 kB/s eta 0:00:03\n",
      "   ---------------------------------------- 9.5/9.5 MB 627.7 kB/s eta 0:00:00\n",
      "Downloading trio-0.28.0-py3-none-any.whl (486 kB)\n",
      "Downloading trio_websocket-0.11.1-py3-none-any.whl (17 kB)\n",
      "Downloading PySocks-1.7.1-py3-none-any.whl (16 kB)\n",
      "Downloading wsproto-1.2.0-py3-none-any.whl (24 kB)\n",
      "Downloading outcome-1.3.0.post0-py2.py3-none-any.whl (10 kB)\n",
      "Downloading sortedcontainers-2.4.0-py2.py3-none-any.whl (29 kB)\n",
      "Installing collected packages: sortedcontainers, wsproto, pysocks, outcome, trio, trio-websocket, selenium\n",
      "Successfully installed outcome-1.3.0.post0 pysocks-1.7.1 selenium-4.28.1 sortedcontainers-2.4.0 trio-0.28.0 trio-websocket-0.11.1 wsproto-1.2.0\n"
     ]
    }
   ],
   "source": [
    "!pip3 install selenium"
   ]
  },
  {
   "cell_type": "code",
   "execution_count": 4,
   "metadata": {},
   "outputs": [],
   "source": [
    "import selenium"
   ]
  },
  {
   "cell_type": "markdown",
   "metadata": {},
   "source": [
    "# Selenium 라이브러리\n",
    "- 웹 브라우저를 자동으로 제어\n",
    "- 키보드\n",
    "- 선택자 구분"
   ]
  },
  {
   "cell_type": "code",
   "execution_count": 10,
   "metadata": {},
   "outputs": [],
   "source": [
    "from selenium import webdriver as wb # 브라우저 제어\n",
    "from selenium.webdriver.common.keys import Keys # 키보드 제어\n",
    "from selenium.webdriver.common.by import By # 선택자 구분"
   ]
  },
  {
   "cell_type": "code",
   "execution_count": 14,
   "metadata": {},
   "outputs": [],
   "source": [
    "import time"
   ]
  },
  {
   "cell_type": "code",
   "execution_count": 38,
   "metadata": {},
   "outputs": [],
   "source": [
    "driver = wb.Chrome() # 크롬 브라우저 설정\n",
    "url = \"https://www.naver.com\"\n",
    "driver.get(url) # url 조회"
   ]
  },
  {
   "cell_type": "code",
   "execution_count": 32,
   "metadata": {},
   "outputs": [],
   "source": [
    "search = driver.find_element(By.ID, \"query\")\n",
    "search.send_keys(\"화곡역 맛집\")\n",
    "search.send_keys(Keys.ENTER)\n",
    "time.sleep(1)\n",
    "driver.back() # 뒤로가기 (크롬에서만)"
   ]
  },
  {
   "cell_type": "code",
   "execution_count": 34,
   "metadata": {},
   "outputs": [],
   "source": [
    "# 페이지가 이동되었으면\n",
    "# find_element -> 이 부분이 초기화\n",
    "search = driver.find_element(By.ID, \"query\")\n",
    "search.send_keys(\"까치산역 맛집\")\n",
    "button = driver.find_element(By.ID, \"search-btn\")\n",
    "button.click()\n",
    "time.sleep(3)\n",
    "driver.back() # 뒤로가기 (크롬에서만)"
   ]
  },
  {
   "cell_type": "code",
   "execution_count": 36,
   "metadata": {},
   "outputs": [],
   "source": [
    "body = driver.find_element(By.TAG_NAME, \"body\")\n",
    "body.send_keys(Keys.END)\n",
    "time.sleep(3)\n",
    "body.send_keys(Keys.HOME)"
   ]
  },
  {
   "cell_type": "code",
   "execution_count": 39,
   "metadata": {},
   "outputs": [],
   "source": [
    "driver.close() # 추천, 메모리 삭제\n",
    "# driver.quit() # 비추천, 빠르지만 메모리 잔존"
   ]
  },
  {
   "cell_type": "code",
   "execution_count": null,
   "metadata": {},
   "outputs": [],
   "source": []
  },
  {
   "cell_type": "code",
   "execution_count": null,
   "metadata": {},
   "outputs": [],
   "source": []
  },
  {
   "cell_type": "code",
   "execution_count": null,
   "metadata": {},
   "outputs": [],
   "source": []
  },
  {
   "cell_type": "code",
   "execution_count": null,
   "metadata": {},
   "outputs": [],
   "source": []
  },
  {
   "cell_type": "code",
   "execution_count": null,
   "metadata": {},
   "outputs": [],
   "source": []
  },
  {
   "cell_type": "code",
   "execution_count": null,
   "metadata": {},
   "outputs": [],
   "source": []
  },
  {
   "cell_type": "code",
   "execution_count": null,
   "metadata": {},
   "outputs": [],
   "source": []
  },
  {
   "cell_type": "code",
   "execution_count": null,
   "metadata": {},
   "outputs": [],
   "source": []
  },
  {
   "cell_type": "code",
   "execution_count": null,
   "metadata": {},
   "outputs": [],
   "source": []
  },
  {
   "cell_type": "code",
   "execution_count": null,
   "metadata": {},
   "outputs": [],
   "source": []
  },
  {
   "cell_type": "code",
   "execution_count": null,
   "metadata": {},
   "outputs": [],
   "source": []
  },
  {
   "cell_type": "code",
   "execution_count": null,
   "metadata": {},
   "outputs": [],
   "source": []
  }
 ],
 "metadata": {
  "kernelspec": {
   "display_name": "myenv",
   "language": "python",
   "name": "python3"
  },
  "language_info": {
   "codemirror_mode": {
    "name": "ipython",
    "version": 3
   },
   "file_extension": ".py",
   "mimetype": "text/x-python",
   "name": "python",
   "nbconvert_exporter": "python",
   "pygments_lexer": "ipython3",
   "version": "3.9.21"
  }
 },
 "nbformat": 4,
 "nbformat_minor": 2
}
