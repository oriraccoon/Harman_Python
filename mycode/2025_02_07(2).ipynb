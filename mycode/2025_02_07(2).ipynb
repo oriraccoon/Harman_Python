{
 "cells": [
  {
   "cell_type": "markdown",
   "id": "9984667e-7d41-49ee-b358-ea47072713cd",
   "metadata": {},
   "source": [
    "# OOP(Object Oriented Programming)\n",
    "## 객체지향프로그래밍\n",
    "### 특징\n",
    ">1. 추상화(Abstraction)\n",
    ": 딱 보면 떠올릴 수 있게\n",
    ">2. 캡슐화(Encapsilation) : 실제 구현 내용을 외부로부터 감추는 기법(은닉)\n",
    ">3. 상속(Inheritance) : 물려받음 부모 클래스 등으로부터\n",
    ">4. 다형성(polymorphism) : 하나의 함수로 여러 기능 구현 가능"
   ]
  },
  {
   "cell_type": "code",
   "execution_count": 18,
   "id": "afa57345-2a4f-4dd3-bb55-ab94b4737229",
   "metadata": {},
   "outputs": [],
   "source": [
    "# class name():\n",
    "# class name(parents class)\n",
    "class Rabbit(Mammal):\n",
    "    # field, 멤버 변수\n",
    "    ear = \"긴 귀\"\n",
    "    appr = \"복실복실\"\n",
    "\n",
    "    # function, 멤버 함수\n",
    "    # self -> Rabbit 클래스 내 속해 있음을 알림\n",
    "    # self 호출 시 Rabbit()가 반환\n",
    "    def move(self):\n",
    "        print(\"뛰어다닙니다.\")\n",
    "    # 부모의 함수를 자식클래스에서 재정의\n",
    "    # function overriding\n",
    "    # 동작 순서\n",
    "    # 호출 -> 해당 클래스 확인 -> 부모 클래스 확인 -> 부모 클래스 확인 -> ....\n",
    "    # 이렇게 하나를 호출했지만 다양한 결과가 나오는 걸 다형성이라 함\n",
    "    def baby(self):\n",
    "        print(\"4~10마리 낳음\")\n",
    "class Cat(Mammal):\n",
    "    apr = (\"발톱\", \"수염\")\n",
    "    hate = \"사워\"\n",
    "\n",
    "    def move(self):\n",
    "        print(\"와다다\")\n",
    "    def cry(self):\n",
    "        print(\"야옹\")"
   ]
  },
  {
   "cell_type": "code",
   "execution_count": 19,
   "id": "a599cf40-20ed-485e-958c-40cc8fba6ff1",
   "metadata": {},
   "outputs": [
    {
     "name": "stdout",
     "output_type": "stream",
     "text": [
      "긴 귀\n",
      "복실복실\n",
      "뛰어다닙니다.\n",
      "사족보행\n",
      "4~10마리 낳음\n",
      "('발톱', '수염')\n",
      "사워\n",
      "와다다\n",
      "야옹\n"
     ]
    },
    {
     "ename": "AttributeError",
     "evalue": "'Cat' object has no attribute '__baby'",
     "output_type": "error",
     "traceback": [
      "\u001b[1;31m---------------------------------------------------------------------------\u001b[0m",
      "\u001b[1;31mAttributeError\u001b[0m                            Traceback (most recent call last)",
      "Cell \u001b[1;32mIn[19], line 16\u001b[0m\n\u001b[0;32m     14\u001b[0m kitty\u001b[38;5;241m.\u001b[39mmove()\n\u001b[0;32m     15\u001b[0m kitty\u001b[38;5;241m.\u001b[39mcry()\n\u001b[1;32m---> 16\u001b[0m \u001b[43mkitty\u001b[49m\u001b[38;5;241;43m.\u001b[39;49m\u001b[43m__baby\u001b[49m()\n\u001b[0;32m     17\u001b[0m \u001b[38;5;28mprint\u001b[39m(coco\u001b[38;5;241m.\u001b[39mapr)\n\u001b[0;32m     18\u001b[0m \u001b[38;5;28mprint\u001b[39m(coco\u001b[38;5;241m.\u001b[39mhate)\n",
      "\u001b[1;31mAttributeError\u001b[0m: 'Cat' object has no attribute '__baby'"
     ]
    }
   ],
   "source": [
    "# instance 생성 (클래스로부터 만들어진 실체화된 객체)\n",
    "bunny = Rabbit()\n",
    "kitty = Cat()\n",
    "coco = Cat()\n",
    "# 멤버 접근법\n",
    "# 인스턴스명.멤버명\n",
    "print(bunny.ear)\n",
    "print(bunny.appr)\n",
    "bunny.move()\n",
    "bunny.walk() # 상속 받음\n",
    "bunny.baby() \n",
    "print(kitty.apr)\n",
    "print(kitty.hate)\n",
    "kitty.move()\n",
    "kitty.cry()\n",
    "kitty.__baby()\n",
    "print(coco.apr)\n",
    "print(coco.hate)\n",
    "coco.move()\n",
    "coco.cry()\n",
    "# 추상화를 통해서 클래스 설계!!\n",
    "# 추상화(Abstraction)\n",
    "# 객체의 공통적인 특징(속성)을 추출하는 행위"
   ]
  },
  {
   "cell_type": "code",
   "execution_count": null,
   "id": "62fca583-1c60-46fe-86fe-b1751e891d5e",
   "metadata": {},
   "outputs": [],
   "source": [
    "class Hippo():\n",
    "    apr = (\"큰 입\", \"짧은 꼬리\")\n",
    "\n",
    "    def eat(self):\n",
    "        print(\"물먹음\")\n",
    "\n",
    "    def cry(self):\n",
    "        print(\"으헝헝\")"
   ]
  },
  {
   "cell_type": "code",
   "execution_count": null,
   "id": "88a6a178-d54e-423a-a6f5-735913036835",
   "metadata": {},
   "outputs": [],
   "source": [
    "hippy = Hippo()\n",
    "print(hippy.apr)\n",
    "hippy.cry()\n",
    "hippy.eat()"
   ]
  },
  {
   "cell_type": "code",
   "execution_count": 17,
   "id": "b61515ca-667f-486f-a38e-687a98b7768f",
   "metadata": {},
   "outputs": [],
   "source": [
    "# 3개의 클래스 모두 다음을 추가\n",
    "# baby() 함수 -> print(\"새끼를 낳다\")\n",
    "# walk 함수 -> print(\"사족보행\")\n",
    "# 반복되니 편하게 할 방법을 찾아야 함\n",
    "\n",
    "# 포유류 클래스 설계\n",
    "# 상속(Inheritance)\n",
    "# 부모클래스의 멤버 변수, 멤버 함수를\n",
    "# 유전 형질적으로 물려 받아 사용하는 행위\n",
    "\n",
    "# 이 때,\n",
    "# 상속 받는 클래스 -> 자식 클래스, 서브 클래스, 하위 클래스\n",
    "# 상속을 당하는 클래스 -> 부모 클래스, 슈퍼 클래스, 상위 클래스\n",
    "\n",
    "class Mammal():\n",
    "    \n",
    "    def __baby(self):\n",
    "        print(\"새끼를 낳다\")\n",
    "    def walk(self):\n",
    "        print(\"사족보행\")"
   ]
  },
  {
   "cell_type": "code",
   "execution_count": 1,
   "id": "4d10b823-b27e-4ab4-954a-71b32304721e",
   "metadata": {},
   "outputs": [
    {
     "name": "stdout",
     "output_type": "stream",
     "text": [
      "name : kjh, age : 20, tel :  \n",
      "name : KJH, age : 20, tel : 010.1234.5678\n"
     ]
    }
   ],
   "source": [
    "# contact.py 를 호출해서\n",
    "# 안에 있는 Addr() 클래스를 통해\n",
    "# c1 인스턴스를 생성하자\n",
    "\n",
    "import contact as ct\n",
    "\n",
    "c1 = ct.Addr()\n",
    "c1.show_addr()\n",
    "c1.name = \"KJH\"\n",
    "c1.age = 20\n",
    "c1.tel = \"010.1234.5678\"\n",
    "c1.show_addr()"
   ]
  },
  {
   "cell_type": "code",
   "execution_count": 3,
   "id": "be2199f8-8099-4130-a0bd-0272b0ccec5c",
   "metadata": {},
   "outputs": [
    {
     "name": "stdout",
     "output_type": "stream",
     "text": [
      "name :  , age : 0, tel :  \n",
      "name : KJH, age : 20, tel : 010.1234.5678\n",
      "name : 수지, age : 32, tel : 010.9876.5432\n",
      "name : 수지, age : 30, tel : 010.9876.5432\n"
     ]
    }
   ],
   "source": [
    "from contact import Addr\n",
    "\n",
    "c1 = Addr()\n",
    "c1.show_addr()\n",
    "c1.name = \"KJH\"\n",
    "c1.age = 20\n",
    "c1.tel = \"010.1234.5678\"\n",
    "c1.show_addr()\n",
    "\n",
    "c2 = Addr()\n",
    "c2.name = \"수지\"\n",
    "c2.age = 32\n",
    "c2.tel = \"010.9876.5432\"\n",
    "c2.show_addr()\n",
    "c2.age -= 2\n",
    "c2.show_addr()"
   ]
  },
  {
   "cell_type": "code",
   "execution_count": 4,
   "id": "26f569bc-c56b-4023-bb0b-3893792adda2",
   "metadata": {},
   "outputs": [
    {
     "name": "stdout",
     "output_type": "stream",
     "text": [
      "name : kjh, age : 20, tel :  \n",
      "name : KJH, age : 20, tel : 010.1234.5678\n"
     ]
    }
   ],
   "source": [
    "# contact.py 를 호출해서\n",
    "# 안에 있는 Addr() 클래스를 통해\n",
    "# c1 인스턴스를 생성하자\n",
    "\n",
    "import contact as ct\n",
    "\n",
    "c3 = ct.Addr(\"kjh\", 20)\n",
    "c3.show_addr()\n",
    "c3.name = \"KJH\"\n",
    "c3.age = 20\n",
    "c3.tel = \"010.1234.5678\"\n",
    "c3.show_addr()\n",
    "\n",
    "# VO (Value Object) : 사용자 정의 객체"
   ]
  },
  {
   "cell_type": "code",
   "execution_count": 1,
   "id": "dba7397b-66af-423d-a686-509a57307590",
   "metadata": {},
   "outputs": [
    {
     "name": "stdout",
     "output_type": "stream",
     "text": [
      "현재 잔액은 : 10000001입니다.\n"
     ]
    }
   ],
   "source": [
    "from bank import Piggy\n",
    "p1 = Piggy(1)\n",
    "# 접근 제어 (Access Modifier)\n",
    "# 1. private(__변수명) -> 해당 file 안에서만\n",
    "# 2. protected(_변수명) -> 같은 director, 상속관계\n",
    "# 3. public(변수명) -> 누구나 어디서나 접근 가능\n",
    "# p1.__money = 1000000000 -> 불가\n",
    "p1.deposit(10000000)\n",
    "p1.show_money()"
   ]
  },
  {
   "cell_type": "code",
   "execution_count": null,
   "id": "fcb7faec-cdc0-4d3f-a1d4-e87bb1e2e459",
   "metadata": {},
   "outputs": [],
   "source": []
  },
  {
   "cell_type": "code",
   "execution_count": null,
   "id": "862e2c60-a7b2-4515-b777-151326347c2f",
   "metadata": {},
   "outputs": [],
   "source": []
  },
  {
   "cell_type": "code",
   "execution_count": null,
   "id": "6e23d8a5-6092-4b35-bcb9-8f4c14f7adbd",
   "metadata": {},
   "outputs": [],
   "source": []
  },
  {
   "cell_type": "code",
   "execution_count": null,
   "id": "5961c884-2b99-4687-af97-99a5b33f40cb",
   "metadata": {},
   "outputs": [],
   "source": []
  },
  {
   "cell_type": "code",
   "execution_count": null,
   "id": "48f26d06-f729-4e41-b64a-da220a322f7f",
   "metadata": {},
   "outputs": [],
   "source": []
  },
  {
   "cell_type": "code",
   "execution_count": null,
   "id": "00dc2dc0-f1e0-4844-b2e2-b1844f95c406",
   "metadata": {},
   "outputs": [],
   "source": []
  },
  {
   "cell_type": "code",
   "execution_count": null,
   "id": "2ce14d7f-cee9-4f43-98b8-281215c515df",
   "metadata": {},
   "outputs": [],
   "source": []
  },
  {
   "cell_type": "code",
   "execution_count": null,
   "id": "8d81fb02-a31d-4fbb-b2e6-395d6801947b",
   "metadata": {},
   "outputs": [],
   "source": []
  },
  {
   "cell_type": "code",
   "execution_count": null,
   "id": "93e10751-4480-49b0-812b-8547efdab56f",
   "metadata": {},
   "outputs": [],
   "source": []
  }
 ],
 "metadata": {
  "kernelspec": {
   "display_name": "Python 3 (ipykernel)",
   "language": "python",
   "name": "python3"
  },
  "language_info": {
   "codemirror_mode": {
    "name": "ipython",
    "version": 3
   },
   "file_extension": ".py",
   "mimetype": "text/x-python",
   "name": "python",
   "nbconvert_exporter": "python",
   "pygments_lexer": "ipython3",
   "version": "3.9.21"
  }
 },
 "nbformat": 4,
 "nbformat_minor": 5
}
